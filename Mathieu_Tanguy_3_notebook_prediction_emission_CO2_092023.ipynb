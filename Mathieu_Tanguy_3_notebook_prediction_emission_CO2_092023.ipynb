{
 "cells": [
  {
   "cell_type": "markdown",
   "id": "fa37ef32",
   "metadata": {},
   "source": [
    "### import des librairies"
   ]
  },
  {
   "cell_type": "code",
   "execution_count": 1,
   "id": "1d78d172",
   "metadata": {
    "scrolled": true
   },
   "outputs": [],
   "source": [
    "import pandas as pd\n",
    "import numpy as np \n",
    "import matplotlib.pyplot as plt\n",
    "import seaborn as sns\n",
    "import time\n",
    "from sklearn.feature_selection import SelectKBest,chi2\n",
    "import statsmodels\n",
    "from sklearn.impute import KNNImputer\n",
    "from sklearn import metrics\n",
    "from sklearn.compose import ColumnTransformer\n",
    "from sklearn.feature_selection import RFE,RFECV\n",
    "from sklearn.neighbors import KNeighborsClassifier,KNeighborsRegressor\n",
    "from sklearn.model_selection import train_test_split, cross_val_score, KFold, StratifiedKFold, validation_curve,learning_curve\n",
    "from sklearn.linear_model import SGDRegressor, LinearRegression, Ridge, Lasso, ElasticNet\n",
    "from sklearn.dummy import DummyRegressor\n",
    "from sklearn.pipeline import make_pipeline, Pipeline\n",
    "from sklearn.metrics import accuracy_score, f1_score , mean_absolute_percentage_error\n",
    "from sklearn.metrics import mean_squared_error, r2_score, median_absolute_error, mean_absolute_error\n",
    "from sklearn.preprocessing import StandardScaler,OneHotEncoder,RobustScaler, OrdinalEncoder,PowerTransformer,PolynomialFeatures\n",
    "from sklearn.model_selection import RandomizedSearchCV,GridSearchCV\n",
    "from sklearn.ensemble import RandomForestRegressor,GradientBoostingRegressor\n",
    "from sklearn.svm import SVR\n",
    "from scipy import spatial,stats\n",
    "from scipy.stats import kstest\n",
    "import folium\n",
    "import warnings\n",
    "warnings.filterwarnings('ignore')"
   ]
  },
  {
   "cell_type": "markdown",
   "id": "fdaea06c",
   "metadata": {},
   "source": [
    "## Prédiction des emissions de CO2 sans Electicity ni NaturalGas"
   ]
  },
  {
   "cell_type": "code",
   "execution_count": 148,
   "id": "aea65f5f",
   "metadata": {},
   "outputs": [],
   "source": [
    "new_df= df2.copy()"
   ]
  },
  {
   "cell_type": "code",
   "execution_count": 149,
   "id": "b11b25f1",
   "metadata": {},
   "outputs": [],
   "source": [
    "y = new_df['TotalGHGEmissions']\n",
    "X = new_df.drop(['SiteEnergyUseWN(kBtu)','TotalGHGEmissions',\"Electricity(kBtu)\",\"NaturalGas(kBtu)\"], axis=1)\n",
    "categorical_columns = X.select_dtypes(['category','object']).columns.tolist()\n",
    "numerical_columns = X.select_dtypes(['int64','float64']).columns.tolist()"
   ]
  },
  {
   "cell_type": "code",
   "execution_count": 150,
   "id": "ca3adaa8",
   "metadata": {
    "scrolled": false
   },
   "outputs": [],
   "source": [
    "column_transformer = ColumnTransformer(\n",
    "    transformers=[\n",
    "        ('num', RobustScaler(), numerical_columns),\n",
    "        ('cat', OrdinalEncoder(), categorical_columns)\n",
    "    ],\n",
    "    remainder='passthrough')\n"
   ]
  },
  {
   "cell_type": "code",
   "execution_count": 151,
   "id": "0b99b160",
   "metadata": {},
   "outputs": [
    {
     "data": {
      "text/html": [
       "<div>\n",
       "<style scoped>\n",
       "    .dataframe tbody tr th:only-of-type {\n",
       "        vertical-align: middle;\n",
       "    }\n",
       "\n",
       "    .dataframe tbody tr th {\n",
       "        vertical-align: top;\n",
       "    }\n",
       "\n",
       "    .dataframe thead th {\n",
       "        text-align: right;\n",
       "    }\n",
       "</style>\n",
       "<table border=\"1\" class=\"dataframe\">\n",
       "  <thead>\n",
       "    <tr style=\"text-align: right;\">\n",
       "      <th></th>\n",
       "      <th>OSEBuildingID</th>\n",
       "      <th>DataYear</th>\n",
       "      <th>BuildingType</th>\n",
       "      <th>PrimaryPropertyType</th>\n",
       "      <th>CouncilDistrictCode</th>\n",
       "      <th>Neighborhood</th>\n",
       "      <th>Latitude</th>\n",
       "      <th>Longitude</th>\n",
       "      <th>YearBuilt</th>\n",
       "      <th>NumberofBuildings</th>\n",
       "      <th>NumberofFloors</th>\n",
       "      <th>PropertyGFATotal</th>\n",
       "      <th>LargestPropertyUseType</th>\n",
       "      <th>ENERGYSTARScore</th>\n",
       "      <th>SourceEUI(kBtu/sf)</th>\n",
       "      <th>SteamUse(kBtu)</th>\n",
       "    </tr>\n",
       "  </thead>\n",
       "  <tbody>\n",
       "    <tr>\n",
       "      <th>0</th>\n",
       "      <td>10</td>\n",
       "      <td>2016</td>\n",
       "      <td>NonResidential</td>\n",
       "      <td>Hotel/Senior Care/Housing</td>\n",
       "      <td>7</td>\n",
       "      <td>DOWNTOWN</td>\n",
       "      <td>47.61390</td>\n",
       "      <td>-122.33283</td>\n",
       "      <td>1926</td>\n",
       "      <td>1.0</td>\n",
       "      <td>11</td>\n",
       "      <td>83008</td>\n",
       "      <td>Hotel/Senior Care/Housing</td>\n",
       "      <td>27.000000</td>\n",
       "      <td>146.600006</td>\n",
       "      <td>0.0</td>\n",
       "    </tr>\n",
       "    <tr>\n",
       "      <th>1</th>\n",
       "      <td>28</td>\n",
       "      <td>2016</td>\n",
       "      <td>SPS-District K-12</td>\n",
       "      <td>Education</td>\n",
       "      <td>2</td>\n",
       "      <td>SOUTHEAST</td>\n",
       "      <td>47.54576</td>\n",
       "      <td>-122.26853</td>\n",
       "      <td>1961</td>\n",
       "      <td>1.0</td>\n",
       "      <td>2</td>\n",
       "      <td>56228</td>\n",
       "      <td>Education</td>\n",
       "      <td>95.000000</td>\n",
       "      <td>60.700001</td>\n",
       "      <td>0.0</td>\n",
       "    </tr>\n",
       "    <tr>\n",
       "      <th>2</th>\n",
       "      <td>29</td>\n",
       "      <td>2016</td>\n",
       "      <td>NonResidential</td>\n",
       "      <td>Hotel/Senior Care/Housing</td>\n",
       "      <td>4</td>\n",
       "      <td>NORTHEAST</td>\n",
       "      <td>47.65959</td>\n",
       "      <td>-122.31755</td>\n",
       "      <td>2001</td>\n",
       "      <td>1.0</td>\n",
       "      <td>6</td>\n",
       "      <td>88592</td>\n",
       "      <td>Hotel/Senior Care/Housing</td>\n",
       "      <td>84.000000</td>\n",
       "      <td>148.000000</td>\n",
       "      <td>0.0</td>\n",
       "    </tr>\n",
       "    <tr>\n",
       "      <th>3</th>\n",
       "      <td>31</td>\n",
       "      <td>2016</td>\n",
       "      <td>NonResidential</td>\n",
       "      <td>Other</td>\n",
       "      <td>7</td>\n",
       "      <td>DOWNTOWN</td>\n",
       "      <td>47.61500</td>\n",
       "      <td>-122.33081</td>\n",
       "      <td>1930</td>\n",
       "      <td>1.0</td>\n",
       "      <td>2</td>\n",
       "      <td>67224</td>\n",
       "      <td>Retail</td>\n",
       "      <td>65.417965</td>\n",
       "      <td>61.200001</td>\n",
       "      <td>0.0</td>\n",
       "    </tr>\n",
       "    <tr>\n",
       "      <th>4</th>\n",
       "      <td>34</td>\n",
       "      <td>2016</td>\n",
       "      <td>SPS-District K-12</td>\n",
       "      <td>Education</td>\n",
       "      <td>3</td>\n",
       "      <td>CENTRAL</td>\n",
       "      <td>47.62266</td>\n",
       "      <td>-122.30547</td>\n",
       "      <td>1955</td>\n",
       "      <td>1.0</td>\n",
       "      <td>1</td>\n",
       "      <td>126351</td>\n",
       "      <td>Education</td>\n",
       "      <td>65.417965</td>\n",
       "      <td>0.000000</td>\n",
       "      <td>0.0</td>\n",
       "    </tr>\n",
       "    <tr>\n",
       "      <th>...</th>\n",
       "      <td>...</td>\n",
       "      <td>...</td>\n",
       "      <td>...</td>\n",
       "      <td>...</td>\n",
       "      <td>...</td>\n",
       "      <td>...</td>\n",
       "      <td>...</td>\n",
       "      <td>...</td>\n",
       "      <td>...</td>\n",
       "      <td>...</td>\n",
       "      <td>...</td>\n",
       "      <td>...</td>\n",
       "      <td>...</td>\n",
       "      <td>...</td>\n",
       "      <td>...</td>\n",
       "      <td>...</td>\n",
       "    </tr>\n",
       "    <tr>\n",
       "      <th>1329</th>\n",
       "      <td>50221</td>\n",
       "      <td>2016</td>\n",
       "      <td>Nonresidential COS</td>\n",
       "      <td>Other</td>\n",
       "      <td>1</td>\n",
       "      <td>DELRIDGE</td>\n",
       "      <td>47.54067</td>\n",
       "      <td>-122.37441</td>\n",
       "      <td>1982</td>\n",
       "      <td>1.0</td>\n",
       "      <td>1</td>\n",
       "      <td>18261</td>\n",
       "      <td>Leisure</td>\n",
       "      <td>65.417965</td>\n",
       "      <td>126.000000</td>\n",
       "      <td>0.0</td>\n",
       "    </tr>\n",
       "    <tr>\n",
       "      <th>1330</th>\n",
       "      <td>50222</td>\n",
       "      <td>2016</td>\n",
       "      <td>Nonresidential COS</td>\n",
       "      <td>Office</td>\n",
       "      <td>2</td>\n",
       "      <td>GREATER DUWAMISH</td>\n",
       "      <td>47.56722</td>\n",
       "      <td>-122.31154</td>\n",
       "      <td>1990</td>\n",
       "      <td>1.0</td>\n",
       "      <td>1</td>\n",
       "      <td>12294</td>\n",
       "      <td>Office</td>\n",
       "      <td>46.000000</td>\n",
       "      <td>161.699997</td>\n",
       "      <td>0.0</td>\n",
       "    </tr>\n",
       "    <tr>\n",
       "      <th>1331</th>\n",
       "      <td>50223</td>\n",
       "      <td>2016</td>\n",
       "      <td>Nonresidential COS</td>\n",
       "      <td>Other</td>\n",
       "      <td>2</td>\n",
       "      <td>DOWNTOWN</td>\n",
       "      <td>47.59625</td>\n",
       "      <td>-122.32283</td>\n",
       "      <td>2004</td>\n",
       "      <td>1.0</td>\n",
       "      <td>1</td>\n",
       "      <td>16000</td>\n",
       "      <td>Leisure</td>\n",
       "      <td>65.417965</td>\n",
       "      <td>114.199997</td>\n",
       "      <td>0.0</td>\n",
       "    </tr>\n",
       "    <tr>\n",
       "      <th>1332</th>\n",
       "      <td>50225</td>\n",
       "      <td>2016</td>\n",
       "      <td>Nonresidential COS</td>\n",
       "      <td>Mixed Use Property</td>\n",
       "      <td>1</td>\n",
       "      <td>GREATER DUWAMISH</td>\n",
       "      <td>47.52832</td>\n",
       "      <td>-122.32431</td>\n",
       "      <td>1989</td>\n",
       "      <td>1.0</td>\n",
       "      <td>1</td>\n",
       "      <td>14101</td>\n",
       "      <td>Leisure</td>\n",
       "      <td>65.417965</td>\n",
       "      <td>105.300003</td>\n",
       "      <td>0.0</td>\n",
       "    </tr>\n",
       "    <tr>\n",
       "      <th>1333</th>\n",
       "      <td>50226</td>\n",
       "      <td>2016</td>\n",
       "      <td>Nonresidential COS</td>\n",
       "      <td>Mixed Use Property</td>\n",
       "      <td>2</td>\n",
       "      <td>GREATER DUWAMISH</td>\n",
       "      <td>47.53939</td>\n",
       "      <td>-122.29536</td>\n",
       "      <td>1938</td>\n",
       "      <td>1.0</td>\n",
       "      <td>1</td>\n",
       "      <td>18258</td>\n",
       "      <td>Leisure</td>\n",
       "      <td>65.417965</td>\n",
       "      <td>115.800003</td>\n",
       "      <td>0.0</td>\n",
       "    </tr>\n",
       "  </tbody>\n",
       "</table>\n",
       "<p>1334 rows × 16 columns</p>\n",
       "</div>"
      ],
      "text/plain": [
       "      OSEBuildingID  DataYear        BuildingType        PrimaryPropertyType  \\\n",
       "0                10      2016      NonResidential  Hotel/Senior Care/Housing   \n",
       "1                28      2016   SPS-District K-12                  Education   \n",
       "2                29      2016      NonResidential  Hotel/Senior Care/Housing   \n",
       "3                31      2016      NonResidential                      Other   \n",
       "4                34      2016   SPS-District K-12                  Education   \n",
       "...             ...       ...                 ...                        ...   \n",
       "1329          50221      2016  Nonresidential COS                      Other   \n",
       "1330          50222      2016  Nonresidential COS                     Office   \n",
       "1331          50223      2016  Nonresidential COS                      Other   \n",
       "1332          50225      2016  Nonresidential COS         Mixed Use Property   \n",
       "1333          50226      2016  Nonresidential COS         Mixed Use Property   \n",
       "\n",
       "     CouncilDistrictCode      Neighborhood  Latitude  Longitude  YearBuilt  \\\n",
       "0                      7          DOWNTOWN  47.61390 -122.33283       1926   \n",
       "1                      2         SOUTHEAST  47.54576 -122.26853       1961   \n",
       "2                      4         NORTHEAST  47.65959 -122.31755       2001   \n",
       "3                      7          DOWNTOWN  47.61500 -122.33081       1930   \n",
       "4                      3           CENTRAL  47.62266 -122.30547       1955   \n",
       "...                  ...               ...       ...        ...        ...   \n",
       "1329                   1          DELRIDGE  47.54067 -122.37441       1982   \n",
       "1330                   2  GREATER DUWAMISH  47.56722 -122.31154       1990   \n",
       "1331                   2          DOWNTOWN  47.59625 -122.32283       2004   \n",
       "1332                   1  GREATER DUWAMISH  47.52832 -122.32431       1989   \n",
       "1333                   2  GREATER DUWAMISH  47.53939 -122.29536       1938   \n",
       "\n",
       "      NumberofBuildings  NumberofFloors  PropertyGFATotal  \\\n",
       "0                   1.0              11             83008   \n",
       "1                   1.0               2             56228   \n",
       "2                   1.0               6             88592   \n",
       "3                   1.0               2             67224   \n",
       "4                   1.0               1            126351   \n",
       "...                 ...             ...               ...   \n",
       "1329                1.0               1             18261   \n",
       "1330                1.0               1             12294   \n",
       "1331                1.0               1             16000   \n",
       "1332                1.0               1             14101   \n",
       "1333                1.0               1             18258   \n",
       "\n",
       "         LargestPropertyUseType  ENERGYSTARScore  SourceEUI(kBtu/sf)  \\\n",
       "0     Hotel/Senior Care/Housing        27.000000          146.600006   \n",
       "1                     Education        95.000000           60.700001   \n",
       "2     Hotel/Senior Care/Housing        84.000000          148.000000   \n",
       "3                        Retail        65.417965           61.200001   \n",
       "4                     Education        65.417965            0.000000   \n",
       "...                         ...              ...                 ...   \n",
       "1329                    Leisure        65.417965          126.000000   \n",
       "1330                     Office        46.000000          161.699997   \n",
       "1331                    Leisure        65.417965          114.199997   \n",
       "1332                    Leisure        65.417965          105.300003   \n",
       "1333                    Leisure        65.417965          115.800003   \n",
       "\n",
       "      SteamUse(kBtu)  \n",
       "0                0.0  \n",
       "1                0.0  \n",
       "2                0.0  \n",
       "3                0.0  \n",
       "4                0.0  \n",
       "...              ...  \n",
       "1329             0.0  \n",
       "1330             0.0  \n",
       "1331             0.0  \n",
       "1332             0.0  \n",
       "1333             0.0  \n",
       "\n",
       "[1334 rows x 16 columns]"
      ]
     },
     "execution_count": 151,
     "metadata": {},
     "output_type": "execute_result"
    }
   ],
   "source": [
    "X"
   ]
  },
  {
   "cell_type": "code",
   "execution_count": 152,
   "id": "d8a3326e",
   "metadata": {
    "scrolled": false
   },
   "outputs": [],
   "source": [
    "pipeline = Pipeline([\n",
    "    ('column_transform', column_transformer)\n",
    "])\n",
    "\n",
    "X= pipeline.fit_transform(X)\n"
   ]
  },
  {
   "cell_type": "markdown",
   "id": "130f7e96",
   "metadata": {},
   "source": [
    "### Passage dans PowerTransform pour plus normalisé les données afin d'améliorer notre résultat"
   ]
  },
  {
   "cell_type": "code",
   "execution_count": 153,
   "id": "657c01b4",
   "metadata": {},
   "outputs": [],
   "source": [
    "pt = PowerTransformer()\n",
    "X= pt.fit_transform(X)\n"
   ]
  },
  {
   "cell_type": "code",
   "execution_count": 154,
   "id": "72ee5fb2",
   "metadata": {},
   "outputs": [
    {
     "data": {
      "text/html": [
       "<div>\n",
       "<style scoped>\n",
       "    .dataframe tbody tr th:only-of-type {\n",
       "        vertical-align: middle;\n",
       "    }\n",
       "\n",
       "    .dataframe tbody tr th {\n",
       "        vertical-align: top;\n",
       "    }\n",
       "\n",
       "    .dataframe thead th {\n",
       "        text-align: right;\n",
       "    }\n",
       "</style>\n",
       "<table border=\"1\" class=\"dataframe\">\n",
       "  <thead>\n",
       "    <tr style=\"text-align: right;\">\n",
       "      <th></th>\n",
       "      <th>OSEBuildingID</th>\n",
       "      <th>DataYear</th>\n",
       "      <th>Latitude</th>\n",
       "      <th>Longitude</th>\n",
       "      <th>YearBuilt</th>\n",
       "      <th>NumberofBuildings</th>\n",
       "      <th>NumberofFloors</th>\n",
       "      <th>PropertyGFATotal</th>\n",
       "      <th>ENERGYSTARScore</th>\n",
       "      <th>SourceEUI(kBtu/sf)</th>\n",
       "      <th>SteamUse(kBtu)</th>\n",
       "      <th>BuildingType</th>\n",
       "      <th>PrimaryPropertyType</th>\n",
       "      <th>CouncilDistrictCode</th>\n",
       "      <th>Neighborhood</th>\n",
       "      <th>LargestPropertyUseType</th>\n",
       "    </tr>\n",
       "  </thead>\n",
       "  <tbody>\n",
       "    <tr>\n",
       "      <th>0</th>\n",
       "      <td>-1.400009</td>\n",
       "      <td>0.0</td>\n",
       "      <td>0.034520</td>\n",
       "      <td>-0.028133</td>\n",
       "      <td>-1.034142</td>\n",
       "      <td>0.05244</td>\n",
       "      <td>2.086677</td>\n",
       "      <td>0.987444</td>\n",
       "      <td>-1.546863</td>\n",
       "      <td>0.429093</td>\n",
       "      <td>-0.186844</td>\n",
       "      <td>-0.231040</td>\n",
       "      <td>-1.169739</td>\n",
       "      <td>1.224761</td>\n",
       "      <td>-0.818371</td>\n",
       "      <td>-0.760356</td>\n",
       "    </tr>\n",
       "    <tr>\n",
       "      <th>1</th>\n",
       "      <td>-1.398639</td>\n",
       "      <td>0.0</td>\n",
       "      <td>-1.445564</td>\n",
       "      <td>2.720835</td>\n",
       "      <td>-0.033746</td>\n",
       "      <td>0.05244</td>\n",
       "      <td>-0.106355</td>\n",
       "      <td>0.465771</td>\n",
       "      <td>1.556163</td>\n",
       "      <td>-0.832124</td>\n",
       "      <td>-0.186844</td>\n",
       "      <td>2.746108</td>\n",
       "      <td>-1.655990</td>\n",
       "      <td>-0.970059</td>\n",
       "      <td>1.777716</td>\n",
       "      <td>-1.674331</td>\n",
       "    </tr>\n",
       "    <tr>\n",
       "      <th>2</th>\n",
       "      <td>-1.398563</td>\n",
       "      <td>0.0</td>\n",
       "      <td>0.908314</td>\n",
       "      <td>0.595443</td>\n",
       "      <td>1.336749</td>\n",
       "      <td>0.05244</td>\n",
       "      <td>1.434264</td>\n",
       "      <td>1.061813</td>\n",
       "      <td>0.809600</td>\n",
       "      <td>0.443196</td>\n",
       "      <td>-0.186844</td>\n",
       "      <td>-0.231040</td>\n",
       "      <td>-1.169739</td>\n",
       "      <td>0.091775</td>\n",
       "      <td>1.195875</td>\n",
       "      <td>-0.760356</td>\n",
       "    </tr>\n",
       "    <tr>\n",
       "      <th>3</th>\n",
       "      <td>-1.398411</td>\n",
       "      <td>0.0</td>\n",
       "      <td>0.056632</td>\n",
       "      <td>0.052646</td>\n",
       "      <td>-0.926985</td>\n",
       "      <td>0.05244</td>\n",
       "      <td>-0.106355</td>\n",
       "      <td>0.722249</td>\n",
       "      <td>-0.224383</td>\n",
       "      <td>-0.822164</td>\n",
       "      <td>-0.186844</td>\n",
       "      <td>-0.231040</td>\n",
       "      <td>0.015339</td>\n",
       "      <td>1.224761</td>\n",
       "      <td>-0.818371</td>\n",
       "      <td>1.793325</td>\n",
       "    </tr>\n",
       "    <tr>\n",
       "      <th>4</th>\n",
       "      <td>-1.398182</td>\n",
       "      <td>0.0</td>\n",
       "      <td>0.208887</td>\n",
       "      <td>1.104696</td>\n",
       "      <td>-0.216883</td>\n",
       "      <td>0.05244</td>\n",
       "      <td>-1.214694</td>\n",
       "      <td>1.412947</td>\n",
       "      <td>-0.224383</td>\n",
       "      <td>-2.274072</td>\n",
       "      <td>-0.186844</td>\n",
       "      <td>2.746108</td>\n",
       "      <td>-1.655990</td>\n",
       "      <td>-0.389172</td>\n",
       "      <td>-1.673004</td>\n",
       "      <td>-1.674331</td>\n",
       "    </tr>\n",
       "    <tr>\n",
       "      <th>...</th>\n",
       "      <td>...</td>\n",
       "      <td>...</td>\n",
       "      <td>...</td>\n",
       "      <td>...</td>\n",
       "      <td>...</td>\n",
       "      <td>...</td>\n",
       "      <td>...</td>\n",
       "      <td>...</td>\n",
       "      <td>...</td>\n",
       "      <td>...</td>\n",
       "      <td>...</td>\n",
       "      <td>...</td>\n",
       "      <td>...</td>\n",
       "      <td>...</td>\n",
       "      <td>...</td>\n",
       "      <td>...</td>\n",
       "    </tr>\n",
       "    <tr>\n",
       "      <th>1329</th>\n",
       "      <td>2.557330</td>\n",
       "      <td>0.0</td>\n",
       "      <td>-1.563315</td>\n",
       "      <td>-1.604818</td>\n",
       "      <td>0.655475</td>\n",
       "      <td>0.05244</td>\n",
       "      <td>-1.214694</td>\n",
       "      <td>-1.642583</td>\n",
       "      <td>-0.224383</td>\n",
       "      <td>0.203285</td>\n",
       "      <td>-0.186844</td>\n",
       "      <td>1.781773</td>\n",
       "      <td>0.015339</td>\n",
       "      <td>-1.748768</td>\n",
       "      <td>-1.224536</td>\n",
       "      <td>-0.337346</td>\n",
       "    </tr>\n",
       "    <tr>\n",
       "      <th>1330</th>\n",
       "      <td>2.557411</td>\n",
       "      <td>0.0</td>\n",
       "      <td>-0.958907</td>\n",
       "      <td>0.847306</td>\n",
       "      <td>0.936199</td>\n",
       "      <td>0.05244</td>\n",
       "      <td>-1.214694</td>\n",
       "      <td>-2.254310</td>\n",
       "      <td>-0.973477</td>\n",
       "      <td>0.574208</td>\n",
       "      <td>-0.186844</td>\n",
       "      <td>1.781773</td>\n",
       "      <td>-0.156717</td>\n",
       "      <td>-0.970059</td>\n",
       "      <td>-0.085144</td>\n",
       "      <td>0.271123</td>\n",
       "    </tr>\n",
       "    <tr>\n",
       "      <th>1331</th>\n",
       "      <td>2.557493</td>\n",
       "      <td>0.0</td>\n",
       "      <td>-0.329146</td>\n",
       "      <td>0.376963</td>\n",
       "      <td>1.448756</td>\n",
       "      <td>0.05244</td>\n",
       "      <td>-1.214694</td>\n",
       "      <td>-1.863664</td>\n",
       "      <td>-0.224383</td>\n",
       "      <td>0.055388</td>\n",
       "      <td>-0.186844</td>\n",
       "      <td>1.781773</td>\n",
       "      <td>0.015339</td>\n",
       "      <td>-0.970059</td>\n",
       "      <td>-0.818371</td>\n",
       "      <td>-0.337346</td>\n",
       "    </tr>\n",
       "    <tr>\n",
       "      <th>1332</th>\n",
       "      <td>2.557655</td>\n",
       "      <td>0.0</td>\n",
       "      <td>-1.852451</td>\n",
       "      <td>0.316243</td>\n",
       "      <td>0.900606</td>\n",
       "      <td>0.05244</td>\n",
       "      <td>-1.214694</td>\n",
       "      <td>-2.059384</td>\n",
       "      <td>-0.224383</td>\n",
       "      <td>-0.067266</td>\n",
       "      <td>-0.186844</td>\n",
       "      <td>1.781773</td>\n",
       "      <td>-0.328008</td>\n",
       "      <td>-1.748768</td>\n",
       "      <td>-0.085144</td>\n",
       "      <td>-0.337346</td>\n",
       "    </tr>\n",
       "    <tr>\n",
       "      <th>1333</th>\n",
       "      <td>2.557737</td>\n",
       "      <td>0.0</td>\n",
       "      <td>-1.593059</td>\n",
       "      <td>1.539229</td>\n",
       "      <td>-0.707817</td>\n",
       "      <td>0.05244</td>\n",
       "      <td>-1.214694</td>\n",
       "      <td>-1.642868</td>\n",
       "      <td>-0.224383</td>\n",
       "      <td>0.076382</td>\n",
       "      <td>-0.186844</td>\n",
       "      <td>1.781773</td>\n",
       "      <td>-0.328008</td>\n",
       "      <td>-0.970059</td>\n",
       "      <td>-0.085144</td>\n",
       "      <td>-0.337346</td>\n",
       "    </tr>\n",
       "  </tbody>\n",
       "</table>\n",
       "<p>1334 rows × 16 columns</p>\n",
       "</div>"
      ],
      "text/plain": [
       "      OSEBuildingID  DataYear  Latitude  Longitude  YearBuilt  \\\n",
       "0         -1.400009       0.0  0.034520  -0.028133  -1.034142   \n",
       "1         -1.398639       0.0 -1.445564   2.720835  -0.033746   \n",
       "2         -1.398563       0.0  0.908314   0.595443   1.336749   \n",
       "3         -1.398411       0.0  0.056632   0.052646  -0.926985   \n",
       "4         -1.398182       0.0  0.208887   1.104696  -0.216883   \n",
       "...             ...       ...       ...        ...        ...   \n",
       "1329       2.557330       0.0 -1.563315  -1.604818   0.655475   \n",
       "1330       2.557411       0.0 -0.958907   0.847306   0.936199   \n",
       "1331       2.557493       0.0 -0.329146   0.376963   1.448756   \n",
       "1332       2.557655       0.0 -1.852451   0.316243   0.900606   \n",
       "1333       2.557737       0.0 -1.593059   1.539229  -0.707817   \n",
       "\n",
       "      NumberofBuildings  NumberofFloors  PropertyGFATotal  ENERGYSTARScore  \\\n",
       "0               0.05244        2.086677          0.987444        -1.546863   \n",
       "1               0.05244       -0.106355          0.465771         1.556163   \n",
       "2               0.05244        1.434264          1.061813         0.809600   \n",
       "3               0.05244       -0.106355          0.722249        -0.224383   \n",
       "4               0.05244       -1.214694          1.412947        -0.224383   \n",
       "...                 ...             ...               ...              ...   \n",
       "1329            0.05244       -1.214694         -1.642583        -0.224383   \n",
       "1330            0.05244       -1.214694         -2.254310        -0.973477   \n",
       "1331            0.05244       -1.214694         -1.863664        -0.224383   \n",
       "1332            0.05244       -1.214694         -2.059384        -0.224383   \n",
       "1333            0.05244       -1.214694         -1.642868        -0.224383   \n",
       "\n",
       "      SourceEUI(kBtu/sf)  SteamUse(kBtu)  BuildingType  PrimaryPropertyType  \\\n",
       "0               0.429093       -0.186844     -0.231040            -1.169739   \n",
       "1              -0.832124       -0.186844      2.746108            -1.655990   \n",
       "2               0.443196       -0.186844     -0.231040            -1.169739   \n",
       "3              -0.822164       -0.186844     -0.231040             0.015339   \n",
       "4              -2.274072       -0.186844      2.746108            -1.655990   \n",
       "...                  ...             ...           ...                  ...   \n",
       "1329            0.203285       -0.186844      1.781773             0.015339   \n",
       "1330            0.574208       -0.186844      1.781773            -0.156717   \n",
       "1331            0.055388       -0.186844      1.781773             0.015339   \n",
       "1332           -0.067266       -0.186844      1.781773            -0.328008   \n",
       "1333            0.076382       -0.186844      1.781773            -0.328008   \n",
       "\n",
       "      CouncilDistrictCode  Neighborhood  LargestPropertyUseType  \n",
       "0                1.224761     -0.818371               -0.760356  \n",
       "1               -0.970059      1.777716               -1.674331  \n",
       "2                0.091775      1.195875               -0.760356  \n",
       "3                1.224761     -0.818371                1.793325  \n",
       "4               -0.389172     -1.673004               -1.674331  \n",
       "...                   ...           ...                     ...  \n",
       "1329            -1.748768     -1.224536               -0.337346  \n",
       "1330            -0.970059     -0.085144                0.271123  \n",
       "1331            -0.970059     -0.818371               -0.337346  \n",
       "1332            -1.748768     -0.085144               -0.337346  \n",
       "1333            -0.970059     -0.085144               -0.337346  \n",
       "\n",
       "[1334 rows x 16 columns]"
      ]
     },
     "execution_count": 154,
     "metadata": {},
     "output_type": "execute_result"
    }
   ],
   "source": [
    "\n",
    "X = pd.DataFrame(X, columns=numerical_columns + categorical_columns)\n",
    "X"
   ]
  },
  {
   "cell_type": "code",
   "execution_count": 155,
   "id": "87486880",
   "metadata": {
    "scrolled": false
   },
   "outputs": [],
   "source": [
    "X_train, X_test, y_train, y_test = train_test_split(X, y,test_size = 0.25,random_state = 42)"
   ]
  },
  {
   "cell_type": "code",
   "execution_count": 156,
   "id": "d1984d1e",
   "metadata": {},
   "outputs": [
    {
     "data": {
      "text/plain": [
       "(1334, 16)"
      ]
     },
     "execution_count": 156,
     "metadata": {},
     "output_type": "execute_result"
    }
   ],
   "source": [
    "X.shape"
   ]
  },
  {
   "cell_type": "code",
   "execution_count": 157,
   "id": "8db23413",
   "metadata": {},
   "outputs": [
    {
     "data": {
      "text/plain": [
       "(1334,)"
      ]
     },
     "execution_count": 157,
     "metadata": {},
     "output_type": "execute_result"
    }
   ],
   "source": [
    "y.shape"
   ]
  },
  {
   "cell_type": "code",
   "execution_count": 158,
   "id": "b378cfba",
   "metadata": {},
   "outputs": [
    {
     "name": "stdout",
     "output_type": "stream",
     "text": [
      "0\n",
      "0\n",
      "0\n",
      "0\n"
     ]
    }
   ],
   "source": [
    "print(X_train.isna().sum().sum())\n",
    "print(X_test.isna().sum().sum())\n",
    "print(y_train.isna().sum().sum())\n",
    "print(y_test.isna().sum().sum())"
   ]
  },
  {
   "cell_type": "markdown",
   "id": "dcff9232",
   "metadata": {},
   "source": [
    "### Recherche des hyper parametres"
   ]
  },
  {
   "cell_type": "code",
   "execution_count": 159,
   "id": "8720ad24",
   "metadata": {},
   "outputs": [
    {
     "data": {
      "text/plain": [
       "{'LinearRegression': {'normalize': True},\n",
       " 'gboost': {'learning_rate': 0.1, 'n_estimators': 50},\n",
       " 'rfr': {'max_depth': 10, 'min_samples_split': 10, 'n_estimators': 100},\n",
       " 'KNeighborsRegressor': {'n_neighbors': 7},\n",
       " 'SVR': {'C': 10, 'epsilon': 0.2, 'kernel': 'linear'},\n",
       " 'ElasticNet': {'alpha': 0.1, 'l1_ratio': 0.9, 'normalize': False}}"
      ]
     },
     "execution_count": 159,
     "metadata": {},
     "output_type": "execute_result"
    }
   ],
   "source": [
    "models = [\n",
    "    ('LinearRegression', LinearRegression(), {'normalize': [True, False]}),\n",
    "    ('gboost', GradientBoostingRegressor(), {\n",
    "        'n_estimators': [50, 100, 200],\n",
    "        'learning_rate': [0.01, 0.1, 0.2]\n",
    "    }),\n",
    "    ('rfr', RandomForestRegressor(), {\n",
    "        'n_estimators': [50, 100, 200],\n",
    "        'max_depth': [None, 10, 20],\n",
    "        'min_samples_split': [2, 5, 10]\n",
    "    }),\n",
    "    ('KNeighborsRegressor', KNeighborsRegressor(), {'n_neighbors': [3, 5, 7]}),\n",
    "    ('SVR', SVR(), {\n",
    "        'kernel': ['linear', 'poly', 'rbf'],\n",
    "        'C': [0.1, 1, 10],\n",
    "        'epsilon': [0.01, 0.1, 0.2]\n",
    "    }),\n",
    "    ('ElasticNet', ElasticNet(), {\n",
    "        'alpha': [0.01, 0.1, 1.0],\n",
    "        'l1_ratio': [0.1, 0.5, 0.9],\n",
    "        'normalize': [True, False]\n",
    "    })\n",
    "]\n",
    "\n",
    "best_params = {}\n",
    "\n",
    "for model_name, model, param_grid in models:\n",
    "    grid_search = GridSearchCV(model, param_grid, cv=5, n_jobs=-1)\n",
    "    grid_search.fit(X_train, y_train)\n",
    "    best_params[model_name] = grid_search.best_params_\n",
    "best_params"
   ]
  },
  {
   "cell_type": "markdown",
   "id": "494cf2d7",
   "metadata": {},
   "source": [
    "### Modélisation de plusieurs modèles"
   ]
  },
  {
   "cell_type": "code",
   "execution_count": 160,
   "id": "94ba3254",
   "metadata": {},
   "outputs": [],
   "source": [
    "models = [\n",
    "    ('Dummy Regressor', DummyRegressor(), {'strategy' : ['mean']}),  \n",
    "    ('Linear Regression', LinearRegression(), {'fit_intercept': [True, False], 'normalize': [True, False], 'copy_X': [True]}),\n",
    "    ('Elastic Net', ElasticNet(), {'alpha': [1,0.1,0.01,0.001], 'max_iter': [1000], 'random_state': [42], 'tol': [0.001]}),\n",
    "    ('K-Neighbors Regressor', KNeighborsRegressor(), {'n_neighbors': list(range(1,30))}),\n",
    "    ('SVR', SVR(), {'gamma' : ['scale'],'epsilon' : [0.001, 0.01, 0.1, 1],'C' : [0.001, 0.01, 0.1, 1, 10], 'tol':[0.001]}),\n",
    "    ('Random Forest Regressor', RandomForestRegressor(), {'n_estimators': [100, 500, 1000], 'max_features': ['auto'], 'n_jobs': [-1], \n",
    "              'random_state': [42], 'max_depth': [None]}),\n",
    "    ('Gradient Boosting Regressor', GradientBoostingRegressor(), \n",
    "     {'n_estimators':[100, 500, 1000], 'random_state': [42], 'max_depth': [None]})\n",
    "]\n"
   ]
  },
  {
   "cell_type": "code",
   "execution_count": 161,
   "id": "91db9e9e",
   "metadata": {
    "scrolled": false
   },
   "outputs": [
    {
     "data": {
      "text/html": [
       "<div>\n",
       "<style scoped>\n",
       "    .dataframe tbody tr th:only-of-type {\n",
       "        vertical-align: middle;\n",
       "    }\n",
       "\n",
       "    .dataframe tbody tr th {\n",
       "        vertical-align: top;\n",
       "    }\n",
       "\n",
       "    .dataframe thead th {\n",
       "        text-align: right;\n",
       "    }\n",
       "</style>\n",
       "<table border=\"1\" class=\"dataframe\">\n",
       "  <thead>\n",
       "    <tr style=\"text-align: right;\">\n",
       "      <th></th>\n",
       "      <th>Model</th>\n",
       "      <th>CV Type</th>\n",
       "      <th>Train R2</th>\n",
       "      <th>Test R2</th>\n",
       "      <th>RMSE</th>\n",
       "      <th>Median absolute error</th>\n",
       "      <th>Elapsed Time</th>\n",
       "    </tr>\n",
       "  </thead>\n",
       "  <tbody>\n",
       "    <tr>\n",
       "      <th>0</th>\n",
       "      <td>Dummy Regressor</td>\n",
       "      <td>No CV</td>\n",
       "      <td>0.000000</td>\n",
       "      <td>-0.001636</td>\n",
       "      <td>49.501962</td>\n",
       "      <td>31.02</td>\n",
       "      <td>0.002039</td>\n",
       "    </tr>\n",
       "    <tr>\n",
       "      <th>1</th>\n",
       "      <td>Dummy Regressor</td>\n",
       "      <td>GridSearchCV</td>\n",
       "      <td>0.000000</td>\n",
       "      <td>-0.001636</td>\n",
       "      <td>49.501962</td>\n",
       "      <td>31.02</td>\n",
       "      <td>0.012385</td>\n",
       "    </tr>\n",
       "    <tr>\n",
       "      <th>2</th>\n",
       "      <td>Dummy Regressor</td>\n",
       "      <td>RandomizedSearchCV</td>\n",
       "      <td>0.000000</td>\n",
       "      <td>-0.001636</td>\n",
       "      <td>49.501962</td>\n",
       "      <td>31.02</td>\n",
       "      <td>0.011322</td>\n",
       "    </tr>\n",
       "    <tr>\n",
       "      <th>3</th>\n",
       "      <td>Linear Regression</td>\n",
       "      <td>No CV</td>\n",
       "      <td>0.348005</td>\n",
       "      <td>0.353427</td>\n",
       "      <td>39.771895</td>\n",
       "      <td>22.32</td>\n",
       "      <td>0.005014</td>\n",
       "    </tr>\n",
       "    <tr>\n",
       "      <th>4</th>\n",
       "      <td>Linear Regression</td>\n",
       "      <td>GridSearchCV</td>\n",
       "      <td>0.348005</td>\n",
       "      <td>0.353427</td>\n",
       "      <td>39.771895</td>\n",
       "      <td>22.32</td>\n",
       "      <td>0.045237</td>\n",
       "    </tr>\n",
       "    <tr>\n",
       "      <th>5</th>\n",
       "      <td>Linear Regression</td>\n",
       "      <td>RandomizedSearchCV</td>\n",
       "      <td>0.348005</td>\n",
       "      <td>0.353427</td>\n",
       "      <td>39.771895</td>\n",
       "      <td>22.32</td>\n",
       "      <td>0.047431</td>\n",
       "    </tr>\n",
       "    <tr>\n",
       "      <th>6</th>\n",
       "      <td>Elastic Net</td>\n",
       "      <td>No CV</td>\n",
       "      <td>0.290517</td>\n",
       "      <td>0.285648</td>\n",
       "      <td>41.804546</td>\n",
       "      <td>24.68</td>\n",
       "      <td>0.004996</td>\n",
       "    </tr>\n",
       "    <tr>\n",
       "      <th>7</th>\n",
       "      <td>Elastic Net</td>\n",
       "      <td>GridSearchCV</td>\n",
       "      <td>0.347979</td>\n",
       "      <td>0.352997</td>\n",
       "      <td>39.785111</td>\n",
       "      <td>22.56</td>\n",
       "      <td>0.046028</td>\n",
       "    </tr>\n",
       "    <tr>\n",
       "      <th>8</th>\n",
       "      <td>Elastic Net</td>\n",
       "      <td>RandomizedSearchCV</td>\n",
       "      <td>0.347979</td>\n",
       "      <td>0.352997</td>\n",
       "      <td>39.785111</td>\n",
       "      <td>22.56</td>\n",
       "      <td>0.045783</td>\n",
       "    </tr>\n",
       "    <tr>\n",
       "      <th>9</th>\n",
       "      <td>K-Neighbors Regressor</td>\n",
       "      <td>No CV</td>\n",
       "      <td>0.452241</td>\n",
       "      <td>0.297037</td>\n",
       "      <td>41.469954</td>\n",
       "      <td>21.71</td>\n",
       "      <td>0.029320</td>\n",
       "    </tr>\n",
       "    <tr>\n",
       "      <th>10</th>\n",
       "      <td>K-Neighbors Regressor</td>\n",
       "      <td>GridSearchCV</td>\n",
       "      <td>0.348804</td>\n",
       "      <td>0.267951</td>\n",
       "      <td>42.319204</td>\n",
       "      <td>20.37</td>\n",
       "      <td>0.306318</td>\n",
       "    </tr>\n",
       "    <tr>\n",
       "      <th>11</th>\n",
       "      <td>K-Neighbors Regressor</td>\n",
       "      <td>RandomizedSearchCV</td>\n",
       "      <td>0.348804</td>\n",
       "      <td>0.267951</td>\n",
       "      <td>42.319204</td>\n",
       "      <td>20.37</td>\n",
       "      <td>0.089700</td>\n",
       "    </tr>\n",
       "    <tr>\n",
       "      <th>12</th>\n",
       "      <td>SVR</td>\n",
       "      <td>No CV</td>\n",
       "      <td>0.089709</td>\n",
       "      <td>0.046550</td>\n",
       "      <td>48.296569</td>\n",
       "      <td>19.54</td>\n",
       "      <td>0.143713</td>\n",
       "    </tr>\n",
       "    <tr>\n",
       "      <th>13</th>\n",
       "      <td>SVR</td>\n",
       "      <td>GridSearchCV</td>\n",
       "      <td>0.322158</td>\n",
       "      <td>0.201448</td>\n",
       "      <td>44.199655</td>\n",
       "      <td>18.03</td>\n",
       "      <td>0.668582</td>\n",
       "    </tr>\n",
       "    <tr>\n",
       "      <th>14</th>\n",
       "      <td>SVR</td>\n",
       "      <td>RandomizedSearchCV</td>\n",
       "      <td>0.322158</td>\n",
       "      <td>0.201413</td>\n",
       "      <td>44.200629</td>\n",
       "      <td>18.03</td>\n",
       "      <td>0.303413</td>\n",
       "    </tr>\n",
       "    <tr>\n",
       "      <th>15</th>\n",
       "      <td>Random Forest Regressor</td>\n",
       "      <td>No CV</td>\n",
       "      <td>0.913810</td>\n",
       "      <td>0.383278</td>\n",
       "      <td>38.842939</td>\n",
       "      <td>19.39</td>\n",
       "      <td>0.448283</td>\n",
       "    </tr>\n",
       "    <tr>\n",
       "      <th>16</th>\n",
       "      <td>Random Forest Regressor</td>\n",
       "      <td>GridSearchCV</td>\n",
       "      <td>0.918921</td>\n",
       "      <td>0.380943</td>\n",
       "      <td>38.916416</td>\n",
       "      <td>19.07</td>\n",
       "      <td>5.546426</td>\n",
       "    </tr>\n",
       "    <tr>\n",
       "      <th>17</th>\n",
       "      <td>Random Forest Regressor</td>\n",
       "      <td>RandomizedSearchCV</td>\n",
       "      <td>0.918921</td>\n",
       "      <td>0.380943</td>\n",
       "      <td>38.916416</td>\n",
       "      <td>19.07</td>\n",
       "      <td>5.854956</td>\n",
       "    </tr>\n",
       "    <tr>\n",
       "      <th>18</th>\n",
       "      <td>Gradient Boosting Regressor</td>\n",
       "      <td>No CV</td>\n",
       "      <td>0.694621</td>\n",
       "      <td>0.377222</td>\n",
       "      <td>39.033179</td>\n",
       "      <td>20.23</td>\n",
       "      <td>0.167922</td>\n",
       "    </tr>\n",
       "    <tr>\n",
       "      <th>19</th>\n",
       "      <td>Gradient Boosting Regressor</td>\n",
       "      <td>GridSearchCV</td>\n",
       "      <td>1.000000</td>\n",
       "      <td>-0.016821</td>\n",
       "      <td>49.875783</td>\n",
       "      <td>23.44</td>\n",
       "      <td>2.297569</td>\n",
       "    </tr>\n",
       "    <tr>\n",
       "      <th>20</th>\n",
       "      <td>Gradient Boosting Regressor</td>\n",
       "      <td>RandomizedSearchCV</td>\n",
       "      <td>1.000000</td>\n",
       "      <td>-0.016821</td>\n",
       "      <td>49.875783</td>\n",
       "      <td>23.44</td>\n",
       "      <td>2.336370</td>\n",
       "    </tr>\n",
       "  </tbody>\n",
       "</table>\n",
       "</div>"
      ],
      "text/plain": [
       "                          Model             CV Type  Train R2   Test R2  \\\n",
       "0               Dummy Regressor               No CV  0.000000 -0.001636   \n",
       "1               Dummy Regressor        GridSearchCV  0.000000 -0.001636   \n",
       "2               Dummy Regressor  RandomizedSearchCV  0.000000 -0.001636   \n",
       "3             Linear Regression               No CV  0.348005  0.353427   \n",
       "4             Linear Regression        GridSearchCV  0.348005  0.353427   \n",
       "5             Linear Regression  RandomizedSearchCV  0.348005  0.353427   \n",
       "6                   Elastic Net               No CV  0.290517  0.285648   \n",
       "7                   Elastic Net        GridSearchCV  0.347979  0.352997   \n",
       "8                   Elastic Net  RandomizedSearchCV  0.347979  0.352997   \n",
       "9         K-Neighbors Regressor               No CV  0.452241  0.297037   \n",
       "10        K-Neighbors Regressor        GridSearchCV  0.348804  0.267951   \n",
       "11        K-Neighbors Regressor  RandomizedSearchCV  0.348804  0.267951   \n",
       "12                          SVR               No CV  0.089709  0.046550   \n",
       "13                          SVR        GridSearchCV  0.322158  0.201448   \n",
       "14                          SVR  RandomizedSearchCV  0.322158  0.201413   \n",
       "15      Random Forest Regressor               No CV  0.913810  0.383278   \n",
       "16      Random Forest Regressor        GridSearchCV  0.918921  0.380943   \n",
       "17      Random Forest Regressor  RandomizedSearchCV  0.918921  0.380943   \n",
       "18  Gradient Boosting Regressor               No CV  0.694621  0.377222   \n",
       "19  Gradient Boosting Regressor        GridSearchCV  1.000000 -0.016821   \n",
       "20  Gradient Boosting Regressor  RandomizedSearchCV  1.000000 -0.016821   \n",
       "\n",
       "         RMSE  Median absolute error  Elapsed Time  \n",
       "0   49.501962                  31.02      0.002039  \n",
       "1   49.501962                  31.02      0.012385  \n",
       "2   49.501962                  31.02      0.011322  \n",
       "3   39.771895                  22.32      0.005014  \n",
       "4   39.771895                  22.32      0.045237  \n",
       "5   39.771895                  22.32      0.047431  \n",
       "6   41.804546                  24.68      0.004996  \n",
       "7   39.785111                  22.56      0.046028  \n",
       "8   39.785111                  22.56      0.045783  \n",
       "9   41.469954                  21.71      0.029320  \n",
       "10  42.319204                  20.37      0.306318  \n",
       "11  42.319204                  20.37      0.089700  \n",
       "12  48.296569                  19.54      0.143713  \n",
       "13  44.199655                  18.03      0.668582  \n",
       "14  44.200629                  18.03      0.303413  \n",
       "15  38.842939                  19.39      0.448283  \n",
       "16  38.916416                  19.07      5.546426  \n",
       "17  38.916416                  19.07      5.854956  \n",
       "18  39.033179                  20.23      0.167922  \n",
       "19  49.875783                  23.44      2.297569  \n",
       "20  49.875783                  23.44      2.336370  "
      ]
     },
     "execution_count": 161,
     "metadata": {},
     "output_type": "execute_result"
    }
   ],
   "source": [
    "results = []\n",
    "\n",
    "for model_name, model, param_grid in models:\n",
    "   \n",
    "    start_time = time.time()\n",
    "    model.fit(X_train, y_train)\n",
    "    y_pred = model.predict(X_test)\n",
    "    train_r2 = r2_score(y_train, model.predict(X_train))\n",
    "    test_r2 = r2_score(y_test, y_pred)\n",
    "    rmse = np.sqrt(mean_squared_error(y_test, y_pred))\n",
    "    med_abs_error= round(median_absolute_error(y_test, y_pred),2)\n",
    "    elapsed_time = time.time() - start_time\n",
    "    results.append([model_name, 'No CV', train_r2, test_r2, rmse, med_abs_error, elapsed_time])\n",
    "\n",
    "   \n",
    "    grid_search = GridSearchCV(model, param_grid, cv=5, n_jobs=-1)\n",
    "    start_time = time.time()\n",
    "    grid_search.fit(X_train, y_train)\n",
    "    best_model = grid_search.best_estimator_\n",
    "    y_pred = best_model.predict(X_test)\n",
    "    train_r2 = r2_score(y_train, best_model.predict(X_train))\n",
    "    test_r2 = r2_score(y_test, y_pred)\n",
    "    rmse = np.sqrt(mean_squared_error(y_test, y_pred))\n",
    "    med_abs_error= round(median_absolute_error(y_test, y_pred),2)\n",
    "    elapsed_time = time.time() - start_time\n",
    "    results.append([model_name, 'GridSearchCV', train_r2, test_r2, rmse,med_abs_error, elapsed_time])\n",
    "\n",
    "  \n",
    "    randomized_search = RandomizedSearchCV(model, param_grid, n_iter=5, cv=5, n_jobs=-1)\n",
    "    start_time = time.time()\n",
    "    randomized_search.fit(X_train, y_train)\n",
    "    best_model = randomized_search.best_estimator_\n",
    "    y_pred = best_model.predict(X_test)\n",
    "    train_r2 = r2_score(y_train, best_model.predict(X_train))\n",
    "    test_r2 = r2_score(y_test, y_pred)\n",
    "    rmse = np.sqrt(mean_squared_error(y_test, y_pred))\n",
    "    med_abs_error= round(median_absolute_error(y_test, y_pred),2)\n",
    "    elapsed_time = time.time() - start_time\n",
    "    results.append([model_name, 'RandomizedSearchCV', train_r2, test_r2, rmse,med_abs_error, elapsed_time])\n",
    "\n",
    "results_df = pd.DataFrame(results, columns=['Model', 'CV Type', 'Train R2', 'Test R2', 'RMSE','Median absolute error',\n",
    "                                            'Elapsed Time'])\n",
    "\n",
    "results_df\n"
   ]
  },
  {
   "cell_type": "code",
   "execution_count": 162,
   "id": "bb64790f",
   "metadata": {},
   "outputs": [
    {
     "data": {
      "text/plain": [
       "GradientBoostingRegressor(n_estimators=50)"
      ]
     },
     "execution_count": 162,
     "metadata": {},
     "output_type": "execute_result"
    }
   ],
   "source": [
    "gboost = GradientBoostingRegressor(**best_params['gboost'])\n",
    "gboost.fit(X_train, y_train)"
   ]
  },
  {
   "cell_type": "code",
   "execution_count": 163,
   "id": "ceafeef8",
   "metadata": {},
   "outputs": [
    {
     "name": "stdout",
     "output_type": "stream",
     "text": [
      "Score train :  0.602\n",
      "Score test  :  0.372\n"
     ]
    }
   ],
   "source": [
    "print('Score train : ',round(gboost.score(X_train, y_train),3))\n",
    "print('Score test  : ',round(gboost.score(X_test, y_test),3))"
   ]
  },
  {
   "cell_type": "code",
   "execution_count": 164,
   "id": "afdfafe3",
   "metadata": {},
   "outputs": [
    {
     "data": {
      "text/plain": [
       "RandomForestRegressor(max_depth=20, min_samples_split=10)"
      ]
     },
     "execution_count": 164,
     "metadata": {},
     "output_type": "execute_result"
    }
   ],
   "source": [
    "rfr = RandomForestRegressor(max_depth= 20,\n",
    "  min_samples_split= 10,\n",
    "  n_estimators= 100)\n",
    "rfr.fit(X_train, y_train)"
   ]
  },
  {
   "cell_type": "code",
   "execution_count": 165,
   "id": "c82144fc",
   "metadata": {},
   "outputs": [
    {
     "name": "stdout",
     "output_type": "stream",
     "text": [
      "Score train :  0.807\n",
      "Score test  :  0.373\n"
     ]
    }
   ],
   "source": [
    "print('Score train : ',round(rfr.score(X_train, y_train),3))\n",
    "print('Score test  : ',round(rfr.score(X_test, y_test),3))"
   ]
  },
  {
   "cell_type": "markdown",
   "id": "f23e72ca",
   "metadata": {},
   "source": [
    "#### Courbe d'apprentissage du modèle Gradientboost"
   ]
  },
  {
   "cell_type": "code",
   "execution_count": 166,
   "id": "2cff3b71",
   "metadata": {
    "scrolled": false
   },
   "outputs": [
    {
     "data": {
      "image/png": "[encoded data removed]",
      "text/plain": [
       "<Figure size 720x432 with 1 Axes>"
      ]
     },
     "metadata": {},
     "output_type": "display_data"
    }
   ],
   "source": [
    "N,train_score,val_score = learning_curve(gboost,X_train,y_train,train_sizes = np.linspace(0.1,1.0,10))\n",
    "plt.figure(figsize=(10, 6))\n",
    "plt.plot(N,train_score.mean(axis=1),label='train')\n",
    "plt.plot(N,val_score.mean(axis=1), label='validation')\n",
    "plt.xlabel('train_sizes')\n",
    "plt.title(\"Courbe d'apprentissage\", size = 14)\n",
    "plt.legend()\n",
    "plt.show()"
   ]
  },
  {
   "cell_type": "markdown",
   "id": "81d052bc",
   "metadata": {},
   "source": [
    "#### Courbe de validation du modèle Gradientboost"
   ]
  },
  {
   "cell_type": "code",
   "execution_count": 167,
   "id": "bea23537",
   "metadata": {},
   "outputs": [],
   "source": [
    "param_range = [50, 100, 150, 200, 250]  \n",
    "train_scores, test_scores = validation_curve(\n",
    "    gboost,  \n",
    "    X_train, y_train,\n",
    "    param_name=\"n_estimators\",  \n",
    "    param_range=param_range,\n",
    "    cv=5,  \n",
    "    scoring=\"r2\",  \n",
    "    n_jobs=-1  \n",
    ")\n"
   ]
  },
  {
   "cell_type": "code",
   "execution_count": 168,
   "id": "2419e7c7",
   "metadata": {},
   "outputs": [],
   "source": [
    "train_scores_mean = np.mean(train_scores, axis=1)\n",
    "train_scores_std = np.std(train_scores, axis=1)\n",
    "test_scores_mean = np.mean(test_scores, axis=1)\n",
    "test_scores_std = np.std(test_scores, axis=1)\n"
   ]
  },
  {
   "cell_type": "code",
   "execution_count": 169,
   "id": "cd29a554",
   "metadata": {
    "scrolled": false
   },
   "outputs": [
    {
     "data": {
      "image/png": "[encoded data removed]",
      "text/plain": [
       "<Figure size 720x432 with 1 Axes>"
      ]
     },
     "metadata": {},
     "output_type": "display_data"
    }
   ],
   "source": [
    "plt.figure(figsize=(10, 6))\n",
    "plt.title(\"Courbe de validation avec GradientBoostingRegressor\")\n",
    "plt.xlabel(\"Number of Estimators\")\n",
    "plt.ylabel(\"R-squared\")\n",
    "plt.ylim(0.0, 1.1)\n",
    "plt.grid()\n",
    "\n",
    "plt.fill_between(param_range, train_scores_mean - train_scores_std, train_scores_mean + train_scores_std, alpha=0.2, color=\"b\")\n",
    "plt.fill_between(param_range, test_scores_mean - test_scores_std, test_scores_mean + test_scores_std, alpha=0.2, color=\"r\")\n",
    "plt.plot(param_range, train_scores_mean, 'o-', color=\"b\", label=\"Training Score\")\n",
    "plt.plot(param_range, test_scores_mean, 'o-', color=\"r\", label=\"Cross-Validation Score\")\n",
    "\n",
    "plt.legend(loc=\"best\")\n",
    "plt.show()\n"
   ]
  },
  {
   "cell_type": "code",
   "execution_count": 170,
   "id": "109a2fac",
   "metadata": {
    "scrolled": true
   },
   "outputs": [
    {
     "data": {
      "image/png": "[encoded data removed]",
      "text/plain": [
       "<Figure size 720x432 with 1 Axes>"
      ]
     },
     "metadata": {},
     "output_type": "display_data"
    }
   ],
   "source": [
    "y_pred = gboost.predict(X_test)\n",
    "plt.figure(figsize=(10, 6))\n",
    "plt.scatter(y_test, y_pred, alpha=0.5, color='b', label='Scatterplot')\n",
    "plt.plot([min(y_test), max(y_test)], [min(y_test), max(y_test)], color='red', linestyle='--',\n",
    "         linewidth=2, label='Prédiction Parfaite')\n",
    "plt.xlabel('Valeurs Réelles')\n",
    "plt.ylabel('Prédictions')\n",
    "plt.legend(loc='upper left')\n",
    "\n",
    "plt.show()\n"
   ]
  },
  {
   "cell_type": "markdown",
   "id": "f9f36ca5",
   "metadata": {},
   "source": [
    "#### Courbe d'apprentissage du modèle avec RandomForest"
   ]
  },
  {
   "cell_type": "code",
   "execution_count": 171,
   "id": "b17f730b",
   "metadata": {
    "scrolled": false
   },
   "outputs": [
    {
     "data": {
      "image/png": "[encoded data removed]",
      "text/plain": [
       "<Figure size 720x432 with 1 Axes>"
      ]
     },
     "metadata": {},
     "output_type": "display_data"
    }
   ],
   "source": [
    "N,train_score,val_score = learning_curve(rfr,X_train,y_train,train_sizes =np.linspace(0.1,1.0,10))\n",
    "plt.figure(figsize=(10, 6))\n",
    "plt.plot(N,train_score.mean(axis=1),label='train')\n",
    "plt.plot(N,val_score.mean(axis=1), label='validation')\n",
    "plt.xlabel('train_sizes')\n",
    "plt.title(\"Courbe d'apprentissage\", size = 14)\n",
    "plt.legend()\n",
    "plt.show()"
   ]
  },
  {
   "cell_type": "markdown",
   "id": "8e7649a8",
   "metadata": {},
   "source": [
    "#### Courbe de validation du modèle avec RandomForest"
   ]
  },
  {
   "cell_type": "code",
   "execution_count": 172,
   "id": "237fcc53",
   "metadata": {},
   "outputs": [],
   "source": [
    "param_range = [50, 100, 150, 200, 250]  \n",
    "train_scores, test_scores = validation_curve(\n",
    "    rfr,  \n",
    "    X_train, y_train,\n",
    "    param_name=\"n_estimators\",  \n",
    "    param_range=param_range,\n",
    "    cv=5,  \n",
    "    scoring=\"r2\",  \n",
    "    n_jobs=-1  \n",
    ")\n"
   ]
  },
  {
   "cell_type": "code",
   "execution_count": 173,
   "id": "ff0d739c",
   "metadata": {},
   "outputs": [],
   "source": [
    "train_scores_mean = np.mean(train_scores, axis=1)\n",
    "train_scores_std = np.std(train_scores, axis=1)\n",
    "test_scores_mean = np.mean(test_scores, axis=1)\n",
    "test_scores_std = np.std(test_scores, axis=1)\n"
   ]
  },
  {
   "cell_type": "code",
   "execution_count": 174,
   "id": "11bdc9f1",
   "metadata": {},
   "outputs": [
    {
     "data": {
      "image/png": "[encoded data removed]",
      "text/plain": [
       "<Figure size 720x432 with 1 Axes>"
      ]
     },
     "metadata": {},
     "output_type": "display_data"
    }
   ],
   "source": [
    "plt.figure(figsize=(10, 6))\n",
    "plt.title(\"Courbe de validation avec RandomForestRegresssor\")\n",
    "plt.xlabel(\"Number of Estimators\")\n",
    "plt.ylabel(\"R-squared\")\n",
    "plt.ylim(0.0, 1.1)\n",
    "plt.grid()\n",
    "\n",
    "plt.fill_between(param_range, train_scores_mean - train_scores_std, train_scores_mean + train_scores_std, alpha=0.2, color=\"b\")\n",
    "plt.fill_between(param_range, test_scores_mean - test_scores_std, test_scores_mean + test_scores_std, alpha=0.2, color=\"r\")\n",
    "plt.plot(param_range, train_scores_mean, 'o-', color=\"b\", label=\"Training Score\")\n",
    "plt.plot(param_range, test_scores_mean, 'o-', color=\"r\", label=\"Cross-Validation Score\")\n",
    "\n",
    "plt.legend(loc=\"best\")\n",
    "plt.show()\n"
   ]
  },
  {
   "cell_type": "code",
   "execution_count": 175,
   "id": "23994f59",
   "metadata": {},
   "outputs": [
    {
     "data": {
      "image/png": "[encoded data removed]",
      "text/plain": [
       "<Figure size 720x432 with 1 Axes>"
      ]
     },
     "metadata": {},
     "output_type": "display_data"
    }
   ],
   "source": [
    "y_pred = rfr.predict(X_test)\n",
    "plt.figure(figsize=(10, 6))\n",
    "plt.scatter(y_test, y_pred, alpha=0.5, color='b', label='Scatterplot')\n",
    "plt.plot([min(y_test), max(y_test)], [min(y_test), max(y_test)], color='red', linestyle='--',\n",
    "         linewidth=2, label='Prédiction Parfaite')\n",
    "plt.xlabel('Valeurs Réelles')\n",
    "plt.ylabel('Prédictions')\n",
    "plt.legend(loc='upper left')\n",
    "\n",
    "plt.show()\n"
   ]
  },
  {
   "cell_type": "markdown",
   "id": "096d1b12",
   "metadata": {},
   "source": [
    "#### Features importance"
   ]
  },
  {
   "cell_type": "code",
   "execution_count": 176,
   "id": "98ba7ce9",
   "metadata": {},
   "outputs": [],
   "source": [
    "feature_importance_rf = rfr.feature_importances_"
   ]
  },
  {
   "cell_type": "code",
   "execution_count": 177,
   "id": "5925029f",
   "metadata": {},
   "outputs": [],
   "source": [
    "feature_importance_gb = gboost.feature_importances_"
   ]
  },
  {
   "cell_type": "code",
   "execution_count": 178,
   "id": "c2d91b4c",
   "metadata": {},
   "outputs": [
    {
     "data": {
      "text/plain": [
       "(16,)"
      ]
     },
     "execution_count": 178,
     "metadata": {},
     "output_type": "execute_result"
    }
   ],
   "source": [
    "feature_importance_rf.shape"
   ]
  },
  {
   "cell_type": "code",
   "execution_count": 179,
   "id": "5fc6ff4b",
   "metadata": {},
   "outputs": [
    {
     "data": {
      "text/plain": [
       "(16,)"
      ]
     },
     "execution_count": 179,
     "metadata": {},
     "output_type": "execute_result"
    }
   ],
   "source": [
    "feature_importance_gb.shape"
   ]
  },
  {
   "cell_type": "code",
   "execution_count": 180,
   "id": "1dabe359",
   "metadata": {},
   "outputs": [
    {
     "data": {
      "image/png": "[encoded data removed]",
      "text/plain": [
       "<Figure size 864x432 with 1 Axes>"
      ]
     },
     "metadata": {},
     "output_type": "display_data"
    }
   ],
   "source": [
    "importance_df = pd.DataFrame({'Feature': X_train.columns, 'RandomForest': feature_importance_rf,\n",
    "                              'GradientBoosting': feature_importance_gb})\n",
    "\n",
    "importance_df.sort_values(by='RandomForest', ascending=False, inplace=True)\n",
    "\n",
    "bar_width = 0.35\n",
    "index = np.arange(len(importance_df))\n",
    "\n",
    "plt.figure(figsize=(12, 6))\n",
    "plt.bar(index, importance_df['RandomForest'], bar_width, label='RandomForest', alpha=0.7)\n",
    "plt.bar(index + bar_width, importance_df['GradientBoosting'], bar_width, label='GradientBoosting', alpha=0.7)\n",
    "plt.xticks(index + bar_width / 2, importance_df['Feature'], rotation=90)\n",
    "plt.xlabel('Feature')\n",
    "plt.ylabel('Importance')\n",
    "plt.legend()\n",
    "plt.title('Feature Importance Comparison')\n",
    "plt.tight_layout()\n",
    "plt.show()"
   ]
  },
  {
   "cell_type": "code",
   "execution_count": 181,
   "id": "125214a4",
   "metadata": {},
   "outputs": [
    {
     "data": {
      "text/plain": [
       "SourceEUI(kBtu/sf)        34.123001\n",
       "PropertyGFATotal          26.107599\n",
       "LargestPropertyUseType     9.659879\n",
       "OSEBuildingID              5.764323\n",
       "SteamUse(kBtu)             5.645903\n",
       "Longitude                  4.465187\n",
       "NumberofFloors             3.823239\n",
       "PrimaryPropertyType        3.694959\n",
       "YearBuilt                  3.040508\n",
       "NumberofBuildings          1.509438\n",
       "Latitude                   1.038191\n",
       "CouncilDistrictCode        0.525164\n",
       "ENERGYSTARScore            0.246205\n",
       "BuildingType               0.232073\n",
       "Neighborhood               0.124332\n",
       "DataYear                   0.000000\n",
       "dtype: float64"
      ]
     },
     "execution_count": 181,
     "metadata": {},
     "output_type": "execute_result"
    }
   ],
   "source": [
    "pd.Series(gboost.feature_importances_*100, index=X_train.columns).nlargest(20)"
   ]
  },
  {
   "cell_type": "code",
   "execution_count": 182,
   "id": "7146366f",
   "metadata": {},
   "outputs": [
    {
     "data": {
      "text/plain": [
       "SourceEUI(kBtu/sf)        28.289285\n",
       "PropertyGFATotal          21.635864\n",
       "LargestPropertyUseType     7.931510\n",
       "OSEBuildingID              7.601389\n",
       "Longitude                  5.310380\n",
       "Latitude                   5.305590\n",
       "YearBuilt                  5.114597\n",
       "PrimaryPropertyType        3.830824\n",
       "SteamUse(kBtu)             3.275520\n",
       "ENERGYSTARScore            3.002753\n",
       "NumberofFloors             2.954188\n",
       "Neighborhood               1.999982\n",
       "NumberofBuildings          1.591090\n",
       "BuildingType               1.145876\n",
       "CouncilDistrictCode        1.011152\n",
       "DataYear                   0.000000\n",
       "dtype: float64"
      ]
     },
     "execution_count": 182,
     "metadata": {},
     "output_type": "execute_result"
    }
   ],
   "source": [
    "pd.Series(rfr.feature_importances_*100, index=X_train.columns).nlargest(20)"
   ]
  },
  {
   "cell_type": "code",
   "execution_count": 183,
   "id": "da838826",
   "metadata": {},
   "outputs": [
    {
     "data": {
      "image/png": "[encoded data removed]",
      "text/plain": [
       "<Figure size 576x432 with 1 Axes>"
      ]
     },
     "metadata": {},
     "output_type": "display_data"
    }
   ],
   "source": [
    "plt.figure(figsize=(8, 6))\n",
    "y_pred = rfr.predict(X_test)\n",
    "histo_erreur = np.abs(y_test - y_pred)\n",
    "plt.hist(histo_erreur, bins= 50)\n",
    "plt.show()"
   ]
  },
  {
   "cell_type": "code",
   "execution_count": 184,
   "id": "4b1eb058",
   "metadata": {},
   "outputs": [
    {
     "data": {
      "image/png": "[encoded data removed]",
      "text/plain": [
       "<Figure size 576x432 with 1 Axes>"
      ]
     },
     "metadata": {},
     "output_type": "display_data"
    }
   ],
   "source": [
    "plt.figure(figsize=(8, 6))\n",
    "y_pred = gboost.predict(X_test)\n",
    "histo_erreur = np.abs(y_test - y_pred)\n",
    "plt.hist(histo_erreur, bins= 50)\n",
    "plt.show()"
   ]
  },
  {
   "cell_type": "markdown",
   "id": "03d53b6f",
   "metadata": {},
   "source": [
    "## Prédiction des émissions de CO2 en laissant l'électricité et le gas dans les données "
   ]
  },
  {
   "cell_type": "code",
   "execution_count": 185,
   "id": "47c9ade7",
   "metadata": {},
   "outputs": [],
   "source": [
    "new_df= df2.copy()"
   ]
  },
  {
   "cell_type": "code",
   "execution_count": 186,
   "id": "6d3b0b49",
   "metadata": {},
   "outputs": [],
   "source": [
    "y = new_df['TotalGHGEmissions']\n",
    "X = new_df.drop(['SiteEnergyUseWN(kBtu)','TotalGHGEmissions'], axis=1)\n",
    "categorical_columns = X.select_dtypes(['category','object']).columns.tolist()\n",
    "numerical_columns = X.select_dtypes(['int64','float64']).columns.tolist()"
   ]
  },
  {
   "cell_type": "code",
   "execution_count": 187,
   "id": "40412eec",
   "metadata": {},
   "outputs": [],
   "source": [
    "\n",
    "column_transformer = ColumnTransformer(\n",
    "    transformers=[\n",
    "        ('num', RobustScaler(), numerical_columns),\n",
    "        ('cat', OrdinalEncoder(), categorical_columns)\n",
    "    ],\n",
    "    remainder='passthrough')\n"
   ]
  },
  {
   "cell_type": "code",
   "execution_count": 188,
   "id": "0f3c63cf",
   "metadata": {
    "scrolled": true
   },
   "outputs": [],
   "source": [
    "pipeline = Pipeline([\n",
    "    ('column_transform', column_transformer)\n",
    "])\n",
    "\n",
    "X= pipeline.fit_transform(X)\n"
   ]
  },
  {
   "cell_type": "code",
   "execution_count": 189,
   "id": "43625f64",
   "metadata": {},
   "outputs": [],
   "source": [
    "pt = PowerTransformer()\n",
    "X= pt.fit_transform(X)"
   ]
  },
  {
   "cell_type": "code",
   "execution_count": 190,
   "id": "c82ed63d",
   "metadata": {},
   "outputs": [],
   "source": [
    "X = pd.DataFrame(X, columns=numerical_columns + categorical_columns)"
   ]
  },
  {
   "cell_type": "code",
   "execution_count": 191,
   "id": "ac276bb2",
   "metadata": {},
   "outputs": [
    {
     "data": {
      "text/html": [
       "<div>\n",
       "<style scoped>\n",
       "    .dataframe tbody tr th:only-of-type {\n",
       "        vertical-align: middle;\n",
       "    }\n",
       "\n",
       "    .dataframe tbody tr th {\n",
       "        vertical-align: top;\n",
       "    }\n",
       "\n",
       "    .dataframe thead th {\n",
       "        text-align: right;\n",
       "    }\n",
       "</style>\n",
       "<table border=\"1\" class=\"dataframe\">\n",
       "  <thead>\n",
       "    <tr style=\"text-align: right;\">\n",
       "      <th></th>\n",
       "      <th>OSEBuildingID</th>\n",
       "      <th>DataYear</th>\n",
       "      <th>Latitude</th>\n",
       "      <th>Longitude</th>\n",
       "      <th>YearBuilt</th>\n",
       "      <th>NumberofBuildings</th>\n",
       "      <th>NumberofFloors</th>\n",
       "      <th>PropertyGFATotal</th>\n",
       "      <th>ENERGYSTARScore</th>\n",
       "      <th>SourceEUI(kBtu/sf)</th>\n",
       "      <th>SteamUse(kBtu)</th>\n",
       "      <th>Electricity(kBtu)</th>\n",
       "      <th>NaturalGas(kBtu)</th>\n",
       "      <th>BuildingType</th>\n",
       "      <th>PrimaryPropertyType</th>\n",
       "      <th>CouncilDistrictCode</th>\n",
       "      <th>Neighborhood</th>\n",
       "      <th>LargestPropertyUseType</th>\n",
       "    </tr>\n",
       "  </thead>\n",
       "  <tbody>\n",
       "    <tr>\n",
       "      <th>0</th>\n",
       "      <td>-1.400009</td>\n",
       "      <td>0.0</td>\n",
       "      <td>0.034520</td>\n",
       "      <td>-0.028133</td>\n",
       "      <td>-1.034142</td>\n",
       "      <td>0.05244</td>\n",
       "      <td>2.086677</td>\n",
       "      <td>0.987444</td>\n",
       "      <td>-1.546863</td>\n",
       "      <td>0.429093</td>\n",
       "      <td>-0.186844</td>\n",
       "      <td>0.859387</td>\n",
       "      <td>1.794881</td>\n",
       "      <td>-0.231040</td>\n",
       "      <td>-1.169739</td>\n",
       "      <td>1.224761</td>\n",
       "      <td>-0.818371</td>\n",
       "      <td>-0.760356</td>\n",
       "    </tr>\n",
       "    <tr>\n",
       "      <th>1</th>\n",
       "      <td>-1.398639</td>\n",
       "      <td>0.0</td>\n",
       "      <td>-1.445564</td>\n",
       "      <td>2.720835</td>\n",
       "      <td>-0.033746</td>\n",
       "      <td>0.05244</td>\n",
       "      <td>-0.106355</td>\n",
       "      <td>0.465771</td>\n",
       "      <td>1.556163</td>\n",
       "      <td>-0.832124</td>\n",
       "      <td>-0.186844</td>\n",
       "      <td>-0.351736</td>\n",
       "      <td>0.416483</td>\n",
       "      <td>2.746108</td>\n",
       "      <td>-1.655990</td>\n",
       "      <td>-0.970059</td>\n",
       "      <td>1.777716</td>\n",
       "      <td>-1.674331</td>\n",
       "    </tr>\n",
       "    <tr>\n",
       "      <th>2</th>\n",
       "      <td>-1.398563</td>\n",
       "      <td>0.0</td>\n",
       "      <td>0.908314</td>\n",
       "      <td>0.595443</td>\n",
       "      <td>1.336749</td>\n",
       "      <td>0.05244</td>\n",
       "      <td>1.434264</td>\n",
       "      <td>1.061813</td>\n",
       "      <td>0.809600</td>\n",
       "      <td>0.443196</td>\n",
       "      <td>-0.186844</td>\n",
       "      <td>0.636234</td>\n",
       "      <td>1.193831</td>\n",
       "      <td>-0.231040</td>\n",
       "      <td>-1.169739</td>\n",
       "      <td>0.091775</td>\n",
       "      <td>1.195875</td>\n",
       "      <td>-0.760356</td>\n",
       "    </tr>\n",
       "    <tr>\n",
       "      <th>3</th>\n",
       "      <td>-1.398411</td>\n",
       "      <td>0.0</td>\n",
       "      <td>0.056632</td>\n",
       "      <td>0.052646</td>\n",
       "      <td>-0.926985</td>\n",
       "      <td>0.05244</td>\n",
       "      <td>-0.106355</td>\n",
       "      <td>0.722249</td>\n",
       "      <td>-0.224383</td>\n",
       "      <td>-0.822164</td>\n",
       "      <td>-0.186844</td>\n",
       "      <td>0.026969</td>\n",
       "      <td>-1.105483</td>\n",
       "      <td>-0.231040</td>\n",
       "      <td>0.015339</td>\n",
       "      <td>1.224761</td>\n",
       "      <td>-0.818371</td>\n",
       "      <td>1.793325</td>\n",
       "    </tr>\n",
       "    <tr>\n",
       "      <th>4</th>\n",
       "      <td>-1.398182</td>\n",
       "      <td>0.0</td>\n",
       "      <td>0.208887</td>\n",
       "      <td>1.104696</td>\n",
       "      <td>-0.216883</td>\n",
       "      <td>0.05244</td>\n",
       "      <td>-1.214694</td>\n",
       "      <td>1.412947</td>\n",
       "      <td>-0.224383</td>\n",
       "      <td>-2.274072</td>\n",
       "      <td>-0.186844</td>\n",
       "      <td>-1.849236</td>\n",
       "      <td>-1.105483</td>\n",
       "      <td>2.746108</td>\n",
       "      <td>-1.655990</td>\n",
       "      <td>-0.389172</td>\n",
       "      <td>-1.673004</td>\n",
       "      <td>-1.674331</td>\n",
       "    </tr>\n",
       "    <tr>\n",
       "      <th>...</th>\n",
       "      <td>...</td>\n",
       "      <td>...</td>\n",
       "      <td>...</td>\n",
       "      <td>...</td>\n",
       "      <td>...</td>\n",
       "      <td>...</td>\n",
       "      <td>...</td>\n",
       "      <td>...</td>\n",
       "      <td>...</td>\n",
       "      <td>...</td>\n",
       "      <td>...</td>\n",
       "      <td>...</td>\n",
       "      <td>...</td>\n",
       "      <td>...</td>\n",
       "      <td>...</td>\n",
       "      <td>...</td>\n",
       "      <td>...</td>\n",
       "      <td>...</td>\n",
       "    </tr>\n",
       "    <tr>\n",
       "      <th>1329</th>\n",
       "      <td>2.557330</td>\n",
       "      <td>0.0</td>\n",
       "      <td>-1.563315</td>\n",
       "      <td>-1.604818</td>\n",
       "      <td>0.655475</td>\n",
       "      <td>0.05244</td>\n",
       "      <td>-1.214694</td>\n",
       "      <td>-1.642583</td>\n",
       "      <td>-0.224383</td>\n",
       "      <td>0.203285</td>\n",
       "      <td>-0.186844</td>\n",
       "      <td>-0.747522</td>\n",
       "      <td>-0.168255</td>\n",
       "      <td>1.781773</td>\n",
       "      <td>0.015339</td>\n",
       "      <td>-1.748768</td>\n",
       "      <td>-1.224536</td>\n",
       "      <td>-0.337346</td>\n",
       "    </tr>\n",
       "    <tr>\n",
       "      <th>1330</th>\n",
       "      <td>2.557411</td>\n",
       "      <td>0.0</td>\n",
       "      <td>-0.958907</td>\n",
       "      <td>0.847306</td>\n",
       "      <td>0.936199</td>\n",
       "      <td>0.05244</td>\n",
       "      <td>-1.214694</td>\n",
       "      <td>-2.254310</td>\n",
       "      <td>-0.973477</td>\n",
       "      <td>0.574208</td>\n",
       "      <td>-0.186844</td>\n",
       "      <td>-0.908156</td>\n",
       "      <td>-0.106240</td>\n",
       "      <td>1.781773</td>\n",
       "      <td>-0.156717</td>\n",
       "      <td>-0.970059</td>\n",
       "      <td>-0.085144</td>\n",
       "      <td>0.271123</td>\n",
       "    </tr>\n",
       "    <tr>\n",
       "      <th>1331</th>\n",
       "      <td>2.557493</td>\n",
       "      <td>0.0</td>\n",
       "      <td>-0.329146</td>\n",
       "      <td>0.376963</td>\n",
       "      <td>1.448756</td>\n",
       "      <td>0.05244</td>\n",
       "      <td>-1.214694</td>\n",
       "      <td>-1.863664</td>\n",
       "      <td>-0.224383</td>\n",
       "      <td>0.055388</td>\n",
       "      <td>-0.186844</td>\n",
       "      <td>-1.112229</td>\n",
       "      <td>0.339979</td>\n",
       "      <td>1.781773</td>\n",
       "      <td>0.015339</td>\n",
       "      <td>-0.970059</td>\n",
       "      <td>-0.818371</td>\n",
       "      <td>-0.337346</td>\n",
       "    </tr>\n",
       "    <tr>\n",
       "      <th>1332</th>\n",
       "      <td>2.557655</td>\n",
       "      <td>0.0</td>\n",
       "      <td>-1.852451</td>\n",
       "      <td>0.316243</td>\n",
       "      <td>0.900606</td>\n",
       "      <td>0.05244</td>\n",
       "      <td>-1.214694</td>\n",
       "      <td>-2.059384</td>\n",
       "      <td>-0.224383</td>\n",
       "      <td>-0.067266</td>\n",
       "      <td>-0.186844</td>\n",
       "      <td>-1.192454</td>\n",
       "      <td>-0.004060</td>\n",
       "      <td>1.781773</td>\n",
       "      <td>-0.328008</td>\n",
       "      <td>-1.748768</td>\n",
       "      <td>-0.085144</td>\n",
       "      <td>-0.337346</td>\n",
       "    </tr>\n",
       "    <tr>\n",
       "      <th>1333</th>\n",
       "      <td>2.557737</td>\n",
       "      <td>0.0</td>\n",
       "      <td>-1.593059</td>\n",
       "      <td>1.539229</td>\n",
       "      <td>-0.707817</td>\n",
       "      <td>0.05244</td>\n",
       "      <td>-1.214694</td>\n",
       "      <td>-1.642868</td>\n",
       "      <td>-0.224383</td>\n",
       "      <td>0.076382</td>\n",
       "      <td>-0.186844</td>\n",
       "      <td>-1.053108</td>\n",
       "      <td>0.581216</td>\n",
       "      <td>1.781773</td>\n",
       "      <td>-0.328008</td>\n",
       "      <td>-0.970059</td>\n",
       "      <td>-0.085144</td>\n",
       "      <td>-0.337346</td>\n",
       "    </tr>\n",
       "  </tbody>\n",
       "</table>\n",
       "<p>1334 rows × 18 columns</p>\n",
       "</div>"
      ],
      "text/plain": [
       "      OSEBuildingID  DataYear  Latitude  Longitude  YearBuilt  \\\n",
       "0         -1.400009       0.0  0.034520  -0.028133  -1.034142   \n",
       "1         -1.398639       0.0 -1.445564   2.720835  -0.033746   \n",
       "2         -1.398563       0.0  0.908314   0.595443   1.336749   \n",
       "3         -1.398411       0.0  0.056632   0.052646  -0.926985   \n",
       "4         -1.398182       0.0  0.208887   1.104696  -0.216883   \n",
       "...             ...       ...       ...        ...        ...   \n",
       "1329       2.557330       0.0 -1.563315  -1.604818   0.655475   \n",
       "1330       2.557411       0.0 -0.958907   0.847306   0.936199   \n",
       "1331       2.557493       0.0 -0.329146   0.376963   1.448756   \n",
       "1332       2.557655       0.0 -1.852451   0.316243   0.900606   \n",
       "1333       2.557737       0.0 -1.593059   1.539229  -0.707817   \n",
       "\n",
       "      NumberofBuildings  NumberofFloors  PropertyGFATotal  ENERGYSTARScore  \\\n",
       "0               0.05244        2.086677          0.987444        -1.546863   \n",
       "1               0.05244       -0.106355          0.465771         1.556163   \n",
       "2               0.05244        1.434264          1.061813         0.809600   \n",
       "3               0.05244       -0.106355          0.722249        -0.224383   \n",
       "4               0.05244       -1.214694          1.412947        -0.224383   \n",
       "...                 ...             ...               ...              ...   \n",
       "1329            0.05244       -1.214694         -1.642583        -0.224383   \n",
       "1330            0.05244       -1.214694         -2.254310        -0.973477   \n",
       "1331            0.05244       -1.214694         -1.863664        -0.224383   \n",
       "1332            0.05244       -1.214694         -2.059384        -0.224383   \n",
       "1333            0.05244       -1.214694         -1.642868        -0.224383   \n",
       "\n",
       "      SourceEUI(kBtu/sf)  SteamUse(kBtu)  Electricity(kBtu)  NaturalGas(kBtu)  \\\n",
       "0               0.429093       -0.186844           0.859387          1.794881   \n",
       "1              -0.832124       -0.186844          -0.351736          0.416483   \n",
       "2               0.443196       -0.186844           0.636234          1.193831   \n",
       "3              -0.822164       -0.186844           0.026969         -1.105483   \n",
       "4              -2.274072       -0.186844          -1.849236         -1.105483   \n",
       "...                  ...             ...                ...               ...   \n",
       "1329            0.203285       -0.186844          -0.747522         -0.168255   \n",
       "1330            0.574208       -0.186844          -0.908156         -0.106240   \n",
       "1331            0.055388       -0.186844          -1.112229          0.339979   \n",
       "1332           -0.067266       -0.186844          -1.192454         -0.004060   \n",
       "1333            0.076382       -0.186844          -1.053108          0.581216   \n",
       "\n",
       "      BuildingType  PrimaryPropertyType  CouncilDistrictCode  Neighborhood  \\\n",
       "0        -0.231040            -1.169739             1.224761     -0.818371   \n",
       "1         2.746108            -1.655990            -0.970059      1.777716   \n",
       "2        -0.231040            -1.169739             0.091775      1.195875   \n",
       "3        -0.231040             0.015339             1.224761     -0.818371   \n",
       "4         2.746108            -1.655990            -0.389172     -1.673004   \n",
       "...            ...                  ...                  ...           ...   \n",
       "1329      1.781773             0.015339            -1.748768     -1.224536   \n",
       "1330      1.781773            -0.156717            -0.970059     -0.085144   \n",
       "1331      1.781773             0.015339            -0.970059     -0.818371   \n",
       "1332      1.781773            -0.328008            -1.748768     -0.085144   \n",
       "1333      1.781773            -0.328008            -0.970059     -0.085144   \n",
       "\n",
       "      LargestPropertyUseType  \n",
       "0                  -0.760356  \n",
       "1                  -1.674331  \n",
       "2                  -0.760356  \n",
       "3                   1.793325  \n",
       "4                  -1.674331  \n",
       "...                      ...  \n",
       "1329               -0.337346  \n",
       "1330                0.271123  \n",
       "1331               -0.337346  \n",
       "1332               -0.337346  \n",
       "1333               -0.337346  \n",
       "\n",
       "[1334 rows x 18 columns]"
      ]
     },
     "execution_count": 191,
     "metadata": {},
     "output_type": "execute_result"
    }
   ],
   "source": [
    "X"
   ]
  },
  {
   "cell_type": "code",
   "execution_count": 192,
   "id": "ab941cc5",
   "metadata": {
    "scrolled": false
   },
   "outputs": [],
   "source": [
    "X_train, X_test, y_train, y_test = train_test_split(X, y,test_size = 0.25,random_state = 42)"
   ]
  },
  {
   "cell_type": "markdown",
   "id": "005b3fae",
   "metadata": {},
   "source": [
    "###  Recherche des hyper paramètres"
   ]
  },
  {
   "cell_type": "code",
   "execution_count": 193,
   "id": "0a1ea106",
   "metadata": {},
   "outputs": [
    {
     "data": {
      "text/plain": [
       "{'LinearRegression': {'normalize': True},\n",
       " 'gboost': {'learning_rate': 0.2, 'n_estimators': 50},\n",
       " 'rfr': {'max_depth': 10, 'min_samples_split': 2, 'n_estimators': 100},\n",
       " 'KNeighborsRegressor': {'n_neighbors': 7},\n",
       " 'SVR': {'C': 10, 'epsilon': 0.1, 'kernel': 'linear'},\n",
       " 'ElasticNet': {'alpha': 0.1, 'l1_ratio': 0.9, 'normalize': False}}"
      ]
     },
     "execution_count": 193,
     "metadata": {},
     "output_type": "execute_result"
    }
   ],
   "source": [
    "models = [\n",
    "    ('LinearRegression', LinearRegression(), {'normalize': [True, False]}),\n",
    "    ('gboost', GradientBoostingRegressor(), {\n",
    "        'n_estimators': [50, 100, 200],\n",
    "        'learning_rate': [0.01, 0.1, 0.2]\n",
    "    }),\n",
    "    ('rfr', RandomForestRegressor(), {\n",
    "        'n_estimators': [50, 100, 200],\n",
    "        'max_depth': [None, 10, 20],\n",
    "        'min_samples_split': [2, 5, 10]\n",
    "    }),\n",
    "    ('KNeighborsRegressor', KNeighborsRegressor(), {'n_neighbors': [3, 5, 7]}),\n",
    "    ('SVR', SVR(), {\n",
    "        'kernel': ['linear', 'poly', 'rbf'],\n",
    "        'C': [0.1, 1, 10],\n",
    "        'epsilon': [0.01, 0.1, 0.2]\n",
    "    }),\n",
    "    ('ElasticNet', ElasticNet(), {\n",
    "        'alpha': [0.01, 0.1, 1.0],\n",
    "        'l1_ratio': [0.1, 0.5, 0.9],\n",
    "        'normalize': [True, False]\n",
    "    })\n",
    "]\n",
    "\n",
    "best_params = {}\n",
    "\n",
    "for model_name, model, param_grid in models:\n",
    "    grid_search = GridSearchCV(model, param_grid, cv=5, n_jobs=-1)\n",
    "    grid_search.fit(X_train, y_train)\n",
    "    best_params[model_name] = grid_search.best_params_\n",
    "best_params"
   ]
  },
  {
   "cell_type": "code",
   "execution_count": 194,
   "id": "21f6e9d9",
   "metadata": {},
   "outputs": [],
   "source": [
    "models = [\n",
    "    ('Dummy Regressor', DummyRegressor(), {'strategy' : ['mean']}),  \n",
    "    ('Linear Regression', LinearRegression(), {'fit_intercept': [True, False], 'normalize': [True, False], 'copy_X': [True]}),\n",
    "    ('Elastic Net', ElasticNet(), {'alpha': [1,0.1,0.01,0.001], 'max_iter': [1000], 'random_state': [42], 'tol': [0.001]}),\n",
    "    ('K-Neighbors Regressor', KNeighborsRegressor(), {'n_neighbors': list(range(1,30))}),\n",
    "    ('SVR', SVR(), {'gamma' : ['scale'],'epsilon' : [0.001, 0.01, 0.1, 1],'C' : [0.001, 0.01, 0.1, 1, 10], 'tol':[0.001]}),\n",
    "    ('Random Forest Regressor', RandomForestRegressor(), {'n_estimators': [100, 500, 1000], 'max_features': ['auto'], 'n_jobs': [-1], \n",
    "              'random_state': [42], 'max_depth': [None]}),\n",
    "    ('Gradient Boosting Regressor', GradientBoostingRegressor(), \n",
    "     {'n_estimators':[100, 500, 1000], 'random_state': [42], 'max_depth': [None]})\n",
    "]\n"
   ]
  },
  {
   "cell_type": "code",
   "execution_count": 195,
   "id": "e5e71bf4",
   "metadata": {
    "scrolled": false
   },
   "outputs": [
    {
     "data": {
      "text/html": [
       "<div>\n",
       "<style scoped>\n",
       "    .dataframe tbody tr th:only-of-type {\n",
       "        vertical-align: middle;\n",
       "    }\n",
       "\n",
       "    .dataframe tbody tr th {\n",
       "        vertical-align: top;\n",
       "    }\n",
       "\n",
       "    .dataframe thead th {\n",
       "        text-align: right;\n",
       "    }\n",
       "</style>\n",
       "<table border=\"1\" class=\"dataframe\">\n",
       "  <thead>\n",
       "    <tr style=\"text-align: right;\">\n",
       "      <th></th>\n",
       "      <th>Model</th>\n",
       "      <th>CV Type</th>\n",
       "      <th>Train R2</th>\n",
       "      <th>Test R2</th>\n",
       "      <th>RMSE</th>\n",
       "      <th>Median absolute error</th>\n",
       "      <th>Elapsed Time</th>\n",
       "    </tr>\n",
       "  </thead>\n",
       "  <tbody>\n",
       "    <tr>\n",
       "      <th>0</th>\n",
       "      <td>Dummy Regressor</td>\n",
       "      <td>No CV</td>\n",
       "      <td>0.000000</td>\n",
       "      <td>-0.001636</td>\n",
       "      <td>49.501962</td>\n",
       "      <td>31.02</td>\n",
       "      <td>0.001999</td>\n",
       "    </tr>\n",
       "    <tr>\n",
       "      <th>1</th>\n",
       "      <td>Dummy Regressor</td>\n",
       "      <td>GridSearchCV</td>\n",
       "      <td>0.000000</td>\n",
       "      <td>-0.001636</td>\n",
       "      <td>49.501962</td>\n",
       "      <td>31.02</td>\n",
       "      <td>0.012016</td>\n",
       "    </tr>\n",
       "    <tr>\n",
       "      <th>2</th>\n",
       "      <td>Dummy Regressor</td>\n",
       "      <td>RandomizedSearchCV</td>\n",
       "      <td>0.000000</td>\n",
       "      <td>-0.001636</td>\n",
       "      <td>49.501962</td>\n",
       "      <td>31.02</td>\n",
       "      <td>0.012117</td>\n",
       "    </tr>\n",
       "    <tr>\n",
       "      <th>3</th>\n",
       "      <td>Linear Regression</td>\n",
       "      <td>No CV</td>\n",
       "      <td>0.805540</td>\n",
       "      <td>0.817542</td>\n",
       "      <td>21.127564</td>\n",
       "      <td>12.41</td>\n",
       "      <td>0.005008</td>\n",
       "    </tr>\n",
       "    <tr>\n",
       "      <th>4</th>\n",
       "      <td>Linear Regression</td>\n",
       "      <td>GridSearchCV</td>\n",
       "      <td>0.805540</td>\n",
       "      <td>0.817542</td>\n",
       "      <td>21.127564</td>\n",
       "      <td>12.41</td>\n",
       "      <td>0.043716</td>\n",
       "    </tr>\n",
       "    <tr>\n",
       "      <th>5</th>\n",
       "      <td>Linear Regression</td>\n",
       "      <td>RandomizedSearchCV</td>\n",
       "      <td>0.805540</td>\n",
       "      <td>0.817542</td>\n",
       "      <td>21.127564</td>\n",
       "      <td>12.41</td>\n",
       "      <td>0.046203</td>\n",
       "    </tr>\n",
       "    <tr>\n",
       "      <th>6</th>\n",
       "      <td>Elastic Net</td>\n",
       "      <td>No CV</td>\n",
       "      <td>0.724405</td>\n",
       "      <td>0.724599</td>\n",
       "      <td>25.956746</td>\n",
       "      <td>12.96</td>\n",
       "      <td>0.006191</td>\n",
       "    </tr>\n",
       "    <tr>\n",
       "      <th>7</th>\n",
       "      <td>Elastic Net</td>\n",
       "      <td>GridSearchCV</td>\n",
       "      <td>0.805515</td>\n",
       "      <td>0.817052</td>\n",
       "      <td>21.155892</td>\n",
       "      <td>12.40</td>\n",
       "      <td>0.047243</td>\n",
       "    </tr>\n",
       "    <tr>\n",
       "      <th>8</th>\n",
       "      <td>Elastic Net</td>\n",
       "      <td>RandomizedSearchCV</td>\n",
       "      <td>0.805515</td>\n",
       "      <td>0.817052</td>\n",
       "      <td>21.155892</td>\n",
       "      <td>12.40</td>\n",
       "      <td>0.046997</td>\n",
       "    </tr>\n",
       "    <tr>\n",
       "      <th>9</th>\n",
       "      <td>K-Neighbors Regressor</td>\n",
       "      <td>No CV</td>\n",
       "      <td>0.759053</td>\n",
       "      <td>0.651408</td>\n",
       "      <td>29.202914</td>\n",
       "      <td>10.30</td>\n",
       "      <td>0.031003</td>\n",
       "    </tr>\n",
       "    <tr>\n",
       "      <th>10</th>\n",
       "      <td>K-Neighbors Regressor</td>\n",
       "      <td>GridSearchCV</td>\n",
       "      <td>0.746704</td>\n",
       "      <td>0.662876</td>\n",
       "      <td>28.718545</td>\n",
       "      <td>10.82</td>\n",
       "      <td>0.307559</td>\n",
       "    </tr>\n",
       "    <tr>\n",
       "      <th>11</th>\n",
       "      <td>K-Neighbors Regressor</td>\n",
       "      <td>RandomizedSearchCV</td>\n",
       "      <td>0.699423</td>\n",
       "      <td>0.653468</td>\n",
       "      <td>29.116492</td>\n",
       "      <td>10.56</td>\n",
       "      <td>0.088670</td>\n",
       "    </tr>\n",
       "    <tr>\n",
       "      <th>12</th>\n",
       "      <td>SVR</td>\n",
       "      <td>No CV</td>\n",
       "      <td>0.417759</td>\n",
       "      <td>0.372190</td>\n",
       "      <td>39.190565</td>\n",
       "      <td>10.80</td>\n",
       "      <td>0.153961</td>\n",
       "    </tr>\n",
       "    <tr>\n",
       "      <th>13</th>\n",
       "      <td>SVR</td>\n",
       "      <td>GridSearchCV</td>\n",
       "      <td>0.784770</td>\n",
       "      <td>0.716177</td>\n",
       "      <td>26.350661</td>\n",
       "      <td>5.81</td>\n",
       "      <td>0.668772</td>\n",
       "    </tr>\n",
       "    <tr>\n",
       "      <th>14</th>\n",
       "      <td>SVR</td>\n",
       "      <td>RandomizedSearchCV</td>\n",
       "      <td>-0.002696</td>\n",
       "      <td>-0.028570</td>\n",
       "      <td>50.163105</td>\n",
       "      <td>23.96</td>\n",
       "      <td>0.302747</td>\n",
       "    </tr>\n",
       "    <tr>\n",
       "      <th>15</th>\n",
       "      <td>Random Forest Regressor</td>\n",
       "      <td>No CV</td>\n",
       "      <td>0.993819</td>\n",
       "      <td>0.941774</td>\n",
       "      <td>11.935128</td>\n",
       "      <td>0.78</td>\n",
       "      <td>0.510250</td>\n",
       "    </tr>\n",
       "    <tr>\n",
       "      <th>16</th>\n",
       "      <td>Random Forest Regressor</td>\n",
       "      <td>GridSearchCV</td>\n",
       "      <td>0.993840</td>\n",
       "      <td>0.943592</td>\n",
       "      <td>11.747329</td>\n",
       "      <td>0.73</td>\n",
       "      <td>4.750013</td>\n",
       "    </tr>\n",
       "    <tr>\n",
       "      <th>17</th>\n",
       "      <td>Random Forest Regressor</td>\n",
       "      <td>RandomizedSearchCV</td>\n",
       "      <td>0.993840</td>\n",
       "      <td>0.943592</td>\n",
       "      <td>11.747329</td>\n",
       "      <td>0.73</td>\n",
       "      <td>4.973655</td>\n",
       "    </tr>\n",
       "    <tr>\n",
       "      <th>18</th>\n",
       "      <td>Gradient Boosting Regressor</td>\n",
       "      <td>No CV</td>\n",
       "      <td>0.994980</td>\n",
       "      <td>0.956355</td>\n",
       "      <td>10.333164</td>\n",
       "      <td>1.63</td>\n",
       "      <td>0.197870</td>\n",
       "    </tr>\n",
       "    <tr>\n",
       "      <th>19</th>\n",
       "      <td>Gradient Boosting Regressor</td>\n",
       "      <td>GridSearchCV</td>\n",
       "      <td>1.000000</td>\n",
       "      <td>0.934757</td>\n",
       "      <td>12.633814</td>\n",
       "      <td>1.04</td>\n",
       "      <td>2.442862</td>\n",
       "    </tr>\n",
       "    <tr>\n",
       "      <th>20</th>\n",
       "      <td>Gradient Boosting Regressor</td>\n",
       "      <td>RandomizedSearchCV</td>\n",
       "      <td>1.000000</td>\n",
       "      <td>0.934757</td>\n",
       "      <td>12.633814</td>\n",
       "      <td>1.04</td>\n",
       "      <td>2.460111</td>\n",
       "    </tr>\n",
       "  </tbody>\n",
       "</table>\n",
       "</div>"
      ],
      "text/plain": [
       "                          Model             CV Type  Train R2   Test R2  \\\n",
       "0               Dummy Regressor               No CV  0.000000 -0.001636   \n",
       "1               Dummy Regressor        GridSearchCV  0.000000 -0.001636   \n",
       "2               Dummy Regressor  RandomizedSearchCV  0.000000 -0.001636   \n",
       "3             Linear Regression               No CV  0.805540  0.817542   \n",
       "4             Linear Regression        GridSearchCV  0.805540  0.817542   \n",
       "5             Linear Regression  RandomizedSearchCV  0.805540  0.817542   \n",
       "6                   Elastic Net               No CV  0.724405  0.724599   \n",
       "7                   Elastic Net        GridSearchCV  0.805515  0.817052   \n",
       "8                   Elastic Net  RandomizedSearchCV  0.805515  0.817052   \n",
       "9         K-Neighbors Regressor               No CV  0.759053  0.651408   \n",
       "10        K-Neighbors Regressor        GridSearchCV  0.746704  0.662876   \n",
       "11        K-Neighbors Regressor  RandomizedSearchCV  0.699423  0.653468   \n",
       "12                          SVR               No CV  0.417759  0.372190   \n",
       "13                          SVR        GridSearchCV  0.784770  0.716177   \n",
       "14                          SVR  RandomizedSearchCV -0.002696 -0.028570   \n",
       "15      Random Forest Regressor               No CV  0.993819  0.941774   \n",
       "16      Random Forest Regressor        GridSearchCV  0.993840  0.943592   \n",
       "17      Random Forest Regressor  RandomizedSearchCV  0.993840  0.943592   \n",
       "18  Gradient Boosting Regressor               No CV  0.994980  0.956355   \n",
       "19  Gradient Boosting Regressor        GridSearchCV  1.000000  0.934757   \n",
       "20  Gradient Boosting Regressor  RandomizedSearchCV  1.000000  0.934757   \n",
       "\n",
       "         RMSE  Median absolute error  Elapsed Time  \n",
       "0   49.501962                  31.02      0.001999  \n",
       "1   49.501962                  31.02      0.012016  \n",
       "2   49.501962                  31.02      0.012117  \n",
       "3   21.127564                  12.41      0.005008  \n",
       "4   21.127564                  12.41      0.043716  \n",
       "5   21.127564                  12.41      0.046203  \n",
       "6   25.956746                  12.96      0.006191  \n",
       "7   21.155892                  12.40      0.047243  \n",
       "8   21.155892                  12.40      0.046997  \n",
       "9   29.202914                  10.30      0.031003  \n",
       "10  28.718545                  10.82      0.307559  \n",
       "11  29.116492                  10.56      0.088670  \n",
       "12  39.190565                  10.80      0.153961  \n",
       "13  26.350661                   5.81      0.668772  \n",
       "14  50.163105                  23.96      0.302747  \n",
       "15  11.935128                   0.78      0.510250  \n",
       "16  11.747329                   0.73      4.750013  \n",
       "17  11.747329                   0.73      4.973655  \n",
       "18  10.333164                   1.63      0.197870  \n",
       "19  12.633814                   1.04      2.442862  \n",
       "20  12.633814                   1.04      2.460111  "
      ]
     },
     "execution_count": 195,
     "metadata": {},
     "output_type": "execute_result"
    }
   ],
   "source": [
    "results = []\n",
    "\n",
    "for model_name, model, param_grid in models:\n",
    "   \n",
    "    start_time = time.time()\n",
    "    model.fit(X_train, y_train)\n",
    "    y_pred = model.predict(X_test)\n",
    "    train_r2 = r2_score(y_train, model.predict(X_train))\n",
    "    test_r2 = r2_score(y_test, y_pred)\n",
    "    rmse = np.sqrt(mean_squared_error(y_test, y_pred))\n",
    "    med_abs_error= round(median_absolute_error(y_test, y_pred),2)\n",
    "    elapsed_time = time.time() - start_time\n",
    "    results.append([model_name, 'No CV', train_r2, test_r2, rmse, med_abs_error, elapsed_time])\n",
    "\n",
    "   \n",
    "    grid_search = GridSearchCV(model, param_grid, cv=5, n_jobs=-1)\n",
    "    start_time = time.time()\n",
    "    grid_search.fit(X_train, y_train)\n",
    "    best_model = grid_search.best_estimator_\n",
    "    y_pred = best_model.predict(X_test)\n",
    "    train_r2 = r2_score(y_train, best_model.predict(X_train))\n",
    "    test_r2 = r2_score(y_test, y_pred)\n",
    "    rmse = np.sqrt(mean_squared_error(y_test, y_pred))\n",
    "    med_abs_error= round(median_absolute_error(y_test, y_pred),2)\n",
    "    elapsed_time = time.time() - start_time\n",
    "    results.append([model_name, 'GridSearchCV', train_r2, test_r2, rmse,med_abs_error, elapsed_time])\n",
    "\n",
    "  \n",
    "    randomized_search = RandomizedSearchCV(model, param_grid, n_iter=5, cv=5, n_jobs=-1)\n",
    "    start_time = time.time()\n",
    "    randomized_search.fit(X_train, y_train)\n",
    "    best_model = randomized_search.best_estimator_\n",
    "    y_pred = best_model.predict(X_test)\n",
    "    train_r2 = r2_score(y_train, best_model.predict(X_train))\n",
    "    test_r2 = r2_score(y_test, y_pred)\n",
    "    rmse = np.sqrt(mean_squared_error(y_test, y_pred))\n",
    "    med_abs_error= round(median_absolute_error(y_test, y_pred),2)\n",
    "    elapsed_time = time.time() - start_time\n",
    "    results.append([model_name, 'RandomizedSearchCV', train_r2, test_r2, rmse,med_abs_error, elapsed_time])\n",
    "\n",
    "results_df = pd.DataFrame(results, columns=['Model', 'CV Type', 'Train R2', 'Test R2', 'RMSE','Median absolute error',\n",
    "                                            'Elapsed Time'])\n",
    "\n",
    "results_df\n"
   ]
  },
  {
   "cell_type": "code",
   "execution_count": 196,
   "id": "2d0d26ad",
   "metadata": {},
   "outputs": [
    {
     "data": {
      "text/plain": [
       "GradientBoostingRegressor(learning_rate=0.2, n_estimators=50)"
      ]
     },
     "execution_count": 196,
     "metadata": {},
     "output_type": "execute_result"
    }
   ],
   "source": [
    "gboost = GradientBoostingRegressor(**best_params['gboost'])\n",
    "gboost.fit(X_train, y_train)"
   ]
  },
  {
   "cell_type": "code",
   "execution_count": 197,
   "id": "9fed11c2",
   "metadata": {},
   "outputs": [
    {
     "name": "stdout",
     "output_type": "stream",
     "text": [
      "Score train :  0.993\n",
      "Score test  :  0.96\n"
     ]
    }
   ],
   "source": [
    "print('Score train : ',round(gboost.score(X_train, y_train),3))\n",
    "print('Score test  : ',round(gboost.score(X_test, y_test),3))"
   ]
  },
  {
   "cell_type": "code",
   "execution_count": 198,
   "id": "fa082719",
   "metadata": {},
   "outputs": [
    {
     "data": {
      "text/plain": [
       "RandomForestRegressor(max_depth=10)"
      ]
     },
     "execution_count": 198,
     "metadata": {},
     "output_type": "execute_result"
    }
   ],
   "source": [
    "rfr = RandomForestRegressor(**best_params['rfr'])\n",
    "rfr.fit(X_train, y_train)"
   ]
  },
  {
   "cell_type": "code",
   "execution_count": 199,
   "id": "4b6e74b1",
   "metadata": {},
   "outputs": [
    {
     "name": "stdout",
     "output_type": "stream",
     "text": [
      "Score train :  0.994\n",
      "Score test  :  0.94\n"
     ]
    }
   ],
   "source": [
    "print('Score train : ',round(rfr.score(X_train, y_train),3))\n",
    "print('Score test  : ',round(rfr.score(X_test, y_test),3))"
   ]
  },
  {
   "cell_type": "markdown",
   "id": "a6eea808",
   "metadata": {},
   "source": [
    "#### Courbe d'apprentissage du modèle Gradientboost"
   ]
  },
  {
   "cell_type": "code",
   "execution_count": 200,
   "id": "20315447",
   "metadata": {
    "scrolled": false
   },
   "outputs": [
    {
     "data": {
      "image/png": "[encoded data removed]",
      "text/plain": [
       "<Figure size 720x432 with 1 Axes>"
      ]
     },
     "metadata": {},
     "output_type": "display_data"
    }
   ],
   "source": [
    "N,train_score,val_score = learning_curve(gboost,X_train,y_train,train_sizes = np.linspace(0.1,1.0,10))\n",
    "plt.figure(figsize=(10, 6))\n",
    "plt.plot(N,train_score.mean(axis=1),label='train')\n",
    "plt.plot(N,val_score.mean(axis=1), label='validation')\n",
    "plt.xlabel('train_sizes')\n",
    "plt.title(\"Courbe d'apprentissage\", size = 14)\n",
    "plt.legend()\n",
    "plt.show()"
   ]
  },
  {
   "cell_type": "markdown",
   "id": "f52fba55",
   "metadata": {},
   "source": [
    "#### Courbe de validation du modèle Gradientboost"
   ]
  },
  {
   "cell_type": "code",
   "execution_count": 201,
   "id": "0cac7655",
   "metadata": {},
   "outputs": [],
   "source": [
    "param_range = [50, 100, 150, 200, 250]  \n",
    "train_scores, test_scores = validation_curve(\n",
    "    gboost,  \n",
    "    X_train, y_train,\n",
    "    param_name=\"n_estimators\",  \n",
    "    param_range=param_range,\n",
    "    cv=5,  \n",
    "    scoring=\"r2\",  \n",
    "    n_jobs=-1  \n",
    ")\n"
   ]
  },
  {
   "cell_type": "code",
   "execution_count": 202,
   "id": "0dc9159e",
   "metadata": {},
   "outputs": [],
   "source": [
    "train_scores_mean = np.mean(train_scores, axis=1)\n",
    "train_scores_std = np.std(train_scores, axis=1)\n",
    "test_scores_mean = np.mean(test_scores, axis=1)\n",
    "test_scores_std = np.std(test_scores, axis=1)\n"
   ]
  },
  {
   "cell_type": "code",
   "execution_count": 203,
   "id": "84dec11f",
   "metadata": {
    "scrolled": false
   },
   "outputs": [
    {
     "data": {
      "image/png": "[encoded data removed]",
      "text/plain": [
       "<Figure size 720x432 with 1 Axes>"
      ]
     },
     "metadata": {},
     "output_type": "display_data"
    }
   ],
   "source": [
    "plt.figure(figsize=(10, 6))\n",
    "plt.title(\"Courbe de validation avec GradientBoostingRegressor\")\n",
    "plt.xlabel(\"Number of Estimators\")\n",
    "plt.ylabel(\"R-squared\")\n",
    "plt.ylim(0.0, 1.1)\n",
    "plt.grid()\n",
    "\n",
    "plt.fill_between(param_range, train_scores_mean - train_scores_std, train_scores_mean + train_scores_std, alpha=0.2, color=\"b\")\n",
    "plt.fill_between(param_range, test_scores_mean - test_scores_std, test_scores_mean + test_scores_std, alpha=0.2, color=\"r\")\n",
    "plt.plot(param_range, train_scores_mean, 'o-', color=\"b\", label=\"Training Score\")\n",
    "plt.plot(param_range, test_scores_mean, 'o-', color=\"r\", label=\"Cross-Validation Score\")\n",
    "\n",
    "plt.legend(loc=\"best\")\n",
    "plt.show()\n"
   ]
  },
  {
   "cell_type": "code",
   "execution_count": 204,
   "id": "69593ec0",
   "metadata": {
    "scrolled": false
   },
   "outputs": [
    {
     "data": {
      "image/png": "[encoded data removed]",
      "text/plain": [
       "<Figure size 720x432 with 1 Axes>"
      ]
     },
     "metadata": {},
     "output_type": "display_data"
    }
   ],
   "source": [
    "y_pred = gboost.predict(X_test)\n",
    "plt.figure(figsize=(10, 6))\n",
    "plt.scatter(y_test, y_pred, alpha=0.5, color='b', label='Scatterplot')\n",
    "plt.plot([min(y_test), max(y_test)], [min(y_test), max(y_test)], color='red', linestyle='--',\n",
    "         linewidth=2, label='Prédiction Parfaite')\n",
    "plt.xlabel('Valeurs Réelles')\n",
    "plt.ylabel('Prédictions')\n",
    "plt.legend(loc='upper left')\n",
    "\n",
    "plt.show()\n"
   ]
  },
  {
   "cell_type": "markdown",
   "id": "77e4d79a",
   "metadata": {},
   "source": [
    "#### Courbe d'apprentissage du modèle avec RandomForest"
   ]
  },
  {
   "cell_type": "code",
   "execution_count": 205,
   "id": "d818f586",
   "metadata": {
    "scrolled": false
   },
   "outputs": [
    {
     "data": {
      "image/png": "[encoded data removed]",
      "text/plain": [
       "<Figure size 720x432 with 1 Axes>"
      ]
     },
     "metadata": {},
     "output_type": "display_data"
    }
   ],
   "source": [
    "N,train_score,val_score = learning_curve(rfr,X_train,y_train,train_sizes =np.linspace(0.1,1.0,10))\n",
    "plt.figure(figsize=(10, 6))\n",
    "plt.plot(N,train_score.mean(axis=1),label='train')\n",
    "plt.plot(N,val_score.mean(axis=1), label='validation')\n",
    "plt.xlabel('train_sizes')\n",
    "plt.title(\"Courbe d'apprentissage\", size = 14)\n",
    "plt.legend()\n",
    "plt.show()"
   ]
  },
  {
   "cell_type": "markdown",
   "id": "99d48363",
   "metadata": {},
   "source": [
    "#### Courbe de validation du modèle avec RandomForest"
   ]
  },
  {
   "cell_type": "code",
   "execution_count": 206,
   "id": "97ce6660",
   "metadata": {},
   "outputs": [],
   "source": [
    "param_range = [50, 100, 150, 200, 250]  \n",
    "train_scores, test_scores = validation_curve(\n",
    "    rfr,  \n",
    "    X_train, y_train,\n",
    "    param_name=\"n_estimators\",  \n",
    "    param_range=param_range,\n",
    "    cv=5,  \n",
    "    scoring=\"r2\",  \n",
    "    n_jobs=-1  \n",
    ")\n"
   ]
  },
  {
   "cell_type": "code",
   "execution_count": 207,
   "id": "75273301",
   "metadata": {},
   "outputs": [],
   "source": [
    "train_scores_mean = np.mean(train_scores, axis=1)\n",
    "train_scores_std = np.std(train_scores, axis=1)\n",
    "test_scores_mean = np.mean(test_scores, axis=1)\n",
    "test_scores_std = np.std(test_scores, axis=1)\n"
   ]
  },
  {
   "cell_type": "code",
   "execution_count": 208,
   "id": "594f4ab4",
   "metadata": {
    "scrolled": false
   },
   "outputs": [
    {
     "data": {
      "image/png": "[encoded data removed]",
      "text/plain": [
       "<Figure size 720x432 with 1 Axes>"
      ]
     },
     "metadata": {},
     "output_type": "display_data"
    }
   ],
   "source": [
    "plt.figure(figsize=(10, 6))\n",
    "plt.title(\"Courbe de validation avec RandomForestRegresssor\")\n",
    "plt.xlabel(\"Number of Estimators\")\n",
    "plt.ylabel(\"R-squared\")\n",
    "plt.ylim(0.0, 1.1)\n",
    "plt.grid()\n",
    "\n",
    "plt.fill_between(param_range, train_scores_mean - train_scores_std, train_scores_mean + train_scores_std, alpha=0.2, color=\"b\")\n",
    "plt.fill_between(param_range, test_scores_mean - test_scores_std, test_scores_mean + test_scores_std, alpha=0.2, color=\"r\")\n",
    "plt.plot(param_range, train_scores_mean, 'o-', color=\"b\", label=\"Training Score\")\n",
    "plt.plot(param_range, test_scores_mean, 'o-', color=\"r\", label=\"Cross-Validation Score\")\n",
    "\n",
    "plt.legend(loc=\"best\")\n",
    "plt.show()\n"
   ]
  },
  {
   "cell_type": "code",
   "execution_count": 209,
   "id": "d5cd3440",
   "metadata": {},
   "outputs": [
    {
     "data": {
      "image/png": "[encoded data removed]",
      "text/plain": [
       "<Figure size 720x432 with 1 Axes>"
      ]
     },
     "metadata": {},
     "output_type": "display_data"
    }
   ],
   "source": [
    "y_pred = rfr.predict(X_test)\n",
    "plt.figure(figsize=(10, 6))\n",
    "plt.scatter(y_test, y_pred, alpha=0.5, color='b', label='Scatterplot')\n",
    "plt.plot([min(y_test), max(y_test)], [min(y_test), max(y_test)], color='red', linestyle='--',\n",
    "         linewidth=2, label='Prédiction Parfaite')\n",
    "plt.xlabel('Valeurs Réelles')\n",
    "plt.ylabel('Prédictions')\n",
    "plt.legend(loc='upper left')\n",
    "\n",
    "plt.show()\n"
   ]
  },
  {
   "cell_type": "markdown",
   "id": "e2391385",
   "metadata": {},
   "source": [
    "#### Features importance"
   ]
  },
  {
   "cell_type": "code",
   "execution_count": 210,
   "id": "2ca7d745",
   "metadata": {},
   "outputs": [],
   "source": [
    "feature_importance_rf = rfr.feature_importances_"
   ]
  },
  {
   "cell_type": "code",
   "execution_count": 211,
   "id": "83f6fb30",
   "metadata": {},
   "outputs": [],
   "source": [
    "feature_importance_gb = gboost.feature_importances_"
   ]
  },
  {
   "cell_type": "code",
   "execution_count": 212,
   "id": "4f0f4042",
   "metadata": {},
   "outputs": [
    {
     "data": {
      "text/plain": [
       "(18,)"
      ]
     },
     "execution_count": 212,
     "metadata": {},
     "output_type": "execute_result"
    }
   ],
   "source": [
    "feature_importance_rf.shape"
   ]
  },
  {
   "cell_type": "code",
   "execution_count": 213,
   "id": "5197e71f",
   "metadata": {},
   "outputs": [
    {
     "data": {
      "text/plain": [
       "(18,)"
      ]
     },
     "execution_count": 213,
     "metadata": {},
     "output_type": "execute_result"
    }
   ],
   "source": [
    "feature_importance_gb.shape"
   ]
  },
  {
   "cell_type": "code",
   "execution_count": 214,
   "id": "db942624",
   "metadata": {},
   "outputs": [
    {
     "data": {
      "image/png": "[encoded data removed]",
      "text/plain": [
       "<Figure size 864x432 with 1 Axes>"
      ]
     },
     "metadata": {},
     "output_type": "display_data"
    }
   ],
   "source": [
    "importance_df = pd.DataFrame({'Feature': X_train.columns, 'RandomForest': feature_importance_rf,\n",
    "                              'GradientBoosting': feature_importance_gb})\n",
    "\n",
    "importance_df.sort_values(by='RandomForest', ascending=False, inplace=True)\n",
    "\n",
    "bar_width = 0.35\n",
    "index = np.arange(len(importance_df))\n",
    "\n",
    "plt.figure(figsize=(12, 6))\n",
    "plt.bar(index, importance_df['RandomForest'], bar_width, label='RandomForest', alpha=0.7)\n",
    "plt.bar(index + bar_width, importance_df['GradientBoosting'], bar_width, label='GradientBoosting', alpha=0.7)\n",
    "plt.xticks(index + bar_width / 2, importance_df['Feature'], rotation=90)\n",
    "plt.xlabel('Feature')\n",
    "plt.ylabel('Importance')\n",
    "plt.legend()\n",
    "plt.title('Feature Importance Comparison')\n",
    "plt.tight_layout()\n",
    "plt.show()"
   ]
  },
  {
   "cell_type": "code",
   "execution_count": 215,
   "id": "a88bd465",
   "metadata": {},
   "outputs": [
    {
     "data": {
      "text/plain": [
       "NaturalGas(kBtu)          76.780056\n",
       "Electricity(kBtu)         12.989392\n",
       "SteamUse(kBtu)             7.149544\n",
       "NumberofFloors             1.730097\n",
       "PropertyGFATotal           0.455993\n",
       "SourceEUI(kBtu/sf)         0.267891\n",
       "Longitude                  0.245104\n",
       "LargestPropertyUseType     0.142619\n",
       "ENERGYSTARScore            0.083878\n",
       "OSEBuildingID              0.043849\n",
       "Latitude                   0.031439\n",
       "PrimaryPropertyType        0.030835\n",
       "CouncilDistrictCode        0.018761\n",
       "Neighborhood               0.018396\n",
       "YearBuilt                  0.012145\n",
       "DataYear                   0.000000\n",
       "NumberofBuildings          0.000000\n",
       "BuildingType               0.000000\n",
       "dtype: float64"
      ]
     },
     "execution_count": 215,
     "metadata": {},
     "output_type": "execute_result"
    }
   ],
   "source": [
    "pd.Series(gboost.feature_importances_*100, index=X_train.columns).nlargest(20)"
   ]
  },
  {
   "cell_type": "code",
   "execution_count": 216,
   "id": "cdd58f58",
   "metadata": {},
   "outputs": [
    {
     "data": {
      "text/plain": [
       "NaturalGas(kBtu)          76.441067\n",
       "Electricity(kBtu)         11.569403\n",
       "SteamUse(kBtu)             6.323757\n",
       "NumberofFloors             2.376951\n",
       "PropertyGFATotal           0.819346\n",
       "Longitude                  0.425304\n",
       "SourceEUI(kBtu/sf)         0.351429\n",
       "OSEBuildingID              0.318601\n",
       "ENERGYSTARScore            0.294825\n",
       "YearBuilt                  0.239616\n",
       "PrimaryPropertyType        0.225256\n",
       "Latitude                   0.219605\n",
       "LargestPropertyUseType     0.197304\n",
       "CouncilDistrictCode        0.089033\n",
       "BuildingType               0.052904\n",
       "Neighborhood               0.052086\n",
       "NumberofBuildings          0.003514\n",
       "DataYear                   0.000000\n",
       "dtype: float64"
      ]
     },
     "execution_count": 216,
     "metadata": {},
     "output_type": "execute_result"
    }
   ],
   "source": [
    "pd.Series(rfr.feature_importances_*100, index=X_train.columns).nlargest(20)"
   ]
  },
  {
   "cell_type": "code",
   "execution_count": 217,
   "id": "508952d9",
   "metadata": {},
   "outputs": [
    {
     "data": {
      "image/png": "[encoded data removed]",
      "text/plain": [
       "<Figure size 576x432 with 1 Axes>"
      ]
     },
     "metadata": {},
     "output_type": "display_data"
    }
   ],
   "source": [
    "plt.figure(figsize=(8, 6))\n",
    "y_pred = rfr.predict(X_test)\n",
    "histo_erreur = np.abs(y_test - y_pred)\n",
    "plt.hist(histo_erreur, bins= 50)\n",
    "plt.show()"
   ]
  },
  {
   "cell_type": "markdown",
   "id": "66b8efb5",
   "metadata": {},
   "source": [
    "## Prédiction des émissions de CO2 sans avoir Energyscore dans les données"
   ]
  },
  {
   "cell_type": "markdown",
   "id": "f8e4fb8c",
   "metadata": {},
   "source": [
    "### Modélisation de plusieurs modèles"
   ]
  },
  {
   "cell_type": "code",
   "execution_count": 218,
   "id": "b81dd15f",
   "metadata": {},
   "outputs": [],
   "source": [
    "new_df = df2.copy()"
   ]
  },
  {
   "cell_type": "code",
   "execution_count": 219,
   "id": "d05c37a5",
   "metadata": {},
   "outputs": [],
   "source": [
    "y = new_df['TotalGHGEmissions']\n",
    "X = new_df.drop(['SiteEnergyUseWN(kBtu)','TotalGHGEmissions','ENERGYSTARScore'], axis=1)\n",
    "categorical_columns = X.select_dtypes(['category','object']).columns.tolist()\n",
    "numerical_columns = X.select_dtypes(['int64','float64']).columns.tolist()"
   ]
  },
  {
   "cell_type": "code",
   "execution_count": 220,
   "id": "912a6a3a",
   "metadata": {},
   "outputs": [],
   "source": [
    "\n",
    "column_transformer = ColumnTransformer(\n",
    "    transformers=[\n",
    "        ('num', RobustScaler(), numerical_columns),\n",
    "        ('cat', OrdinalEncoder(), categorical_columns)\n",
    "    ],\n",
    "    remainder='passthrough')\n"
   ]
  },
  {
   "cell_type": "code",
   "execution_count": 221,
   "id": "8ba91be1",
   "metadata": {
    "scrolled": true
   },
   "outputs": [],
   "source": [
    "pipeline = Pipeline([\n",
    "    ('column_transform', column_transformer)\n",
    "])\n",
    "\n",
    "X= pipeline.fit_transform(X)\n"
   ]
  },
  {
   "cell_type": "markdown",
   "id": "b9e61b4c",
   "metadata": {},
   "source": [
    "### Passage dans PowerTransform pour plus normalisé les données afin d'améliorer notre résultat"
   ]
  },
  {
   "cell_type": "code",
   "execution_count": 222,
   "id": "cc0d417a",
   "metadata": {},
   "outputs": [],
   "source": [
    "pt = PowerTransformer()\n",
    "X= pt.fit_transform(X)\n"
   ]
  },
  {
   "cell_type": "code",
   "execution_count": 223,
   "id": "fdba57e4",
   "metadata": {},
   "outputs": [
    {
     "data": {
      "text/html": [
       "<div>\n",
       "<style scoped>\n",
       "    .dataframe tbody tr th:only-of-type {\n",
       "        vertical-align: middle;\n",
       "    }\n",
       "\n",
       "    .dataframe tbody tr th {\n",
       "        vertical-align: top;\n",
       "    }\n",
       "\n",
       "    .dataframe thead th {\n",
       "        text-align: right;\n",
       "    }\n",
       "</style>\n",
       "<table border=\"1\" class=\"dataframe\">\n",
       "  <thead>\n",
       "    <tr style=\"text-align: right;\">\n",
       "      <th></th>\n",
       "      <th>OSEBuildingID</th>\n",
       "      <th>DataYear</th>\n",
       "      <th>Latitude</th>\n",
       "      <th>Longitude</th>\n",
       "      <th>YearBuilt</th>\n",
       "      <th>NumberofBuildings</th>\n",
       "      <th>NumberofFloors</th>\n",
       "      <th>PropertyGFATotal</th>\n",
       "      <th>SourceEUI(kBtu/sf)</th>\n",
       "      <th>SteamUse(kBtu)</th>\n",
       "      <th>Electricity(kBtu)</th>\n",
       "      <th>NaturalGas(kBtu)</th>\n",
       "      <th>BuildingType</th>\n",
       "      <th>PrimaryPropertyType</th>\n",
       "      <th>CouncilDistrictCode</th>\n",
       "      <th>Neighborhood</th>\n",
       "      <th>LargestPropertyUseType</th>\n",
       "    </tr>\n",
       "  </thead>\n",
       "  <tbody>\n",
       "    <tr>\n",
       "      <th>0</th>\n",
       "      <td>-1.400009</td>\n",
       "      <td>0.0</td>\n",
       "      <td>0.034520</td>\n",
       "      <td>-0.028133</td>\n",
       "      <td>-1.034142</td>\n",
       "      <td>0.05244</td>\n",
       "      <td>2.086677</td>\n",
       "      <td>0.987444</td>\n",
       "      <td>0.429093</td>\n",
       "      <td>-0.186844</td>\n",
       "      <td>0.859387</td>\n",
       "      <td>1.794881</td>\n",
       "      <td>-0.231040</td>\n",
       "      <td>-1.169739</td>\n",
       "      <td>1.224761</td>\n",
       "      <td>-0.818371</td>\n",
       "      <td>-0.760356</td>\n",
       "    </tr>\n",
       "    <tr>\n",
       "      <th>1</th>\n",
       "      <td>-1.398639</td>\n",
       "      <td>0.0</td>\n",
       "      <td>-1.445564</td>\n",
       "      <td>2.720835</td>\n",
       "      <td>-0.033746</td>\n",
       "      <td>0.05244</td>\n",
       "      <td>-0.106355</td>\n",
       "      <td>0.465771</td>\n",
       "      <td>-0.832124</td>\n",
       "      <td>-0.186844</td>\n",
       "      <td>-0.351736</td>\n",
       "      <td>0.416483</td>\n",
       "      <td>2.746108</td>\n",
       "      <td>-1.655990</td>\n",
       "      <td>-0.970059</td>\n",
       "      <td>1.777716</td>\n",
       "      <td>-1.674331</td>\n",
       "    </tr>\n",
       "    <tr>\n",
       "      <th>2</th>\n",
       "      <td>-1.398563</td>\n",
       "      <td>0.0</td>\n",
       "      <td>0.908314</td>\n",
       "      <td>0.595443</td>\n",
       "      <td>1.336749</td>\n",
       "      <td>0.05244</td>\n",
       "      <td>1.434264</td>\n",
       "      <td>1.061813</td>\n",
       "      <td>0.443196</td>\n",
       "      <td>-0.186844</td>\n",
       "      <td>0.636234</td>\n",
       "      <td>1.193831</td>\n",
       "      <td>-0.231040</td>\n",
       "      <td>-1.169739</td>\n",
       "      <td>0.091775</td>\n",
       "      <td>1.195875</td>\n",
       "      <td>-0.760356</td>\n",
       "    </tr>\n",
       "    <tr>\n",
       "      <th>3</th>\n",
       "      <td>-1.398411</td>\n",
       "      <td>0.0</td>\n",
       "      <td>0.056632</td>\n",
       "      <td>0.052646</td>\n",
       "      <td>-0.926985</td>\n",
       "      <td>0.05244</td>\n",
       "      <td>-0.106355</td>\n",
       "      <td>0.722249</td>\n",
       "      <td>-0.822164</td>\n",
       "      <td>-0.186844</td>\n",
       "      <td>0.026969</td>\n",
       "      <td>-1.105483</td>\n",
       "      <td>-0.231040</td>\n",
       "      <td>0.015339</td>\n",
       "      <td>1.224761</td>\n",
       "      <td>-0.818371</td>\n",
       "      <td>1.793325</td>\n",
       "    </tr>\n",
       "    <tr>\n",
       "      <th>4</th>\n",
       "      <td>-1.398182</td>\n",
       "      <td>0.0</td>\n",
       "      <td>0.208887</td>\n",
       "      <td>1.104696</td>\n",
       "      <td>-0.216883</td>\n",
       "      <td>0.05244</td>\n",
       "      <td>-1.214694</td>\n",
       "      <td>1.412947</td>\n",
       "      <td>-2.274072</td>\n",
       "      <td>-0.186844</td>\n",
       "      <td>-1.849236</td>\n",
       "      <td>-1.105483</td>\n",
       "      <td>2.746108</td>\n",
       "      <td>-1.655990</td>\n",
       "      <td>-0.389172</td>\n",
       "      <td>-1.673004</td>\n",
       "      <td>-1.674331</td>\n",
       "    </tr>\n",
       "    <tr>\n",
       "      <th>...</th>\n",
       "      <td>...</td>\n",
       "      <td>...</td>\n",
       "      <td>...</td>\n",
       "      <td>...</td>\n",
       "      <td>...</td>\n",
       "      <td>...</td>\n",
       "      <td>...</td>\n",
       "      <td>...</td>\n",
       "      <td>...</td>\n",
       "      <td>...</td>\n",
       "      <td>...</td>\n",
       "      <td>...</td>\n",
       "      <td>...</td>\n",
       "      <td>...</td>\n",
       "      <td>...</td>\n",
       "      <td>...</td>\n",
       "      <td>...</td>\n",
       "    </tr>\n",
       "    <tr>\n",
       "      <th>1329</th>\n",
       "      <td>2.557330</td>\n",
       "      <td>0.0</td>\n",
       "      <td>-1.563315</td>\n",
       "      <td>-1.604818</td>\n",
       "      <td>0.655475</td>\n",
       "      <td>0.05244</td>\n",
       "      <td>-1.214694</td>\n",
       "      <td>-1.642583</td>\n",
       "      <td>0.203285</td>\n",
       "      <td>-0.186844</td>\n",
       "      <td>-0.747522</td>\n",
       "      <td>-0.168255</td>\n",
       "      <td>1.781773</td>\n",
       "      <td>0.015339</td>\n",
       "      <td>-1.748768</td>\n",
       "      <td>-1.224536</td>\n",
       "      <td>-0.337346</td>\n",
       "    </tr>\n",
       "    <tr>\n",
       "      <th>1330</th>\n",
       "      <td>2.557411</td>\n",
       "      <td>0.0</td>\n",
       "      <td>-0.958907</td>\n",
       "      <td>0.847306</td>\n",
       "      <td>0.936199</td>\n",
       "      <td>0.05244</td>\n",
       "      <td>-1.214694</td>\n",
       "      <td>-2.254310</td>\n",
       "      <td>0.574208</td>\n",
       "      <td>-0.186844</td>\n",
       "      <td>-0.908156</td>\n",
       "      <td>-0.106240</td>\n",
       "      <td>1.781773</td>\n",
       "      <td>-0.156717</td>\n",
       "      <td>-0.970059</td>\n",
       "      <td>-0.085144</td>\n",
       "      <td>0.271123</td>\n",
       "    </tr>\n",
       "    <tr>\n",
       "      <th>1331</th>\n",
       "      <td>2.557493</td>\n",
       "      <td>0.0</td>\n",
       "      <td>-0.329146</td>\n",
       "      <td>0.376963</td>\n",
       "      <td>1.448756</td>\n",
       "      <td>0.05244</td>\n",
       "      <td>-1.214694</td>\n",
       "      <td>-1.863664</td>\n",
       "      <td>0.055388</td>\n",
       "      <td>-0.186844</td>\n",
       "      <td>-1.112229</td>\n",
       "      <td>0.339979</td>\n",
       "      <td>1.781773</td>\n",
       "      <td>0.015339</td>\n",
       "      <td>-0.970059</td>\n",
       "      <td>-0.818371</td>\n",
       "      <td>-0.337346</td>\n",
       "    </tr>\n",
       "    <tr>\n",
       "      <th>1332</th>\n",
       "      <td>2.557655</td>\n",
       "      <td>0.0</td>\n",
       "      <td>-1.852451</td>\n",
       "      <td>0.316243</td>\n",
       "      <td>0.900606</td>\n",
       "      <td>0.05244</td>\n",
       "      <td>-1.214694</td>\n",
       "      <td>-2.059384</td>\n",
       "      <td>-0.067266</td>\n",
       "      <td>-0.186844</td>\n",
       "      <td>-1.192454</td>\n",
       "      <td>-0.004060</td>\n",
       "      <td>1.781773</td>\n",
       "      <td>-0.328008</td>\n",
       "      <td>-1.748768</td>\n",
       "      <td>-0.085144</td>\n",
       "      <td>-0.337346</td>\n",
       "    </tr>\n",
       "    <tr>\n",
       "      <th>1333</th>\n",
       "      <td>2.557737</td>\n",
       "      <td>0.0</td>\n",
       "      <td>-1.593059</td>\n",
       "      <td>1.539229</td>\n",
       "      <td>-0.707817</td>\n",
       "      <td>0.05244</td>\n",
       "      <td>-1.214694</td>\n",
       "      <td>-1.642868</td>\n",
       "      <td>0.076382</td>\n",
       "      <td>-0.186844</td>\n",
       "      <td>-1.053108</td>\n",
       "      <td>0.581216</td>\n",
       "      <td>1.781773</td>\n",
       "      <td>-0.328008</td>\n",
       "      <td>-0.970059</td>\n",
       "      <td>-0.085144</td>\n",
       "      <td>-0.337346</td>\n",
       "    </tr>\n",
       "  </tbody>\n",
       "</table>\n",
       "<p>1334 rows × 17 columns</p>\n",
       "</div>"
      ],
      "text/plain": [
       "      OSEBuildingID  DataYear  Latitude  Longitude  YearBuilt  \\\n",
       "0         -1.400009       0.0  0.034520  -0.028133  -1.034142   \n",
       "1         -1.398639       0.0 -1.445564   2.720835  -0.033746   \n",
       "2         -1.398563       0.0  0.908314   0.595443   1.336749   \n",
       "3         -1.398411       0.0  0.056632   0.052646  -0.926985   \n",
       "4         -1.398182       0.0  0.208887   1.104696  -0.216883   \n",
       "...             ...       ...       ...        ...        ...   \n",
       "1329       2.557330       0.0 -1.563315  -1.604818   0.655475   \n",
       "1330       2.557411       0.0 -0.958907   0.847306   0.936199   \n",
       "1331       2.557493       0.0 -0.329146   0.376963   1.448756   \n",
       "1332       2.557655       0.0 -1.852451   0.316243   0.900606   \n",
       "1333       2.557737       0.0 -1.593059   1.539229  -0.707817   \n",
       "\n",
       "      NumberofBuildings  NumberofFloors  PropertyGFATotal  SourceEUI(kBtu/sf)  \\\n",
       "0               0.05244        2.086677          0.987444            0.429093   \n",
       "1               0.05244       -0.106355          0.465771           -0.832124   \n",
       "2               0.05244        1.434264          1.061813            0.443196   \n",
       "3               0.05244       -0.106355          0.722249           -0.822164   \n",
       "4               0.05244       -1.214694          1.412947           -2.274072   \n",
       "...                 ...             ...               ...                 ...   \n",
       "1329            0.05244       -1.214694         -1.642583            0.203285   \n",
       "1330            0.05244       -1.214694         -2.254310            0.574208   \n",
       "1331            0.05244       -1.214694         -1.863664            0.055388   \n",
       "1332            0.05244       -1.214694         -2.059384           -0.067266   \n",
       "1333            0.05244       -1.214694         -1.642868            0.076382   \n",
       "\n",
       "      SteamUse(kBtu)  Electricity(kBtu)  NaturalGas(kBtu)  BuildingType  \\\n",
       "0          -0.186844           0.859387          1.794881     -0.231040   \n",
       "1          -0.186844          -0.351736          0.416483      2.746108   \n",
       "2          -0.186844           0.636234          1.193831     -0.231040   \n",
       "3          -0.186844           0.026969         -1.105483     -0.231040   \n",
       "4          -0.186844          -1.849236         -1.105483      2.746108   \n",
       "...              ...                ...               ...           ...   \n",
       "1329       -0.186844          -0.747522         -0.168255      1.781773   \n",
       "1330       -0.186844          -0.908156         -0.106240      1.781773   \n",
       "1331       -0.186844          -1.112229          0.339979      1.781773   \n",
       "1332       -0.186844          -1.192454         -0.004060      1.781773   \n",
       "1333       -0.186844          -1.053108          0.581216      1.781773   \n",
       "\n",
       "      PrimaryPropertyType  CouncilDistrictCode  Neighborhood  \\\n",
       "0               -1.169739             1.224761     -0.818371   \n",
       "1               -1.655990            -0.970059      1.777716   \n",
       "2               -1.169739             0.091775      1.195875   \n",
       "3                0.015339             1.224761     -0.818371   \n",
       "4               -1.655990            -0.389172     -1.673004   \n",
       "...                   ...                  ...           ...   \n",
       "1329             0.015339            -1.748768     -1.224536   \n",
       "1330            -0.156717            -0.970059     -0.085144   \n",
       "1331             0.015339            -0.970059     -0.818371   \n",
       "1332            -0.328008            -1.748768     -0.085144   \n",
       "1333            -0.328008            -0.970059     -0.085144   \n",
       "\n",
       "      LargestPropertyUseType  \n",
       "0                  -0.760356  \n",
       "1                  -1.674331  \n",
       "2                  -0.760356  \n",
       "3                   1.793325  \n",
       "4                  -1.674331  \n",
       "...                      ...  \n",
       "1329               -0.337346  \n",
       "1330                0.271123  \n",
       "1331               -0.337346  \n",
       "1332               -0.337346  \n",
       "1333               -0.337346  \n",
       "\n",
       "[1334 rows x 17 columns]"
      ]
     },
     "execution_count": 223,
     "metadata": {},
     "output_type": "execute_result"
    }
   ],
   "source": [
    "\n",
    "X = pd.DataFrame(X, columns=numerical_columns + categorical_columns)\n",
    "X"
   ]
  },
  {
   "cell_type": "code",
   "execution_count": 224,
   "id": "b30452e4",
   "metadata": {
    "scrolled": false
   },
   "outputs": [],
   "source": [
    "X_train, X_test, y_train, y_test = train_test_split(X, y,test_size = 0.25,random_state = 42)"
   ]
  },
  {
   "cell_type": "markdown",
   "id": "86c5feef",
   "metadata": {},
   "source": [
    "### Recherche des hyper parametres"
   ]
  },
  {
   "cell_type": "code",
   "execution_count": 225,
   "id": "3d605437",
   "metadata": {},
   "outputs": [
    {
     "data": {
      "text/plain": [
       "{'LinearRegression': {'normalize': True},\n",
       " 'gboost': {'learning_rate': 0.1, 'n_estimators': 200},\n",
       " 'rfr': {'max_depth': 20, 'min_samples_split': 2, 'n_estimators': 100},\n",
       " 'KNeighborsRegressor': {'n_neighbors': 7},\n",
       " 'SVR': {'C': 10, 'epsilon': 0.1, 'kernel': 'linear'},\n",
       " 'ElasticNet': {'alpha': 0.1, 'l1_ratio': 0.9, 'normalize': False}}"
      ]
     },
     "execution_count": 225,
     "metadata": {},
     "output_type": "execute_result"
    }
   ],
   "source": [
    "models = [\n",
    "    ('LinearRegression', LinearRegression(), {'normalize': [True, False]}),\n",
    "    ('gboost', GradientBoostingRegressor(), {\n",
    "        'n_estimators': [50, 100, 200],\n",
    "        'learning_rate': [0.01, 0.1, 0.2]\n",
    "    }),\n",
    "    ('rfr', RandomForestRegressor(), {\n",
    "        'n_estimators': [50, 100, 200],\n",
    "        'max_depth': [None, 10, 20],\n",
    "        'min_samples_split': [2, 5, 10]\n",
    "    }),\n",
    "    ('KNeighborsRegressor', KNeighborsRegressor(), {'n_neighbors': [3, 5, 7]}),\n",
    "    ('SVR', SVR(), {\n",
    "        'kernel': ['linear', 'poly', 'rbf'],\n",
    "        'C': [0.1, 1, 10],\n",
    "        'epsilon': [0.01, 0.1, 0.2]\n",
    "    }),\n",
    "    ('ElasticNet', ElasticNet(), {\n",
    "        'alpha': [0.01, 0.1, 1.0],\n",
    "        'l1_ratio': [0.1, 0.5, 0.9],\n",
    "        'normalize': [True, False]\n",
    "    })\n",
    "]\n",
    "\n",
    "best_params = {}\n",
    "\n",
    "for model_name, model, param_grid in models:\n",
    "    grid_search = GridSearchCV(model, param_grid, cv=5, n_jobs=-1)\n",
    "    grid_search.fit(X_train, y_train)\n",
    "    best_params[model_name] = grid_search.best_params_\n",
    "best_params"
   ]
  },
  {
   "cell_type": "code",
   "execution_count": 226,
   "id": "9aac2a2e",
   "metadata": {},
   "outputs": [],
   "source": [
    "models = [\n",
    "    ('Dummy Regressor', DummyRegressor(), {'strategy' : ['mean']}),  \n",
    "    ('Linear Regression', LinearRegression(), {'fit_intercept': [True, False], 'normalize': [True, False], 'copy_X': [True]}),\n",
    "    ('Elastic Net', ElasticNet(), {'alpha': [1,0.1,0.01,0.001], 'max_iter': [1000], 'random_state': [42], 'tol': [0.001]}),\n",
    "    ('K-Neighbors Regressor', KNeighborsRegressor(), {'n_neighbors': list(range(1,30))}),\n",
    "    ('SVR', SVR(), {'gamma' : ['scale'],'epsilon' : [0.001, 0.01, 0.1, 1],'C' : [0.001, 0.01, 0.1, 1, 10], 'tol':[0.001]}),\n",
    "    ('Random Forest Regressor', RandomForestRegressor(), {'n_estimators': [100, 500, 1000], 'max_features': ['auto'], 'n_jobs': [-1], \n",
    "              'random_state': [42], 'max_depth': [None]}),\n",
    "    ('Gradient Boosting Regressor', GradientBoostingRegressor(), \n",
    "     {'n_estimators':[100, 500, 1000], 'random_state': [42], 'max_depth': [None]})\n",
    "]\n"
   ]
  },
  {
   "cell_type": "code",
   "execution_count": 227,
   "id": "a905faf1",
   "metadata": {
    "scrolled": false
   },
   "outputs": [
    {
     "data": {
      "text/html": [
       "<div>\n",
       "<style scoped>\n",
       "    .dataframe tbody tr th:only-of-type {\n",
       "        vertical-align: middle;\n",
       "    }\n",
       "\n",
       "    .dataframe tbody tr th {\n",
       "        vertical-align: top;\n",
       "    }\n",
       "\n",
       "    .dataframe thead th {\n",
       "        text-align: right;\n",
       "    }\n",
       "</style>\n",
       "<table border=\"1\" class=\"dataframe\">\n",
       "  <thead>\n",
       "    <tr style=\"text-align: right;\">\n",
       "      <th></th>\n",
       "      <th>Model</th>\n",
       "      <th>CV Type</th>\n",
       "      <th>Train R2</th>\n",
       "      <th>Test R2</th>\n",
       "      <th>RMSE</th>\n",
       "      <th>Median absolute error</th>\n",
       "      <th>Elapsed Time</th>\n",
       "    </tr>\n",
       "  </thead>\n",
       "  <tbody>\n",
       "    <tr>\n",
       "      <th>0</th>\n",
       "      <td>Dummy Regressor</td>\n",
       "      <td>No CV</td>\n",
       "      <td>0.000000</td>\n",
       "      <td>-0.001636</td>\n",
       "      <td>49.501962</td>\n",
       "      <td>31.02</td>\n",
       "      <td>0.002102</td>\n",
       "    </tr>\n",
       "    <tr>\n",
       "      <th>1</th>\n",
       "      <td>Dummy Regressor</td>\n",
       "      <td>GridSearchCV</td>\n",
       "      <td>0.000000</td>\n",
       "      <td>-0.001636</td>\n",
       "      <td>49.501962</td>\n",
       "      <td>31.02</td>\n",
       "      <td>0.013489</td>\n",
       "    </tr>\n",
       "    <tr>\n",
       "      <th>2</th>\n",
       "      <td>Dummy Regressor</td>\n",
       "      <td>RandomizedSearchCV</td>\n",
       "      <td>0.000000</td>\n",
       "      <td>-0.001636</td>\n",
       "      <td>49.501962</td>\n",
       "      <td>31.02</td>\n",
       "      <td>0.010306</td>\n",
       "    </tr>\n",
       "    <tr>\n",
       "      <th>3</th>\n",
       "      <td>Linear Regression</td>\n",
       "      <td>No CV</td>\n",
       "      <td>0.805436</td>\n",
       "      <td>0.818042</td>\n",
       "      <td>21.098579</td>\n",
       "      <td>12.36</td>\n",
       "      <td>0.005248</td>\n",
       "    </tr>\n",
       "    <tr>\n",
       "      <th>4</th>\n",
       "      <td>Linear Regression</td>\n",
       "      <td>GridSearchCV</td>\n",
       "      <td>0.805436</td>\n",
       "      <td>0.818042</td>\n",
       "      <td>21.098579</td>\n",
       "      <td>12.36</td>\n",
       "      <td>0.045758</td>\n",
       "    </tr>\n",
       "    <tr>\n",
       "      <th>5</th>\n",
       "      <td>Linear Regression</td>\n",
       "      <td>RandomizedSearchCV</td>\n",
       "      <td>0.805436</td>\n",
       "      <td>0.818042</td>\n",
       "      <td>21.098579</td>\n",
       "      <td>12.36</td>\n",
       "      <td>0.043615</td>\n",
       "    </tr>\n",
       "    <tr>\n",
       "      <th>6</th>\n",
       "      <td>Elastic Net</td>\n",
       "      <td>No CV</td>\n",
       "      <td>0.724274</td>\n",
       "      <td>0.725352</td>\n",
       "      <td>25.921240</td>\n",
       "      <td>12.62</td>\n",
       "      <td>0.004679</td>\n",
       "    </tr>\n",
       "    <tr>\n",
       "      <th>7</th>\n",
       "      <td>Elastic Net</td>\n",
       "      <td>GridSearchCV</td>\n",
       "      <td>0.805411</td>\n",
       "      <td>0.817530</td>\n",
       "      <td>21.128214</td>\n",
       "      <td>12.42</td>\n",
       "      <td>0.046945</td>\n",
       "    </tr>\n",
       "    <tr>\n",
       "      <th>8</th>\n",
       "      <td>Elastic Net</td>\n",
       "      <td>RandomizedSearchCV</td>\n",
       "      <td>0.805411</td>\n",
       "      <td>0.817530</td>\n",
       "      <td>21.128214</td>\n",
       "      <td>12.42</td>\n",
       "      <td>0.047469</td>\n",
       "    </tr>\n",
       "    <tr>\n",
       "      <th>9</th>\n",
       "      <td>K-Neighbors Regressor</td>\n",
       "      <td>No CV</td>\n",
       "      <td>0.769431</td>\n",
       "      <td>0.668156</td>\n",
       "      <td>28.492750</td>\n",
       "      <td>9.16</td>\n",
       "      <td>0.030906</td>\n",
       "    </tr>\n",
       "    <tr>\n",
       "      <th>10</th>\n",
       "      <td>K-Neighbors Regressor</td>\n",
       "      <td>GridSearchCV</td>\n",
       "      <td>0.753438</td>\n",
       "      <td>0.656649</td>\n",
       "      <td>28.982564</td>\n",
       "      <td>10.15</td>\n",
       "      <td>0.297485</td>\n",
       "    </tr>\n",
       "    <tr>\n",
       "      <th>11</th>\n",
       "      <td>K-Neighbors Regressor</td>\n",
       "      <td>RandomizedSearchCV</td>\n",
       "      <td>0.724435</td>\n",
       "      <td>0.654695</td>\n",
       "      <td>29.064896</td>\n",
       "      <td>10.49</td>\n",
       "      <td>0.086600</td>\n",
       "    </tr>\n",
       "    <tr>\n",
       "      <th>12</th>\n",
       "      <td>SVR</td>\n",
       "      <td>No CV</td>\n",
       "      <td>0.429740</td>\n",
       "      <td>0.384659</td>\n",
       "      <td>38.799420</td>\n",
       "      <td>10.39</td>\n",
       "      <td>0.151420</td>\n",
       "    </tr>\n",
       "    <tr>\n",
       "      <th>13</th>\n",
       "      <td>SVR</td>\n",
       "      <td>GridSearchCV</td>\n",
       "      <td>0.788652</td>\n",
       "      <td>0.722613</td>\n",
       "      <td>26.050145</td>\n",
       "      <td>5.45</td>\n",
       "      <td>0.666150</td>\n",
       "    </tr>\n",
       "    <tr>\n",
       "      <th>14</th>\n",
       "      <td>SVR</td>\n",
       "      <td>RandomizedSearchCV</td>\n",
       "      <td>0.787133</td>\n",
       "      <td>0.721084</td>\n",
       "      <td>26.121862</td>\n",
       "      <td>5.14</td>\n",
       "      <td>0.304917</td>\n",
       "    </tr>\n",
       "    <tr>\n",
       "      <th>15</th>\n",
       "      <td>Random Forest Regressor</td>\n",
       "      <td>No CV</td>\n",
       "      <td>0.992631</td>\n",
       "      <td>0.943424</td>\n",
       "      <td>11.764817</td>\n",
       "      <td>0.73</td>\n",
       "      <td>0.490519</td>\n",
       "    </tr>\n",
       "    <tr>\n",
       "      <th>16</th>\n",
       "      <td>Random Forest Regressor</td>\n",
       "      <td>GridSearchCV</td>\n",
       "      <td>0.993948</td>\n",
       "      <td>0.942552</td>\n",
       "      <td>11.855112</td>\n",
       "      <td>0.74</td>\n",
       "      <td>4.597175</td>\n",
       "    </tr>\n",
       "    <tr>\n",
       "      <th>17</th>\n",
       "      <td>Random Forest Regressor</td>\n",
       "      <td>RandomizedSearchCV</td>\n",
       "      <td>0.993948</td>\n",
       "      <td>0.942552</td>\n",
       "      <td>11.855112</td>\n",
       "      <td>0.74</td>\n",
       "      <td>5.140592</td>\n",
       "    </tr>\n",
       "    <tr>\n",
       "      <th>18</th>\n",
       "      <td>Gradient Boosting Regressor</td>\n",
       "      <td>No CV</td>\n",
       "      <td>0.994931</td>\n",
       "      <td>0.954907</td>\n",
       "      <td>10.503182</td>\n",
       "      <td>1.71</td>\n",
       "      <td>0.197817</td>\n",
       "    </tr>\n",
       "    <tr>\n",
       "      <th>19</th>\n",
       "      <td>Gradient Boosting Regressor</td>\n",
       "      <td>GridSearchCV</td>\n",
       "      <td>1.000000</td>\n",
       "      <td>0.936368</td>\n",
       "      <td>12.476871</td>\n",
       "      <td>1.11</td>\n",
       "      <td>2.414796</td>\n",
       "    </tr>\n",
       "    <tr>\n",
       "      <th>20</th>\n",
       "      <td>Gradient Boosting Regressor</td>\n",
       "      <td>RandomizedSearchCV</td>\n",
       "      <td>1.000000</td>\n",
       "      <td>0.936368</td>\n",
       "      <td>12.476871</td>\n",
       "      <td>1.11</td>\n",
       "      <td>2.413861</td>\n",
       "    </tr>\n",
       "  </tbody>\n",
       "</table>\n",
       "</div>"
      ],
      "text/plain": [
       "                          Model             CV Type  Train R2   Test R2  \\\n",
       "0               Dummy Regressor               No CV  0.000000 -0.001636   \n",
       "1               Dummy Regressor        GridSearchCV  0.000000 -0.001636   \n",
       "2               Dummy Regressor  RandomizedSearchCV  0.000000 -0.001636   \n",
       "3             Linear Regression               No CV  0.805436  0.818042   \n",
       "4             Linear Regression        GridSearchCV  0.805436  0.818042   \n",
       "5             Linear Regression  RandomizedSearchCV  0.805436  0.818042   \n",
       "6                   Elastic Net               No CV  0.724274  0.725352   \n",
       "7                   Elastic Net        GridSearchCV  0.805411  0.817530   \n",
       "8                   Elastic Net  RandomizedSearchCV  0.805411  0.817530   \n",
       "9         K-Neighbors Regressor               No CV  0.769431  0.668156   \n",
       "10        K-Neighbors Regressor        GridSearchCV  0.753438  0.656649   \n",
       "11        K-Neighbors Regressor  RandomizedSearchCV  0.724435  0.654695   \n",
       "12                          SVR               No CV  0.429740  0.384659   \n",
       "13                          SVR        GridSearchCV  0.788652  0.722613   \n",
       "14                          SVR  RandomizedSearchCV  0.787133  0.721084   \n",
       "15      Random Forest Regressor               No CV  0.992631  0.943424   \n",
       "16      Random Forest Regressor        GridSearchCV  0.993948  0.942552   \n",
       "17      Random Forest Regressor  RandomizedSearchCV  0.993948  0.942552   \n",
       "18  Gradient Boosting Regressor               No CV  0.994931  0.954907   \n",
       "19  Gradient Boosting Regressor        GridSearchCV  1.000000  0.936368   \n",
       "20  Gradient Boosting Regressor  RandomizedSearchCV  1.000000  0.936368   \n",
       "\n",
       "         RMSE  Median absolute error  Elapsed Time  \n",
       "0   49.501962                  31.02      0.002102  \n",
       "1   49.501962                  31.02      0.013489  \n",
       "2   49.501962                  31.02      0.010306  \n",
       "3   21.098579                  12.36      0.005248  \n",
       "4   21.098579                  12.36      0.045758  \n",
       "5   21.098579                  12.36      0.043615  \n",
       "6   25.921240                  12.62      0.004679  \n",
       "7   21.128214                  12.42      0.046945  \n",
       "8   21.128214                  12.42      0.047469  \n",
       "9   28.492750                   9.16      0.030906  \n",
       "10  28.982564                  10.15      0.297485  \n",
       "11  29.064896                  10.49      0.086600  \n",
       "12  38.799420                  10.39      0.151420  \n",
       "13  26.050145                   5.45      0.666150  \n",
       "14  26.121862                   5.14      0.304917  \n",
       "15  11.764817                   0.73      0.490519  \n",
       "16  11.855112                   0.74      4.597175  \n",
       "17  11.855112                   0.74      5.140592  \n",
       "18  10.503182                   1.71      0.197817  \n",
       "19  12.476871                   1.11      2.414796  \n",
       "20  12.476871                   1.11      2.413861  "
      ]
     },
     "execution_count": 227,
     "metadata": {},
     "output_type": "execute_result"
    }
   ],
   "source": [
    "results = []\n",
    "\n",
    "for model_name, model, param_grid in models:\n",
    "   \n",
    "    start_time = time.time()\n",
    "    model.fit(X_train, y_train)\n",
    "    y_pred = model.predict(X_test)\n",
    "    train_r2 = r2_score(y_train, model.predict(X_train))\n",
    "    test_r2 = r2_score(y_test, y_pred)\n",
    "    rmse = np.sqrt(mean_squared_error(y_test, y_pred))\n",
    "    med_abs_error= round(median_absolute_error(y_test, y_pred),2)\n",
    "    elapsed_time = time.time() - start_time\n",
    "    results.append([model_name, 'No CV', train_r2, test_r2, rmse, med_abs_error, elapsed_time])\n",
    "\n",
    "   \n",
    "    grid_search = GridSearchCV(model, param_grid, cv=5, n_jobs=-1)\n",
    "    start_time = time.time()\n",
    "    grid_search.fit(X_train, y_train)\n",
    "    best_model = grid_search.best_estimator_\n",
    "    y_pred = best_model.predict(X_test)\n",
    "    train_r2 = r2_score(y_train, best_model.predict(X_train))\n",
    "    test_r2 = r2_score(y_test, y_pred)\n",
    "    rmse = np.sqrt(mean_squared_error(y_test, y_pred))\n",
    "    med_abs_error= round(median_absolute_error(y_test, y_pred),2)\n",
    "    elapsed_time = time.time() - start_time\n",
    "    results.append([model_name, 'GridSearchCV', train_r2, test_r2, rmse,med_abs_error, elapsed_time])\n",
    "\n",
    "  \n",
    "    randomized_search = RandomizedSearchCV(model, param_grid, n_iter=5, cv=5, n_jobs=-1)\n",
    "    start_time = time.time()\n",
    "    randomized_search.fit(X_train, y_train)\n",
    "    best_model = randomized_search.best_estimator_\n",
    "    y_pred = best_model.predict(X_test)\n",
    "    train_r2 = r2_score(y_train, best_model.predict(X_train))\n",
    "    test_r2 = r2_score(y_test, y_pred)\n",
    "    rmse = np.sqrt(mean_squared_error(y_test, y_pred))\n",
    "    med_abs_error= round(median_absolute_error(y_test, y_pred),2)\n",
    "    elapsed_time = time.time() - start_time\n",
    "    results.append([model_name, 'RandomizedSearchCV', train_r2, test_r2, rmse,med_abs_error, elapsed_time])\n",
    "\n",
    "results_df = pd.DataFrame(results, columns=['Model', 'CV Type', 'Train R2', 'Test R2', 'RMSE','Median absolute error',\n",
    "                                            'Elapsed Time'])\n",
    "\n",
    "results_df\n"
   ]
  },
  {
   "cell_type": "code",
   "execution_count": 228,
   "id": "5a979bc7",
   "metadata": {
    "scrolled": true
   },
   "outputs": [
    {
     "data": {
      "text/plain": [
       "RandomForestRegressor(max_depth=20)"
      ]
     },
     "execution_count": 228,
     "metadata": {},
     "output_type": "execute_result"
    }
   ],
   "source": [
    "rfr = RandomForestRegressor(**best_params['rfr'])\n",
    "rfr.fit(X_train, y_train)"
   ]
  },
  {
   "cell_type": "code",
   "execution_count": 229,
   "id": "77dde0a0",
   "metadata": {},
   "outputs": [
    {
     "name": "stdout",
     "output_type": "stream",
     "text": [
      "Score train :  0.994\n",
      "Score test  :  0.939\n"
     ]
    }
   ],
   "source": [
    "print('Score train : ',round(rfr.score(X_train, y_train),3))\n",
    "print('Score test  : ',round(rfr.score(X_test, y_test),3))"
   ]
  },
  {
   "cell_type": "code",
   "execution_count": 230,
   "id": "bb53344e",
   "metadata": {},
   "outputs": [
    {
     "data": {
      "text/plain": [
       "GradientBoostingRegressor(n_estimators=200)"
      ]
     },
     "execution_count": 230,
     "metadata": {},
     "output_type": "execute_result"
    }
   ],
   "source": [
    "gboost = GradientBoostingRegressor(**best_params['gboost'])\n",
    "gboost.fit(X_train, y_train)"
   ]
  },
  {
   "cell_type": "code",
   "execution_count": 231,
   "id": "be8515a1",
   "metadata": {},
   "outputs": [
    {
     "name": "stdout",
     "output_type": "stream",
     "text": [
      "Score train :  0.998\n",
      "Score test  :  0.952\n"
     ]
    }
   ],
   "source": [
    "print('Score train : ',round(gboost.score(X_train, y_train),3))\n",
    "print('Score test  : ',round(gboost.score(X_test, y_test),3))"
   ]
  },
  {
   "cell_type": "markdown",
   "id": "ec414770",
   "metadata": {},
   "source": [
    "#### Courbe d'apprentissage du modèle RandomForest"
   ]
  },
  {
   "cell_type": "code",
   "execution_count": 232,
   "id": "d5a07c3b",
   "metadata": {},
   "outputs": [
    {
     "data": {
      "image/png": "[encoded data removed]",
      "text/plain": [
       "<Figure size 720x432 with 1 Axes>"
      ]
     },
     "metadata": {},
     "output_type": "display_data"
    }
   ],
   "source": [
    "N,train_score,val_score = learning_curve(rfr,X_train,y_train,train_sizes = np.linspace(0.1,1.0,10))\n",
    "plt.figure(figsize=(10, 6))\n",
    "plt.plot(N,train_score.mean(axis=1),label='train')\n",
    "plt.plot(N,val_score.mean(axis=1), label='validation')\n",
    "plt.xlabel('train_sizes')\n",
    "plt.title(\"Courbe d'apprentissage\", size = 14)\n",
    "plt.legend()\n",
    "plt.show()"
   ]
  },
  {
   "cell_type": "markdown",
   "id": "0c186f53",
   "metadata": {},
   "source": [
    "#### Courbe de validation du modèle RandomForest"
   ]
  },
  {
   "cell_type": "code",
   "execution_count": 233,
   "id": "bbe26f88",
   "metadata": {},
   "outputs": [],
   "source": [
    "param_range = [50, 100, 150, 200, 250]  \n",
    "train_scores, test_scores = validation_curve(\n",
    "    rfr,  \n",
    "    X_train, y_train,\n",
    "    param_name=\"n_estimators\",  \n",
    "    param_range=param_range,\n",
    "    cv=5,  \n",
    "    scoring=\"r2\",  \n",
    "    n_jobs=-1  \n",
    ")\n"
   ]
  },
  {
   "cell_type": "code",
   "execution_count": 234,
   "id": "2582ac58",
   "metadata": {},
   "outputs": [],
   "source": [
    "train_scores_mean = np.mean(train_scores, axis=1)\n",
    "train_scores_std = np.std(train_scores, axis=1)\n",
    "test_scores_mean = np.mean(test_scores, axis=1)\n",
    "test_scores_std = np.std(test_scores, axis=1)\n"
   ]
  },
  {
   "cell_type": "code",
   "execution_count": 235,
   "id": "ba1e2a23",
   "metadata": {
    "scrolled": false
   },
   "outputs": [
    {
     "data": {
      "image/png": "[encoded data removed]",
      "text/plain": [
       "<Figure size 720x432 with 1 Axes>"
      ]
     },
     "metadata": {},
     "output_type": "display_data"
    }
   ],
   "source": [
    "plt.figure(figsize=(10, 6))\n",
    "plt.title(\"Courbe de validation avec RandomForestRegressor\")\n",
    "plt.xlabel(\"Number of Estimators\")\n",
    "plt.ylabel(\"R-squared\")\n",
    "plt.ylim(0.0, 1.1)\n",
    "plt.grid()\n",
    "\n",
    "plt.fill_between(param_range, train_scores_mean - train_scores_std, train_scores_mean + train_scores_std, alpha=0.2, color=\"b\")\n",
    "plt.fill_between(param_range, test_scores_mean - test_scores_std, test_scores_mean + test_scores_std, alpha=0.2, color=\"r\")\n",
    "plt.plot(param_range, train_scores_mean, 'o-', color=\"b\", label=\"Training Score\")\n",
    "plt.plot(param_range, test_scores_mean, 'o-', color=\"r\", label=\"Cross-Validation Score\")\n",
    "\n",
    "plt.legend(loc=\"best\")\n",
    "plt.show()\n"
   ]
  },
  {
   "cell_type": "code",
   "execution_count": 236,
   "id": "5a8a1582",
   "metadata": {
    "scrolled": false
   },
   "outputs": [
    {
     "data": {
      "image/png": "[encoded data removed]",
      "text/plain": [
       "<Figure size 720x432 with 1 Axes>"
      ]
     },
     "metadata": {},
     "output_type": "display_data"
    }
   ],
   "source": [
    "y_pred = rfr.predict(X_test)\n",
    "plt.figure(figsize=(10, 6))\n",
    "plt.scatter(y_test, y_pred, alpha=0.5, color='b', label='Scatterplot')\n",
    "plt.plot([min(y_test), max(y_test)], [min(y_test), max(y_test)], color='red', linestyle='--',\n",
    "         linewidth=2, label='Prédiction Parfaite')\n",
    "plt.xlabel('Valeurs Réelles')\n",
    "plt.ylabel('Prédictions')\n",
    "plt.legend(loc='upper left')\n",
    "\n",
    "plt.show()\n"
   ]
  },
  {
   "cell_type": "code",
   "execution_count": 237,
   "id": "1902e924",
   "metadata": {},
   "outputs": [
    {
     "data": {
      "image/png": "[encoded data removed]",
      "text/plain": [
       "<Figure size 576x432 with 1 Axes>"
      ]
     },
     "metadata": {},
     "output_type": "display_data"
    }
   ],
   "source": [
    "plt.figure(figsize=(8, 6))\n",
    "y_pred = rfr.predict(X_test)\n",
    "histo_erreur = np.abs(y_test - y_pred)\n",
    "plt.hist(histo_erreur, bins= 50)\n",
    "plt.show()"
   ]
  },
  {
   "cell_type": "markdown",
   "id": "0824cf45",
   "metadata": {},
   "source": [
    "#### Courbe d'apprentissage du modèle GradientBoost"
   ]
  },
  {
   "cell_type": "code",
   "execution_count": 238,
   "id": "53e26278",
   "metadata": {},
   "outputs": [
    {
     "data": {
      "image/png": "[encoded data removed]",
      "text/plain": [
       "<Figure size 720x432 with 1 Axes>"
      ]
     },
     "metadata": {},
     "output_type": "display_data"
    }
   ],
   "source": [
    "N,train_score,val_score = learning_curve(gboost,X_train,y_train,train_sizes = np.linspace(0.1,1.0,10))\n",
    "plt.figure(figsize=(10, 6))\n",
    "plt.plot(N,train_score.mean(axis=1),label='train')\n",
    "plt.plot(N,val_score.mean(axis=1), label='validation')\n",
    "plt.xlabel('train_sizes')\n",
    "plt.title(\"Courbe d'apprentissage\", size = 14)\n",
    "plt.legend()\n",
    "plt.show()"
   ]
  },
  {
   "cell_type": "markdown",
   "id": "d745f835",
   "metadata": {},
   "source": [
    "#### Courbe de validation du modèle GradientBoost"
   ]
  },
  {
   "cell_type": "code",
   "execution_count": 239,
   "id": "962eddd7",
   "metadata": {},
   "outputs": [],
   "source": [
    "param_range = [50, 100, 150, 200, 250]  \n",
    "train_scores, test_scores = validation_curve(\n",
    "    gboost,  \n",
    "    X_train, y_train,\n",
    "    param_name=\"n_estimators\",  \n",
    "    param_range=param_range,\n",
    "    cv=5,  \n",
    "    scoring=\"r2\",  \n",
    "    n_jobs=-1  \n",
    ")\n"
   ]
  },
  {
   "cell_type": "code",
   "execution_count": 240,
   "id": "14b1d941",
   "metadata": {},
   "outputs": [],
   "source": [
    "train_scores_mean = np.mean(train_scores, axis=1)\n",
    "train_scores_std = np.std(train_scores, axis=1)\n",
    "test_scores_mean = np.mean(test_scores, axis=1)\n",
    "test_scores_std = np.std(test_scores, axis=1)\n"
   ]
  },
  {
   "cell_type": "code",
   "execution_count": 241,
   "id": "9a30d7f4",
   "metadata": {
    "scrolled": false
   },
   "outputs": [
    {
     "data": {
      "image/png": "[encoded data removed]",
      "text/plain": [
       "<Figure size 720x432 with 1 Axes>"
      ]
     },
     "metadata": {},
     "output_type": "display_data"
    }
   ],
   "source": [
    "plt.figure(figsize=(10, 6))\n",
    "plt.title(\"VCourbe de validation avec RandomForestRegressor\")\n",
    "plt.xlabel(\"Number of Estimators\")\n",
    "plt.ylabel(\"R-squared\")\n",
    "plt.ylim(0.0, 1.1)\n",
    "plt.grid()\n",
    "\n",
    "plt.fill_between(param_range, train_scores_mean - train_scores_std, train_scores_mean + train_scores_std, alpha=0.2, color=\"b\")\n",
    "plt.fill_between(param_range, test_scores_mean - test_scores_std, test_scores_mean + test_scores_std, alpha=0.2, color=\"r\")\n",
    "plt.plot(param_range, train_scores_mean, 'o-', color=\"b\", label=\"Training Score\")\n",
    "plt.plot(param_range, test_scores_mean, 'o-', color=\"r\", label=\"Cross-Validation Score\")\n",
    "\n",
    "plt.legend(loc=\"best\")\n",
    "plt.show()\n"
   ]
  },
  {
   "cell_type": "code",
   "execution_count": 242,
   "id": "4c47dbf9",
   "metadata": {},
   "outputs": [
    {
     "data": {
      "image/png": "[encoded data removed]",
      "text/plain": [
       "<Figure size 720x432 with 1 Axes>"
      ]
     },
     "metadata": {},
     "output_type": "display_data"
    }
   ],
   "source": [
    "y_pred = gboost.predict(X_test)\n",
    "plt.figure(figsize=(10, 6))\n",
    "plt.scatter(y_test, y_pred, alpha=0.5, color='b', label='Scatterplot')\n",
    "plt.plot([min(y_test), max(y_test)], [min(y_test), max(y_test)], color='red', linestyle='--',\n",
    "         linewidth=2, label='Prédiction Parfaite')\n",
    "plt.xlabel('Valeurs Réelles')\n",
    "plt.ylabel('Prédictions')\n",
    "plt.legend(loc='upper left')\n",
    "\n",
    "plt.show()\n"
   ]
  },
  {
   "cell_type": "code",
   "execution_count": 243,
   "id": "92402bf8",
   "metadata": {},
   "outputs": [
    {
     "data": {
      "image/png": "[encoded data removed]",
      "text/plain": [
       "<Figure size 576x432 with 1 Axes>"
      ]
     },
     "metadata": {},
     "output_type": "display_data"
    }
   ],
   "source": [
    "plt.figure(figsize=(8, 6))\n",
    "y_pred = gboost.predict(X_test)\n",
    "histo_erreur = np.abs(y_test - y_pred)\n",
    "plt.hist(histo_erreur, bins= 50)\n",
    "plt.show()"
   ]
  }
 ],
 "metadata": {
  "kernelspec": {
   "display_name": "Python 3 (ipykernel)",
   "language": "python",
   "name": "python3"
  },
  "language_info": {
   "codemirror_mode": {
    "name": "ipython",
    "version": 3
   },
   "file_extension": ".py",
   "mimetype": "text/x-python",
   "name": "python",
   "nbconvert_exporter": "python",
   "pygments_lexer": "ipython3",
   "version": "3.9.12"
  },
  "toc": {
   "base_numbering": 1,
   "nav_menu": {},
   "number_sections": true,
   "sideBar": true,
   "skip_h1_title": false,
   "title_cell": "Table of Contents",
   "title_sidebar": "Contents",
   "toc_cell": false,
   "toc_position": {
    "height": "calc(100% - 180px)",
    "left": "10px",
    "top": "150px",
    "width": "384px"
   },
   "toc_section_display": true,
   "toc_window_display": true
  }
 },
 "nbformat": 4,
 "nbformat_minor": 5
}
