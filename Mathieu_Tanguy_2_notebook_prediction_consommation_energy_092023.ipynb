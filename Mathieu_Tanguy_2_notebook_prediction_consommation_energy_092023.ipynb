{
 "cells": [
  {
   "cell_type": "markdown",
   "id": "fa37ef32",
   "metadata": {},
   "source": [
    "### import des librairies"
   ]
  },
  {
   "cell_type": "code",
   "execution_count": 1,
   "id": "1d78d172",
   "metadata": {
    "scrolled": true
   },
   "outputs": [],
   "source": [
    "import pandas as pd\n",
    "import numpy as np \n",
    "import matplotlib.pyplot as plt\n",
    "import seaborn as sns\n",
    "import time\n",
    "from sklearn.feature_selection import SelectKBest,chi2\n",
    "import statsmodels\n",
    "from sklearn.impute import KNNImputer\n",
    "from sklearn import metrics\n",
    "from sklearn.compose import ColumnTransformer\n",
    "from sklearn.feature_selection import RFE,RFECV\n",
    "from sklearn.neighbors import KNeighborsClassifier,KNeighborsRegressor\n",
    "from sklearn.model_selection import train_test_split, cross_val_score, KFold, StratifiedKFold, validation_curve,learning_curve\n",
    "from sklearn.linear_model import SGDRegressor, LinearRegression, Ridge, Lasso, ElasticNet\n",
    "from sklearn.dummy import DummyRegressor\n",
    "from sklearn.pipeline import make_pipeline, Pipeline\n",
    "from sklearn.metrics import accuracy_score, f1_score , mean_absolute_percentage_error\n",
    "from sklearn.metrics import mean_squared_error, r2_score, median_absolute_error, mean_absolute_error\n",
    "from sklearn.preprocessing import StandardScaler,OneHotEncoder,RobustScaler, OrdinalEncoder,PowerTransformer,PolynomialFeatures\n",
    "from sklearn.model_selection import RandomizedSearchCV,GridSearchCV\n",
    "from sklearn.ensemble import RandomForestRegressor,GradientBoostingRegressor\n",
    "from sklearn.svm import SVR\n",
    "from scipy import spatial,stats\n",
    "from scipy.stats import kstest\n",
    "import folium\n",
    "import warnings\n",
    "warnings.filterwarnings('ignore')"
   ]
  },
  {
   "cell_type": "markdown",
   "id": "1879f218",
   "metadata": {},
   "source": [
    "# Partie prédiction"
   ]
  },
  {
   "cell_type": "markdown",
   "id": "231695ea",
   "metadata": {},
   "source": [
    "## Prédiction de la consommation annuelle d'énergie (SiteEnergyUseWN)"
   ]
  },
  {
   "cell_type": "code",
   "execution_count": 69,
   "id": "36d1f698",
   "metadata": {},
   "outputs": [],
   "source": [
    "df2 = df2.reset_index(drop=True)"
   ]
  },
  {
   "cell_type": "code",
   "execution_count": 70,
   "id": "a8ed7e73",
   "metadata": {},
   "outputs": [],
   "source": [
    "y = df2.copy()['SiteEnergyUseWN(kBtu)']\n",
    "X = df2.copy().drop(['SiteEnergyUseWN(kBtu)','TotalGHGEmissions',\"Electricity(kBtu)\",\"NaturalGas(kBtu)\"], axis=1)\n",
    "categorical_columns = X.select_dtypes(['category','object'])\n",
    "numerical_columns = X.select_dtypes(['int64','float64'])"
   ]
  },
  {
   "cell_type": "code",
   "execution_count": 71,
   "id": "ffca41d7",
   "metadata": {
    "scrolled": false
   },
   "outputs": [],
   "source": [
    "ordinal = OrdinalEncoder()\n",
    "\n",
    "col_cat_encoded = ordinal.fit_transform(categorical_columns)\n",
    "col_cat_encoded = pd.DataFrame(col_cat_encoded, columns=categorical_columns.columns)\n",
    "X = pd.concat([numerical_columns,col_cat_encoded ], axis=1)\n"
   ]
  },
  {
   "cell_type": "code",
   "execution_count": 72,
   "id": "a25e97ff",
   "metadata": {
    "scrolled": false
   },
   "outputs": [],
   "source": [
    "X_train, X_test, y_train, y_test = train_test_split(X, y,test_size = 0.25,random_state = 42)"
   ]
  },
  {
   "cell_type": "code",
   "execution_count": 73,
   "id": "e14aad55",
   "metadata": {},
   "outputs": [
    {
     "data": {
      "text/plain": [
       "(1334, 16)"
      ]
     },
     "execution_count": 73,
     "metadata": {},
     "output_type": "execute_result"
    }
   ],
   "source": [
    "X.shape"
   ]
  },
  {
   "cell_type": "code",
   "execution_count": 74,
   "id": "6b0e0a4e",
   "metadata": {},
   "outputs": [
    {
     "data": {
      "text/plain": [
       "(1334,)"
      ]
     },
     "execution_count": 74,
     "metadata": {},
     "output_type": "execute_result"
    }
   ],
   "source": [
    "y.shape"
   ]
  },
  {
   "cell_type": "code",
   "execution_count": 75,
   "id": "518cd870",
   "metadata": {},
   "outputs": [
    {
     "name": "stdout",
     "output_type": "stream",
     "text": [
      "0\n",
      "0\n",
      "0\n",
      "0\n"
     ]
    }
   ],
   "source": [
    "print(X_train.isna().sum().sum())\n",
    "print(X_test.isna().sum().sum())\n",
    "print(y_train.isna().sum().sum())\n",
    "print(y_test.isna().sum().sum())"
   ]
  },
  {
   "cell_type": "markdown",
   "id": "e2469fe1",
   "metadata": {},
   "source": [
    "### DummyRegressor après Standardscaler"
   ]
  },
  {
   "cell_type": "code",
   "execution_count": 76,
   "id": "1c5d26ae",
   "metadata": {},
   "outputs": [],
   "source": [
    "pipe = make_pipeline(StandardScaler(), DummyRegressor())"
   ]
  },
  {
   "cell_type": "code",
   "execution_count": 77,
   "id": "d04666c0",
   "metadata": {},
   "outputs": [],
   "source": [
    "model = pipe.fit(X_train, y_train)"
   ]
  },
  {
   "cell_type": "code",
   "execution_count": 78,
   "id": "263357e6",
   "metadata": {},
   "outputs": [
    {
     "name": "stdout",
     "output_type": "stream",
     "text": [
      "Score test  :  -0.014283291979036994\n",
      "Score train :  0.0\n"
     ]
    }
   ],
   "source": [
    "print('Score test  : ',model.score(X_test, y_test))\n",
    "print('Score train : ',model.score(X_train, y_train))"
   ]
  },
  {
   "cell_type": "markdown",
   "id": "6da37e81",
   "metadata": {},
   "source": [
    "### LinearRegression avec Standardscaler"
   ]
  },
  {
   "cell_type": "code",
   "execution_count": 79,
   "id": "12b9fd7a",
   "metadata": {},
   "outputs": [],
   "source": [
    "pipe = make_pipeline(StandardScaler(), LinearRegression())"
   ]
  },
  {
   "cell_type": "code",
   "execution_count": 80,
   "id": "662e9312",
   "metadata": {},
   "outputs": [],
   "source": [
    "model = pipe.fit(X_train, y_train)"
   ]
  },
  {
   "cell_type": "code",
   "execution_count": 81,
   "id": "2cda6306",
   "metadata": {
    "scrolled": true
   },
   "outputs": [
    {
     "name": "stdout",
     "output_type": "stream",
     "text": [
      "Score test  :  0.7423277812005475\n",
      "Score train :  0.5955962324931522\n"
     ]
    }
   ],
   "source": [
    "print('Score test  : ',model.score(X_test, y_test))\n",
    "print('Score train : ',model.score(X_train, y_train))"
   ]
  },
  {
   "cell_type": "markdown",
   "id": "c6af50e1",
   "metadata": {},
   "source": [
    "### DummyRegressor avec RobustScaler"
   ]
  },
  {
   "cell_type": "code",
   "execution_count": 82,
   "id": "9a652ccb",
   "metadata": {},
   "outputs": [],
   "source": [
    "df2 = df2.reset_index(drop=True)"
   ]
  },
  {
   "cell_type": "code",
   "execution_count": 83,
   "id": "26dc88e9",
   "metadata": {},
   "outputs": [],
   "source": [
    "y = df2.copy()['SiteEnergyUseWN(kBtu)']\n",
    "X = df2.copy().drop(['SiteEnergyUseWN(kBtu)','TotalGHGEmissions',\"Electricity(kBtu)\",\"NaturalGas(kBtu)\"], axis=1)\n",
    "categorical_columns = X.select_dtypes(['category','object'])\n",
    "numerical_columns = X.select_dtypes(['int64','float64'])"
   ]
  },
  {
   "cell_type": "code",
   "execution_count": 84,
   "id": "33c95b6e",
   "metadata": {
    "scrolled": false
   },
   "outputs": [],
   "source": [
    "ordinal = OrdinalEncoder()\n",
    "\n",
    "col_cat_encoded = ordinal.fit_transform(categorical_columns)\n",
    "col_cat_encoded = pd.DataFrame(col_cat_encoded, columns=categorical_columns.columns)\n",
    "X = pd.concat([numerical_columns,col_cat_encoded ], axis=1)\n"
   ]
  },
  {
   "cell_type": "code",
   "execution_count": 85,
   "id": "5fe55365",
   "metadata": {
    "scrolled": false
   },
   "outputs": [],
   "source": [
    "X_train, X_test, y_train, y_test = train_test_split(X, y,test_size = 0.25,random_state = 42)"
   ]
  },
  {
   "cell_type": "code",
   "execution_count": 86,
   "id": "fd983eaf",
   "metadata": {},
   "outputs": [],
   "source": [
    "pipe = make_pipeline(RobustScaler(), DummyRegressor())"
   ]
  },
  {
   "cell_type": "code",
   "execution_count": 87,
   "id": "a83cd39a",
   "metadata": {},
   "outputs": [],
   "source": [
    "model = pipe.fit(X_train, y_train)"
   ]
  },
  {
   "cell_type": "code",
   "execution_count": 88,
   "id": "dc855596",
   "metadata": {},
   "outputs": [
    {
     "name": "stdout",
     "output_type": "stream",
     "text": [
      "Score test  :  -0.014283291979036994\n",
      "Score train :  0.0\n"
     ]
    }
   ],
   "source": [
    "print('Score test  : ',model.score(X_test, y_test))\n",
    "print('Score train : ',model.score(X_train, y_train))"
   ]
  },
  {
   "cell_type": "markdown",
   "id": "9b237d8d",
   "metadata": {},
   "source": [
    "### LinearRegression avec RobustScaler"
   ]
  },
  {
   "cell_type": "code",
   "execution_count": 89,
   "id": "b3daf0f3",
   "metadata": {},
   "outputs": [],
   "source": [
    "pipe = make_pipeline(RobustScaler(), LinearRegression())"
   ]
  },
  {
   "cell_type": "code",
   "execution_count": 90,
   "id": "4c439208",
   "metadata": {},
   "outputs": [],
   "source": [
    "model = pipe.fit(X_train, y_train)"
   ]
  },
  {
   "cell_type": "code",
   "execution_count": 91,
   "id": "0e577901",
   "metadata": {},
   "outputs": [
    {
     "name": "stdout",
     "output_type": "stream",
     "text": [
      "Score test  :  0.7423277812045366\n",
      "Score train :  0.5955962324931523\n"
     ]
    }
   ],
   "source": [
    "print('Score test  : ',model.score(X_test, y_test))\n",
    "print('Score train : ',model.score(X_train, y_train))"
   ]
  },
  {
   "cell_type": "markdown",
   "id": "2717654d",
   "metadata": {},
   "source": [
    "SUR LES RESULTATS OBTENUES DANS LINEARREGRESSION , LEs SCORES SONT IDENTIQUES AVEC UN PASSAGE DANS ROBUSTSCALER ET DANS STANDARDSCALER . NOUS ALLONS DONC TRAVAILLER AVEC ORDINALENCODER ET ROBUSTSCALER ET TESTER LES MODELES SANS CV PUIS AVEC RANDOMIZEDSEARCHCV ET GRIDSEARCHCV"
   ]
  },
  {
   "cell_type": "markdown",
   "id": "c3149c6e",
   "metadata": {},
   "source": [
    "### Modélisation de plusieurs modèles"
   ]
  },
  {
   "cell_type": "code",
   "execution_count": 92,
   "id": "f8522618",
   "metadata": {},
   "outputs": [],
   "source": [
    "new_df = df2.copy()"
   ]
  },
  {
   "cell_type": "code",
   "execution_count": 93,
   "id": "acca140f",
   "metadata": {},
   "outputs": [],
   "source": [
    "y = new_df['SiteEnergyUseWN(kBtu)']\n",
    "X = new_df.drop(['SiteEnergyUseWN(kBtu)','TotalGHGEmissions',\"Electricity(kBtu)\",\"NaturalGas(kBtu)\"], axis=1)\n",
    "categorical_columns = X.select_dtypes(['category','object']).columns.tolist()\n",
    "numerical_columns = X.select_dtypes(['int64','float64']).columns.tolist()"
   ]
  },
  {
   "cell_type": "code",
   "execution_count": 94,
   "id": "d53302d7",
   "metadata": {},
   "outputs": [],
   "source": [
    "\n",
    "column_transformer = ColumnTransformer(\n",
    "    transformers=[\n",
    "        ('num', RobustScaler(), numerical_columns),\n",
    "        ('cat', OrdinalEncoder(), categorical_columns)\n",
    "    ],\n",
    "    remainder='passthrough')\n"
   ]
  },
  {
   "cell_type": "code",
   "execution_count": 95,
   "id": "60e0981f",
   "metadata": {
    "scrolled": true
   },
   "outputs": [],
   "source": [
    "pipeline = Pipeline([\n",
    "    ('column_transform', column_transformer)\n",
    "])\n",
    "\n",
    "X= pipeline.fit_transform(X)\n"
   ]
  },
  {
   "cell_type": "markdown",
   "id": "d38b0451",
   "metadata": {},
   "source": [
    "### Passage dans PowerTransform pour plus normalisé les données afin d'améliorer notre résultat"
   ]
  },
  {
   "cell_type": "code",
   "execution_count": 96,
   "id": "239e1fab",
   "metadata": {},
   "outputs": [],
   "source": [
    "pt = PowerTransformer()\n",
    "X= pt.fit_transform(X)\n"
   ]
  },
  {
   "cell_type": "code",
   "execution_count": 97,
   "id": "56468aa6",
   "metadata": {},
   "outputs": [
    {
     "data": {
      "text/html": [
       "<div>\n",
       "<style scoped>\n",
       "    .dataframe tbody tr th:only-of-type {\n",
       "        vertical-align: middle;\n",
       "    }\n",
       "\n",
       "    .dataframe tbody tr th {\n",
       "        vertical-align: top;\n",
       "    }\n",
       "\n",
       "    .dataframe thead th {\n",
       "        text-align: right;\n",
       "    }\n",
       "</style>\n",
       "<table border=\"1\" class=\"dataframe\">\n",
       "  <thead>\n",
       "    <tr style=\"text-align: right;\">\n",
       "      <th></th>\n",
       "      <th>OSEBuildingID</th>\n",
       "      <th>DataYear</th>\n",
       "      <th>Latitude</th>\n",
       "      <th>Longitude</th>\n",
       "      <th>YearBuilt</th>\n",
       "      <th>NumberofBuildings</th>\n",
       "      <th>NumberofFloors</th>\n",
       "      <th>PropertyGFATotal</th>\n",
       "      <th>ENERGYSTARScore</th>\n",
       "      <th>SourceEUI(kBtu/sf)</th>\n",
       "      <th>SteamUse(kBtu)</th>\n",
       "      <th>BuildingType</th>\n",
       "      <th>PrimaryPropertyType</th>\n",
       "      <th>CouncilDistrictCode</th>\n",
       "      <th>Neighborhood</th>\n",
       "      <th>LargestPropertyUseType</th>\n",
       "    </tr>\n",
       "  </thead>\n",
       "  <tbody>\n",
       "    <tr>\n",
       "      <th>0</th>\n",
       "      <td>-1.400009</td>\n",
       "      <td>0.0</td>\n",
       "      <td>0.034520</td>\n",
       "      <td>-0.028133</td>\n",
       "      <td>-1.034142</td>\n",
       "      <td>0.05244</td>\n",
       "      <td>2.086677</td>\n",
       "      <td>0.987444</td>\n",
       "      <td>-1.546863</td>\n",
       "      <td>0.429093</td>\n",
       "      <td>-0.186844</td>\n",
       "      <td>-0.231040</td>\n",
       "      <td>-1.169739</td>\n",
       "      <td>1.224761</td>\n",
       "      <td>-0.818371</td>\n",
       "      <td>-0.760356</td>\n",
       "    </tr>\n",
       "    <tr>\n",
       "      <th>1</th>\n",
       "      <td>-1.398639</td>\n",
       "      <td>0.0</td>\n",
       "      <td>-1.445564</td>\n",
       "      <td>2.720835</td>\n",
       "      <td>-0.033746</td>\n",
       "      <td>0.05244</td>\n",
       "      <td>-0.106355</td>\n",
       "      <td>0.465771</td>\n",
       "      <td>1.556163</td>\n",
       "      <td>-0.832124</td>\n",
       "      <td>-0.186844</td>\n",
       "      <td>2.746108</td>\n",
       "      <td>-1.655990</td>\n",
       "      <td>-0.970059</td>\n",
       "      <td>1.777716</td>\n",
       "      <td>-1.674331</td>\n",
       "    </tr>\n",
       "    <tr>\n",
       "      <th>2</th>\n",
       "      <td>-1.398563</td>\n",
       "      <td>0.0</td>\n",
       "      <td>0.908314</td>\n",
       "      <td>0.595443</td>\n",
       "      <td>1.336749</td>\n",
       "      <td>0.05244</td>\n",
       "      <td>1.434264</td>\n",
       "      <td>1.061813</td>\n",
       "      <td>0.809600</td>\n",
       "      <td>0.443196</td>\n",
       "      <td>-0.186844</td>\n",
       "      <td>-0.231040</td>\n",
       "      <td>-1.169739</td>\n",
       "      <td>0.091775</td>\n",
       "      <td>1.195875</td>\n",
       "      <td>-0.760356</td>\n",
       "    </tr>\n",
       "    <tr>\n",
       "      <th>3</th>\n",
       "      <td>-1.398411</td>\n",
       "      <td>0.0</td>\n",
       "      <td>0.056632</td>\n",
       "      <td>0.052646</td>\n",
       "      <td>-0.926985</td>\n",
       "      <td>0.05244</td>\n",
       "      <td>-0.106355</td>\n",
       "      <td>0.722249</td>\n",
       "      <td>-0.224383</td>\n",
       "      <td>-0.822164</td>\n",
       "      <td>-0.186844</td>\n",
       "      <td>-0.231040</td>\n",
       "      <td>0.015339</td>\n",
       "      <td>1.224761</td>\n",
       "      <td>-0.818371</td>\n",
       "      <td>1.793325</td>\n",
       "    </tr>\n",
       "    <tr>\n",
       "      <th>4</th>\n",
       "      <td>-1.398182</td>\n",
       "      <td>0.0</td>\n",
       "      <td>0.208887</td>\n",
       "      <td>1.104696</td>\n",
       "      <td>-0.216883</td>\n",
       "      <td>0.05244</td>\n",
       "      <td>-1.214694</td>\n",
       "      <td>1.412947</td>\n",
       "      <td>-0.224383</td>\n",
       "      <td>-2.274072</td>\n",
       "      <td>-0.186844</td>\n",
       "      <td>2.746108</td>\n",
       "      <td>-1.655990</td>\n",
       "      <td>-0.389172</td>\n",
       "      <td>-1.673004</td>\n",
       "      <td>-1.674331</td>\n",
       "    </tr>\n",
       "    <tr>\n",
       "      <th>...</th>\n",
       "      <td>...</td>\n",
       "      <td>...</td>\n",
       "      <td>...</td>\n",
       "      <td>...</td>\n",
       "      <td>...</td>\n",
       "      <td>...</td>\n",
       "      <td>...</td>\n",
       "      <td>...</td>\n",
       "      <td>...</td>\n",
       "      <td>...</td>\n",
       "      <td>...</td>\n",
       "      <td>...</td>\n",
       "      <td>...</td>\n",
       "      <td>...</td>\n",
       "      <td>...</td>\n",
       "      <td>...</td>\n",
       "    </tr>\n",
       "    <tr>\n",
       "      <th>1329</th>\n",
       "      <td>2.557330</td>\n",
       "      <td>0.0</td>\n",
       "      <td>-1.563315</td>\n",
       "      <td>-1.604818</td>\n",
       "      <td>0.655475</td>\n",
       "      <td>0.05244</td>\n",
       "      <td>-1.214694</td>\n",
       "      <td>-1.642583</td>\n",
       "      <td>-0.224383</td>\n",
       "      <td>0.203285</td>\n",
       "      <td>-0.186844</td>\n",
       "      <td>1.781773</td>\n",
       "      <td>0.015339</td>\n",
       "      <td>-1.748768</td>\n",
       "      <td>-1.224536</td>\n",
       "      <td>-0.337346</td>\n",
       "    </tr>\n",
       "    <tr>\n",
       "      <th>1330</th>\n",
       "      <td>2.557411</td>\n",
       "      <td>0.0</td>\n",
       "      <td>-0.958907</td>\n",
       "      <td>0.847306</td>\n",
       "      <td>0.936199</td>\n",
       "      <td>0.05244</td>\n",
       "      <td>-1.214694</td>\n",
       "      <td>-2.254310</td>\n",
       "      <td>-0.973477</td>\n",
       "      <td>0.574208</td>\n",
       "      <td>-0.186844</td>\n",
       "      <td>1.781773</td>\n",
       "      <td>-0.156717</td>\n",
       "      <td>-0.970059</td>\n",
       "      <td>-0.085144</td>\n",
       "      <td>0.271123</td>\n",
       "    </tr>\n",
       "    <tr>\n",
       "      <th>1331</th>\n",
       "      <td>2.557493</td>\n",
       "      <td>0.0</td>\n",
       "      <td>-0.329146</td>\n",
       "      <td>0.376963</td>\n",
       "      <td>1.448756</td>\n",
       "      <td>0.05244</td>\n",
       "      <td>-1.214694</td>\n",
       "      <td>-1.863664</td>\n",
       "      <td>-0.224383</td>\n",
       "      <td>0.055388</td>\n",
       "      <td>-0.186844</td>\n",
       "      <td>1.781773</td>\n",
       "      <td>0.015339</td>\n",
       "      <td>-0.970059</td>\n",
       "      <td>-0.818371</td>\n",
       "      <td>-0.337346</td>\n",
       "    </tr>\n",
       "    <tr>\n",
       "      <th>1332</th>\n",
       "      <td>2.557655</td>\n",
       "      <td>0.0</td>\n",
       "      <td>-1.852451</td>\n",
       "      <td>0.316243</td>\n",
       "      <td>0.900606</td>\n",
       "      <td>0.05244</td>\n",
       "      <td>-1.214694</td>\n",
       "      <td>-2.059384</td>\n",
       "      <td>-0.224383</td>\n",
       "      <td>-0.067266</td>\n",
       "      <td>-0.186844</td>\n",
       "      <td>1.781773</td>\n",
       "      <td>-0.328008</td>\n",
       "      <td>-1.748768</td>\n",
       "      <td>-0.085144</td>\n",
       "      <td>-0.337346</td>\n",
       "    </tr>\n",
       "    <tr>\n",
       "      <th>1333</th>\n",
       "      <td>2.557737</td>\n",
       "      <td>0.0</td>\n",
       "      <td>-1.593059</td>\n",
       "      <td>1.539229</td>\n",
       "      <td>-0.707817</td>\n",
       "      <td>0.05244</td>\n",
       "      <td>-1.214694</td>\n",
       "      <td>-1.642868</td>\n",
       "      <td>-0.224383</td>\n",
       "      <td>0.076382</td>\n",
       "      <td>-0.186844</td>\n",
       "      <td>1.781773</td>\n",
       "      <td>-0.328008</td>\n",
       "      <td>-0.970059</td>\n",
       "      <td>-0.085144</td>\n",
       "      <td>-0.337346</td>\n",
       "    </tr>\n",
       "  </tbody>\n",
       "</table>\n",
       "<p>1334 rows × 16 columns</p>\n",
       "</div>"
      ],
      "text/plain": [
       "      OSEBuildingID  DataYear  Latitude  Longitude  YearBuilt  \\\n",
       "0         -1.400009       0.0  0.034520  -0.028133  -1.034142   \n",
       "1         -1.398639       0.0 -1.445564   2.720835  -0.033746   \n",
       "2         -1.398563       0.0  0.908314   0.595443   1.336749   \n",
       "3         -1.398411       0.0  0.056632   0.052646  -0.926985   \n",
       "4         -1.398182       0.0  0.208887   1.104696  -0.216883   \n",
       "...             ...       ...       ...        ...        ...   \n",
       "1329       2.557330       0.0 -1.563315  -1.604818   0.655475   \n",
       "1330       2.557411       0.0 -0.958907   0.847306   0.936199   \n",
       "1331       2.557493       0.0 -0.329146   0.376963   1.448756   \n",
       "1332       2.557655       0.0 -1.852451   0.316243   0.900606   \n",
       "1333       2.557737       0.0 -1.593059   1.539229  -0.707817   \n",
       "\n",
       "      NumberofBuildings  NumberofFloors  PropertyGFATotal  ENERGYSTARScore  \\\n",
       "0               0.05244        2.086677          0.987444        -1.546863   \n",
       "1               0.05244       -0.106355          0.465771         1.556163   \n",
       "2               0.05244        1.434264          1.061813         0.809600   \n",
       "3               0.05244       -0.106355          0.722249        -0.224383   \n",
       "4               0.05244       -1.214694          1.412947        -0.224383   \n",
       "...                 ...             ...               ...              ...   \n",
       "1329            0.05244       -1.214694         -1.642583        -0.224383   \n",
       "1330            0.05244       -1.214694         -2.254310        -0.973477   \n",
       "1331            0.05244       -1.214694         -1.863664        -0.224383   \n",
       "1332            0.05244       -1.214694         -2.059384        -0.224383   \n",
       "1333            0.05244       -1.214694         -1.642868        -0.224383   \n",
       "\n",
       "      SourceEUI(kBtu/sf)  SteamUse(kBtu)  BuildingType  PrimaryPropertyType  \\\n",
       "0               0.429093       -0.186844     -0.231040            -1.169739   \n",
       "1              -0.832124       -0.186844      2.746108            -1.655990   \n",
       "2               0.443196       -0.186844     -0.231040            -1.169739   \n",
       "3              -0.822164       -0.186844     -0.231040             0.015339   \n",
       "4              -2.274072       -0.186844      2.746108            -1.655990   \n",
       "...                  ...             ...           ...                  ...   \n",
       "1329            0.203285       -0.186844      1.781773             0.015339   \n",
       "1330            0.574208       -0.186844      1.781773            -0.156717   \n",
       "1331            0.055388       -0.186844      1.781773             0.015339   \n",
       "1332           -0.067266       -0.186844      1.781773            -0.328008   \n",
       "1333            0.076382       -0.186844      1.781773            -0.328008   \n",
       "\n",
       "      CouncilDistrictCode  Neighborhood  LargestPropertyUseType  \n",
       "0                1.224761     -0.818371               -0.760356  \n",
       "1               -0.970059      1.777716               -1.674331  \n",
       "2                0.091775      1.195875               -0.760356  \n",
       "3                1.224761     -0.818371                1.793325  \n",
       "4               -0.389172     -1.673004               -1.674331  \n",
       "...                   ...           ...                     ...  \n",
       "1329            -1.748768     -1.224536               -0.337346  \n",
       "1330            -0.970059     -0.085144                0.271123  \n",
       "1331            -0.970059     -0.818371               -0.337346  \n",
       "1332            -1.748768     -0.085144               -0.337346  \n",
       "1333            -0.970059     -0.085144               -0.337346  \n",
       "\n",
       "[1334 rows x 16 columns]"
      ]
     },
     "execution_count": 97,
     "metadata": {},
     "output_type": "execute_result"
    }
   ],
   "source": [
    "\n",
    "X = pd.DataFrame(X, columns=numerical_columns + categorical_columns)\n",
    "X"
   ]
  },
  {
   "cell_type": "code",
   "execution_count": 98,
   "id": "13cbc197",
   "metadata": {},
   "outputs": [
    {
     "data": {
      "text/plain": [
       "(1334, 16)"
      ]
     },
     "execution_count": 98,
     "metadata": {},
     "output_type": "execute_result"
    }
   ],
   "source": [
    "X.shape"
   ]
  },
  {
   "cell_type": "code",
   "execution_count": 99,
   "id": "11c36074",
   "metadata": {
    "scrolled": false
   },
   "outputs": [],
   "source": [
    "X_train, X_test, y_train, y_test = train_test_split(X, y,test_size = 0.25,random_state = 42)"
   ]
  },
  {
   "cell_type": "code",
   "execution_count": 100,
   "id": "cdec41dd",
   "metadata": {},
   "outputs": [
    {
     "data": {
      "text/plain": [
       "(1000, 16)"
      ]
     },
     "execution_count": 100,
     "metadata": {},
     "output_type": "execute_result"
    }
   ],
   "source": [
    "X_train.shape\n"
   ]
  },
  {
   "cell_type": "code",
   "execution_count": 101,
   "id": "bbaef977",
   "metadata": {},
   "outputs": [
    {
     "data": {
      "text/plain": [
       "(334, 16)"
      ]
     },
     "execution_count": 101,
     "metadata": {},
     "output_type": "execute_result"
    }
   ],
   "source": [
    "X_test.shape\n"
   ]
  },
  {
   "cell_type": "code",
   "execution_count": 102,
   "id": "3109913c",
   "metadata": {},
   "outputs": [
    {
     "data": {
      "text/plain": [
       "(1000,)"
      ]
     },
     "execution_count": 102,
     "metadata": {},
     "output_type": "execute_result"
    }
   ],
   "source": [
    "y_train.shape\n"
   ]
  },
  {
   "cell_type": "code",
   "execution_count": 103,
   "id": "ca10c3e5",
   "metadata": {},
   "outputs": [
    {
     "data": {
      "text/plain": [
       "(334,)"
      ]
     },
     "execution_count": 103,
     "metadata": {},
     "output_type": "execute_result"
    }
   ],
   "source": [
    "\n",
    "y_test.shape"
   ]
  },
  {
   "cell_type": "markdown",
   "id": "22d1fa9c",
   "metadata": {},
   "source": [
    "### Définition des meilleurs hyper paramètres"
   ]
  },
  {
   "cell_type": "code",
   "execution_count": 104,
   "id": "a8767d66",
   "metadata": {},
   "outputs": [],
   "source": [
    "models = [\n",
    "    ('LinearRegression', LinearRegression(), {'normalize': [True, False]}),\n",
    "    ('gboost', GradientBoostingRegressor(), {\n",
    "        'n_estimators': [50, 100, 200],\n",
    "        'learning_rate': [0.01, 0.1, 0.2]\n",
    "    }),\n",
    "    ('rfr', RandomForestRegressor(), {\n",
    "        'n_estimators': [50, 100, 200],\n",
    "        'max_depth': [None, 10, 20],\n",
    "        'min_samples_split': [2, 5, 10]\n",
    "    }),\n",
    "    ('KNeighborsRegressor', KNeighborsRegressor(), {'n_neighbors': [3, 5, 7]}),\n",
    "    ('SVR', SVR(), {\n",
    "        'kernel': ['linear', 'poly', 'rbf'],\n",
    "        'C': [0.1, 1, 10],\n",
    "        'epsilon': [0.01, 0.1, 0.2]\n",
    "    }),\n",
    "    ('ElasticNet', ElasticNet(), {\n",
    "        'alpha': [0.01, 0.1, 1.0],\n",
    "        'l1_ratio': [0.1, 0.5, 0.9],\n",
    "        'normalize': [True, False]\n",
    "    })\n",
    "]\n",
    "\n",
    "best_params = {}\n",
    "\n",
    "for model_name, model, param_grid in models:\n",
    "    grid_search = GridSearchCV(model, param_grid, cv=5, n_jobs=-1)\n",
    "    grid_search.fit(X_train, y_train)\n",
    "    best_params[model_name] = grid_search.best_params_\n"
   ]
  },
  {
   "cell_type": "code",
   "execution_count": 105,
   "id": "15c978e1",
   "metadata": {},
   "outputs": [
    {
     "data": {
      "text/plain": [
       "{'LinearRegression': {'normalize': False},\n",
       " 'gboost': {'learning_rate': 0.2, 'n_estimators': 50},\n",
       " 'rfr': {'max_depth': None, 'min_samples_split': 10, 'n_estimators': 50},\n",
       " 'KNeighborsRegressor': {'n_neighbors': 7},\n",
       " 'SVR': {'C': 10, 'epsilon': 0.01, 'kernel': 'linear'},\n",
       " 'ElasticNet': {'alpha': 0.1, 'l1_ratio': 0.9, 'normalize': False}}"
      ]
     },
     "execution_count": 105,
     "metadata": {},
     "output_type": "execute_result"
    }
   ],
   "source": [
    "best_params"
   ]
  },
  {
   "cell_type": "code",
   "execution_count": 106,
   "id": "ab3ccbce",
   "metadata": {},
   "outputs": [],
   "source": [
    "models = [\n",
    "    ('Dummy Regressor', DummyRegressor(), {'strategy' : ['mean']}),  \n",
    "    ('Linear Regression', LinearRegression(), {'fit_intercept': [True, False], 'normalize': [True, False], 'copy_X': [True]}),\n",
    "    ('Elastic Net', ElasticNet(), {'alpha': [1,0.1,0.01,0.001], 'max_iter': [1000], 'random_state': [42], 'tol': [0.001]}),\n",
    "    ('K-Neighbors Regressor', KNeighborsRegressor(), {'n_neighbors': list(range(1,30))}),\n",
    "    ('SVR', SVR(), {'gamma' : ['scale'],'epsilon' : [0.001, 0.01, 0.1, 1],'C' : [0.001, 0.01, 0.1, 1, 10], 'tol':[0.001]}),\n",
    "    ('Random Forest Regressor', RandomForestRegressor(), {'n_estimators': [100, 500, 1000], 'max_features': ['auto'], 'n_jobs': [-1], \n",
    "              'random_state': [42], 'max_depth': [None]}),\n",
    "    ('Gradient Boosting Regressor', GradientBoostingRegressor(), \n",
    "     {'n_estimators':[100, 500, 1000], 'random_state': [42], 'max_depth': [None]})\n",
    "]\n"
   ]
  },
  {
   "cell_type": "code",
   "execution_count": 107,
   "id": "892e1638",
   "metadata": {
    "scrolled": false
   },
   "outputs": [
    {
     "data": {
      "text/html": [
       "<div>\n",
       "<style scoped>\n",
       "    .dataframe tbody tr th:only-of-type {\n",
       "        vertical-align: middle;\n",
       "    }\n",
       "\n",
       "    .dataframe tbody tr th {\n",
       "        vertical-align: top;\n",
       "    }\n",
       "\n",
       "    .dataframe thead th {\n",
       "        text-align: right;\n",
       "    }\n",
       "</style>\n",
       "<table border=\"1\" class=\"dataframe\">\n",
       "  <thead>\n",
       "    <tr style=\"text-align: right;\">\n",
       "      <th></th>\n",
       "      <th>Model</th>\n",
       "      <th>CV Type</th>\n",
       "      <th>Train R2</th>\n",
       "      <th>Test R2</th>\n",
       "      <th>RMSE</th>\n",
       "      <th>Median absolute error</th>\n",
       "      <th>Elapsed Time</th>\n",
       "    </tr>\n",
       "  </thead>\n",
       "  <tbody>\n",
       "    <tr>\n",
       "      <th>0</th>\n",
       "      <td>Dummy Regressor</td>\n",
       "      <td>No CV</td>\n",
       "      <td>0.000000</td>\n",
       "      <td>-0.014283</td>\n",
       "      <td>3.129338e+06</td>\n",
       "      <td>1635811.25</td>\n",
       "      <td>0.002013</td>\n",
       "    </tr>\n",
       "    <tr>\n",
       "      <th>1</th>\n",
       "      <td>Dummy Regressor</td>\n",
       "      <td>GridSearchCV</td>\n",
       "      <td>0.000000</td>\n",
       "      <td>-0.014283</td>\n",
       "      <td>3.129338e+06</td>\n",
       "      <td>1635811.25</td>\n",
       "      <td>0.013438</td>\n",
       "    </tr>\n",
       "    <tr>\n",
       "      <th>2</th>\n",
       "      <td>Dummy Regressor</td>\n",
       "      <td>RandomizedSearchCV</td>\n",
       "      <td>0.000000</td>\n",
       "      <td>-0.014283</td>\n",
       "      <td>3.129338e+06</td>\n",
       "      <td>1635811.25</td>\n",
       "      <td>0.012005</td>\n",
       "    </tr>\n",
       "    <tr>\n",
       "      <th>3</th>\n",
       "      <td>Linear Regression</td>\n",
       "      <td>No CV</td>\n",
       "      <td>0.655508</td>\n",
       "      <td>0.692243</td>\n",
       "      <td>1.723761e+06</td>\n",
       "      <td>808370.56</td>\n",
       "      <td>0.004999</td>\n",
       "    </tr>\n",
       "    <tr>\n",
       "      <th>4</th>\n",
       "      <td>Linear Regression</td>\n",
       "      <td>GridSearchCV</td>\n",
       "      <td>0.655508</td>\n",
       "      <td>0.692243</td>\n",
       "      <td>1.723761e+06</td>\n",
       "      <td>808370.56</td>\n",
       "      <td>0.043006</td>\n",
       "    </tr>\n",
       "    <tr>\n",
       "      <th>5</th>\n",
       "      <td>Linear Regression</td>\n",
       "      <td>RandomizedSearchCV</td>\n",
       "      <td>0.655508</td>\n",
       "      <td>0.692243</td>\n",
       "      <td>1.723761e+06</td>\n",
       "      <td>808370.56</td>\n",
       "      <td>0.042513</td>\n",
       "    </tr>\n",
       "    <tr>\n",
       "      <th>6</th>\n",
       "      <td>Elastic Net</td>\n",
       "      <td>No CV</td>\n",
       "      <td>0.588697</td>\n",
       "      <td>0.592747</td>\n",
       "      <td>1.982920e+06</td>\n",
       "      <td>709323.01</td>\n",
       "      <td>0.005000</td>\n",
       "    </tr>\n",
       "    <tr>\n",
       "      <th>7</th>\n",
       "      <td>Elastic Net</td>\n",
       "      <td>GridSearchCV</td>\n",
       "      <td>0.653474</td>\n",
       "      <td>0.683274</td>\n",
       "      <td>1.748699e+06</td>\n",
       "      <td>750251.94</td>\n",
       "      <td>0.044312</td>\n",
       "    </tr>\n",
       "    <tr>\n",
       "      <th>8</th>\n",
       "      <td>Elastic Net</td>\n",
       "      <td>RandomizedSearchCV</td>\n",
       "      <td>0.653474</td>\n",
       "      <td>0.683274</td>\n",
       "      <td>1.748699e+06</td>\n",
       "      <td>750251.94</td>\n",
       "      <td>0.044216</td>\n",
       "    </tr>\n",
       "    <tr>\n",
       "      <th>9</th>\n",
       "      <td>K-Neighbors Regressor</td>\n",
       "      <td>No CV</td>\n",
       "      <td>0.713692</td>\n",
       "      <td>0.643750</td>\n",
       "      <td>1.854600e+06</td>\n",
       "      <td>616081.53</td>\n",
       "      <td>0.031210</td>\n",
       "    </tr>\n",
       "    <tr>\n",
       "      <th>10</th>\n",
       "      <td>K-Neighbors Regressor</td>\n",
       "      <td>GridSearchCV</td>\n",
       "      <td>0.679196</td>\n",
       "      <td>0.646531</td>\n",
       "      <td>1.847346e+06</td>\n",
       "      <td>660624.91</td>\n",
       "      <td>0.305566</td>\n",
       "    </tr>\n",
       "    <tr>\n",
       "      <th>11</th>\n",
       "      <td>K-Neighbors Regressor</td>\n",
       "      <td>RandomizedSearchCV</td>\n",
       "      <td>0.634770</td>\n",
       "      <td>0.633394</td>\n",
       "      <td>1.881364e+06</td>\n",
       "      <td>670875.55</td>\n",
       "      <td>0.088588</td>\n",
       "    </tr>\n",
       "    <tr>\n",
       "      <th>12</th>\n",
       "      <td>SVR</td>\n",
       "      <td>No CV</td>\n",
       "      <td>-0.107147</td>\n",
       "      <td>-0.154182</td>\n",
       "      <td>3.338181e+06</td>\n",
       "      <td>1171541.56</td>\n",
       "      <td>0.147590</td>\n",
       "    </tr>\n",
       "    <tr>\n",
       "      <th>13</th>\n",
       "      <td>SVR</td>\n",
       "      <td>GridSearchCV</td>\n",
       "      <td>-0.107013</td>\n",
       "      <td>-0.154059</td>\n",
       "      <td>3.338004e+06</td>\n",
       "      <td>1171353.67</td>\n",
       "      <td>0.683307</td>\n",
       "    </tr>\n",
       "    <tr>\n",
       "      <th>14</th>\n",
       "      <td>SVR</td>\n",
       "      <td>RandomizedSearchCV</td>\n",
       "      <td>-0.107147</td>\n",
       "      <td>-0.154182</td>\n",
       "      <td>3.338181e+06</td>\n",
       "      <td>1171541.56</td>\n",
       "      <td>0.303585</td>\n",
       "    </tr>\n",
       "    <tr>\n",
       "      <th>15</th>\n",
       "      <td>Random Forest Regressor</td>\n",
       "      <td>No CV</td>\n",
       "      <td>0.964500</td>\n",
       "      <td>0.847188</td>\n",
       "      <td>1.214652e+06</td>\n",
       "      <td>415991.71</td>\n",
       "      <td>0.443625</td>\n",
       "    </tr>\n",
       "    <tr>\n",
       "      <th>16</th>\n",
       "      <td>Random Forest Regressor</td>\n",
       "      <td>GridSearchCV</td>\n",
       "      <td>0.966911</td>\n",
       "      <td>0.848627</td>\n",
       "      <td>1.208920e+06</td>\n",
       "      <td>442995.55</td>\n",
       "      <td>5.511356</td>\n",
       "    </tr>\n",
       "    <tr>\n",
       "      <th>17</th>\n",
       "      <td>Random Forest Regressor</td>\n",
       "      <td>RandomizedSearchCV</td>\n",
       "      <td>0.966911</td>\n",
       "      <td>0.848627</td>\n",
       "      <td>1.208920e+06</td>\n",
       "      <td>442995.55</td>\n",
       "      <td>5.572793</td>\n",
       "    </tr>\n",
       "    <tr>\n",
       "      <th>18</th>\n",
       "      <td>Gradient Boosting Regressor</td>\n",
       "      <td>No CV</td>\n",
       "      <td>0.936716</td>\n",
       "      <td>0.830035</td>\n",
       "      <td>1.281011e+06</td>\n",
       "      <td>425000.98</td>\n",
       "      <td>0.164704</td>\n",
       "    </tr>\n",
       "    <tr>\n",
       "      <th>19</th>\n",
       "      <td>Gradient Boosting Regressor</td>\n",
       "      <td>GridSearchCV</td>\n",
       "      <td>1.000000</td>\n",
       "      <td>0.722450</td>\n",
       "      <td>1.636980e+06</td>\n",
       "      <td>563421.92</td>\n",
       "      <td>2.810629</td>\n",
       "    </tr>\n",
       "    <tr>\n",
       "      <th>20</th>\n",
       "      <td>Gradient Boosting Regressor</td>\n",
       "      <td>RandomizedSearchCV</td>\n",
       "      <td>1.000000</td>\n",
       "      <td>0.722450</td>\n",
       "      <td>1.636980e+06</td>\n",
       "      <td>563421.92</td>\n",
       "      <td>2.857702</td>\n",
       "    </tr>\n",
       "  </tbody>\n",
       "</table>\n",
       "</div>"
      ],
      "text/plain": [
       "                          Model             CV Type  Train R2   Test R2  \\\n",
       "0               Dummy Regressor               No CV  0.000000 -0.014283   \n",
       "1               Dummy Regressor        GridSearchCV  0.000000 -0.014283   \n",
       "2               Dummy Regressor  RandomizedSearchCV  0.000000 -0.014283   \n",
       "3             Linear Regression               No CV  0.655508  0.692243   \n",
       "4             Linear Regression        GridSearchCV  0.655508  0.692243   \n",
       "5             Linear Regression  RandomizedSearchCV  0.655508  0.692243   \n",
       "6                   Elastic Net               No CV  0.588697  0.592747   \n",
       "7                   Elastic Net        GridSearchCV  0.653474  0.683274   \n",
       "8                   Elastic Net  RandomizedSearchCV  0.653474  0.683274   \n",
       "9         K-Neighbors Regressor               No CV  0.713692  0.643750   \n",
       "10        K-Neighbors Regressor        GridSearchCV  0.679196  0.646531   \n",
       "11        K-Neighbors Regressor  RandomizedSearchCV  0.634770  0.633394   \n",
       "12                          SVR               No CV -0.107147 -0.154182   \n",
       "13                          SVR        GridSearchCV -0.107013 -0.154059   \n",
       "14                          SVR  RandomizedSearchCV -0.107147 -0.154182   \n",
       "15      Random Forest Regressor               No CV  0.964500  0.847188   \n",
       "16      Random Forest Regressor        GridSearchCV  0.966911  0.848627   \n",
       "17      Random Forest Regressor  RandomizedSearchCV  0.966911  0.848627   \n",
       "18  Gradient Boosting Regressor               No CV  0.936716  0.830035   \n",
       "19  Gradient Boosting Regressor        GridSearchCV  1.000000  0.722450   \n",
       "20  Gradient Boosting Regressor  RandomizedSearchCV  1.000000  0.722450   \n",
       "\n",
       "            RMSE  Median absolute error  Elapsed Time  \n",
       "0   3.129338e+06             1635811.25      0.002013  \n",
       "1   3.129338e+06             1635811.25      0.013438  \n",
       "2   3.129338e+06             1635811.25      0.012005  \n",
       "3   1.723761e+06              808370.56      0.004999  \n",
       "4   1.723761e+06              808370.56      0.043006  \n",
       "5   1.723761e+06              808370.56      0.042513  \n",
       "6   1.982920e+06              709323.01      0.005000  \n",
       "7   1.748699e+06              750251.94      0.044312  \n",
       "8   1.748699e+06              750251.94      0.044216  \n",
       "9   1.854600e+06              616081.53      0.031210  \n",
       "10  1.847346e+06              660624.91      0.305566  \n",
       "11  1.881364e+06              670875.55      0.088588  \n",
       "12  3.338181e+06             1171541.56      0.147590  \n",
       "13  3.338004e+06             1171353.67      0.683307  \n",
       "14  3.338181e+06             1171541.56      0.303585  \n",
       "15  1.214652e+06              415991.71      0.443625  \n",
       "16  1.208920e+06              442995.55      5.511356  \n",
       "17  1.208920e+06              442995.55      5.572793  \n",
       "18  1.281011e+06              425000.98      0.164704  \n",
       "19  1.636980e+06              563421.92      2.810629  \n",
       "20  1.636980e+06              563421.92      2.857702  "
      ]
     },
     "execution_count": 107,
     "metadata": {},
     "output_type": "execute_result"
    }
   ],
   "source": [
    "results = []\n",
    "\n",
    "for model_name, model, param_grid in models:\n",
    "   \n",
    "    start_time = time.time()\n",
    "    model.fit(X_train, y_train)\n",
    "    y_pred = model.predict(X_test)\n",
    "    train_r2 = r2_score(y_train, model.predict(X_train))\n",
    "    test_r2 = r2_score(y_test, y_pred)\n",
    "    rmse = np.sqrt(mean_squared_error(y_test, y_pred))\n",
    "    med_abs_error= round(median_absolute_error(y_test, y_pred),2)\n",
    "    elapsed_time = time.time() - start_time\n",
    "    results.append([model_name, 'No CV', train_r2, test_r2, rmse, med_abs_error, elapsed_time])\n",
    "\n",
    "   \n",
    "    grid_search = GridSearchCV(model, param_grid, cv=5, n_jobs=-1)\n",
    "    start_time = time.time()\n",
    "    grid_search.fit(X_train, y_train)\n",
    "    best_model = grid_search.best_estimator_\n",
    "    y_pred = best_model.predict(X_test)\n",
    "    train_r2 = r2_score(y_train, best_model.predict(X_train))\n",
    "    test_r2 = r2_score(y_test, y_pred)\n",
    "    rmse = np.sqrt(mean_squared_error(y_test, y_pred))\n",
    "    med_abs_error= round(median_absolute_error(y_test, y_pred),2)\n",
    "    elapsed_time = time.time() - start_time\n",
    "    results.append([model_name, 'GridSearchCV', train_r2, test_r2, rmse,med_abs_error, elapsed_time])\n",
    "\n",
    "  \n",
    "    randomized_search = RandomizedSearchCV(model, param_grid, n_iter=5, cv=5, n_jobs=-1)\n",
    "    start_time = time.time()\n",
    "    randomized_search.fit(X_train, y_train)\n",
    "    best_model = randomized_search.best_estimator_\n",
    "    y_pred = best_model.predict(X_test)\n",
    "    train_r2 = r2_score(y_train, best_model.predict(X_train))\n",
    "    test_r2 = r2_score(y_test, y_pred)\n",
    "    rmse = np.sqrt(mean_squared_error(y_test, y_pred))\n",
    "    med_abs_error= round(median_absolute_error(y_test, y_pred),2)\n",
    "    elapsed_time = time.time() - start_time\n",
    "    results.append([model_name, 'RandomizedSearchCV', train_r2, test_r2, rmse,med_abs_error, elapsed_time])\n",
    "\n",
    "results_df = pd.DataFrame(results, columns=['Model', 'CV Type', 'Train R2', 'Test R2', 'RMSE','Median absolute error',\n",
    "                                            'Elapsed Time'])\n",
    "\n",
    "results_df\n",
    "\n"
   ]
  },
  {
   "cell_type": "code",
   "execution_count": 108,
   "id": "3ea2ce44",
   "metadata": {
    "scrolled": true
   },
   "outputs": [
    {
     "data": {
      "text/plain": [
       "RandomForestRegressor(min_samples_split=10, n_estimators=50)"
      ]
     },
     "execution_count": 108,
     "metadata": {},
     "output_type": "execute_result"
    }
   ],
   "source": [
    "rfr = RandomForestRegressor(**best_params['rfr'])\n",
    "rfr.fit(X_train, y_train)"
   ]
  },
  {
   "cell_type": "markdown",
   "id": "18dc917f",
   "metadata": {},
   "source": [
    "#### Courbe d'apprentissage du modèle RandomForest"
   ]
  },
  {
   "cell_type": "code",
   "execution_count": 109,
   "id": "c25da628",
   "metadata": {},
   "outputs": [
    {
     "data": {
      "image/png": "[encoded data removed]",
      "text/plain": [
       "<Figure size 720x432 with 1 Axes>"
      ]
     },
     "metadata": {},
     "output_type": "display_data"
    }
   ],
   "source": [
    "N,train_score,val_score = learning_curve(rfr,X_train,y_train,train_sizes = np.linspace(0.1,1.0,10))\n",
    "plt.figure(figsize=(10, 6))\n",
    "plt.plot(N,train_score.mean(axis=1),label='train')\n",
    "plt.plot(N,val_score.mean(axis=1), label='validation')\n",
    "plt.xlabel('train_sizes')\n",
    "plt.title('Learning curve', size = 14)\n",
    "plt.legend()\n",
    "plt.show()"
   ]
  },
  {
   "cell_type": "markdown",
   "id": "1923d2c1",
   "metadata": {},
   "source": [
    "#### Courbe de validation du modèle RandomForest"
   ]
  },
  {
   "cell_type": "code",
   "execution_count": 110,
   "id": "3efeb2a2",
   "metadata": {},
   "outputs": [],
   "source": [
    "param_range = [50, 100, 150, 200, 250]  \n",
    "train_scores, test_scores = validation_curve(\n",
    "    rfr,  \n",
    "    X_train, y_train,\n",
    "    param_name=\"n_estimators\",  \n",
    "    param_range=param_range,\n",
    "    cv=5,  \n",
    "    scoring=\"r2\",  \n",
    "    n_jobs=-1  \n",
    ")\n"
   ]
  },
  {
   "cell_type": "code",
   "execution_count": 111,
   "id": "091faf5c",
   "metadata": {},
   "outputs": [],
   "source": [
    "train_scores_mean = np.mean(train_scores, axis=1)\n",
    "train_scores_std = np.std(train_scores, axis=1)\n",
    "test_scores_mean = np.mean(test_scores, axis=1)\n",
    "test_scores_std = np.std(test_scores, axis=1)\n"
   ]
  },
  {
   "cell_type": "code",
   "execution_count": 112,
   "id": "22163bf3",
   "metadata": {
    "scrolled": false
   },
   "outputs": [
    {
     "data": {
      "image/png": "[encoded data removed]",
      "text/plain": [
       "<Figure size 720x432 with 1 Axes>"
      ]
     },
     "metadata": {},
     "output_type": "display_data"
    }
   ],
   "source": [
    "plt.figure(figsize=(10, 6))\n",
    "plt.title(\"Validation Curve avec RandomForestRegressor\")\n",
    "plt.xlabel(\"Number of Estimators\")\n",
    "plt.ylabel(\"R-squared\")\n",
    "plt.ylim(0.0, 1.1)\n",
    "plt.grid()\n",
    "\n",
    "plt.fill_between(param_range, train_scores_mean - train_scores_std, train_scores_mean + train_scores_std, alpha=0.2, color=\"b\")\n",
    "plt.fill_between(param_range, test_scores_mean - test_scores_std, test_scores_mean + test_scores_std, alpha=0.2, color=\"r\")\n",
    "plt.plot(param_range, train_scores_mean, 'o-', color=\"b\", label=\"Training Score\")\n",
    "plt.plot(param_range, test_scores_mean, 'o-', color=\"r\", label=\"Cross-Validation Score\")\n",
    "\n",
    "plt.legend(loc=\"best\")\n",
    "plt.show()\n"
   ]
  },
  {
   "cell_type": "code",
   "execution_count": 113,
   "id": "e2f278ae",
   "metadata": {},
   "outputs": [
    {
     "data": {
      "image/png": "[encoded data removed]",
      "text/plain": [
       "<Figure size 720x432 with 1 Axes>"
      ]
     },
     "metadata": {},
     "output_type": "display_data"
    }
   ],
   "source": [
    "y_pred = rfr.predict(X_test)\n",
    "plt.figure(figsize=(10, 6))\n",
    "plt.scatter(y_test, y_pred, alpha=0.5, color='b', label='Scatterplot')\n",
    "plt.plot([min(y_test), max(y_test)], [min(y_test), max(y_test)], color='red', linestyle='--',\n",
    "         linewidth=2, label='Prédiction Parfaite')\n",
    "plt.xlabel('Valeurs Réelles')\n",
    "plt.ylabel('Prédictions')\n",
    "plt.legend(loc='upper left')\n",
    "\n",
    "plt.show()\n"
   ]
  },
  {
   "cell_type": "markdown",
   "id": "3fb84d1b",
   "metadata": {},
   "source": [
    "#### Features importance"
   ]
  },
  {
   "cell_type": "code",
   "execution_count": 114,
   "id": "01cba02c",
   "metadata": {},
   "outputs": [],
   "source": [
    "feature_importance_rf = rfr.feature_importances_"
   ]
  },
  {
   "cell_type": "code",
   "execution_count": 115,
   "id": "a8f689db",
   "metadata": {},
   "outputs": [
    {
     "data": {
      "image/png": "[encoded data removed]",
      "text/plain": [
       "<Figure size 864x432 with 1 Axes>"
      ]
     },
     "metadata": {},
     "output_type": "display_data"
    }
   ],
   "source": [
    "importance_df = pd.DataFrame({'Feature': X_train.columns, 'RandomForest': feature_importance_rf})\n",
    "\n",
    "importance_df.sort_values(by='RandomForest', ascending=False, inplace=True)\n",
    "\n",
    "bar_width = 0.35\n",
    "index = np.arange(len(importance_df))\n",
    "\n",
    "plt.figure(figsize=(12, 6))\n",
    "plt.bar(index, importance_df['RandomForest'], bar_width, label='RandomForest', alpha=0.7)\n",
    "plt.xticks(index + bar_width / 2, importance_df['Feature'], rotation=90)\n",
    "plt.xlabel('Feature')\n",
    "plt.ylabel('Importance')\n",
    "plt.legend()\n",
    "plt.title('Feature Importance Comparison')\n",
    "plt.tight_layout()\n",
    "plt.show()"
   ]
  },
  {
   "cell_type": "code",
   "execution_count": 116,
   "id": "5c99e3ee",
   "metadata": {
    "scrolled": true
   },
   "outputs": [
    {
     "data": {
      "text/plain": [
       "PropertyGFATotal          49.565958\n",
       "SourceEUI(kBtu/sf)        38.187775\n",
       "OSEBuildingID              2.032886\n",
       "NumberofFloors             1.786369\n",
       "YearBuilt                  1.463598\n",
       "ENERGYSTARScore            1.450977\n",
       "Latitude                   1.172024\n",
       "NumberofBuildings          0.959848\n",
       "LargestPropertyUseType     0.953792\n",
       "PrimaryPropertyType        0.906258\n",
       "Longitude                  0.906180\n",
       "Neighborhood               0.345897\n",
       "CouncilDistrictCode        0.137077\n",
       "BuildingType               0.103639\n",
       "SteamUse(kBtu)             0.027722\n",
       "DataYear                   0.000000\n",
       "dtype: float64"
      ]
     },
     "execution_count": 116,
     "metadata": {},
     "output_type": "execute_result"
    }
   ],
   "source": [
    "pd.Series(rfr.feature_importances_*100, index=X_train.columns).nlargest(20)"
   ]
  },
  {
   "cell_type": "code",
   "execution_count": 117,
   "id": "2e65fbbc",
   "metadata": {},
   "outputs": [
    {
     "data": {
      "image/png": "[encoded data removed]",
      "text/plain": [
       "<Figure size 576x432 with 1 Axes>"
      ]
     },
     "metadata": {},
     "output_type": "display_data"
    }
   ],
   "source": [
    "plt.figure(figsize=(8, 6))\n",
    "y_pred = rfr.predict(X_test)\n",
    "histo_erreur = np.abs(y_test - y_pred)\n",
    "plt.hist(histo_erreur, bins= 50)\n",
    "plt.show()"
   ]
  },
  {
   "cell_type": "markdown",
   "id": "287a12e4",
   "metadata": {},
   "source": [
    "## Prédiction de la consommation d'energie sans avoir Energyscore dans les données"
   ]
  },
  {
   "cell_type": "markdown",
   "id": "1b89e47e",
   "metadata": {},
   "source": [
    "### Modélisation de plusieurs modèles"
   ]
  },
  {
   "cell_type": "code",
   "execution_count": 118,
   "id": "02dc6749",
   "metadata": {},
   "outputs": [],
   "source": [
    "new_df = df2.copy()"
   ]
  },
  {
   "cell_type": "code",
   "execution_count": 119,
   "id": "ad1eb09e",
   "metadata": {},
   "outputs": [],
   "source": [
    "y = new_df['SiteEnergyUseWN(kBtu)']\n",
    "X = new_df.drop(['SiteEnergyUseWN(kBtu)','TotalGHGEmissions','ENERGYSTARScore',\"Electricity(kBtu)\",\"NaturalGas(kBtu)\"], axis=1)\n",
    "categorical_columns = X.select_dtypes(['category','object']).columns.tolist()\n",
    "numerical_columns = X.select_dtypes(['int64','float64']).columns.tolist()"
   ]
  },
  {
   "cell_type": "code",
   "execution_count": 120,
   "id": "c88f3ca3",
   "metadata": {},
   "outputs": [],
   "source": [
    "\n",
    "column_transformer = ColumnTransformer(\n",
    "    transformers=[\n",
    "        ('num', RobustScaler(), numerical_columns),\n",
    "        ('cat', OrdinalEncoder(), categorical_columns)\n",
    "    ],\n",
    "    remainder='passthrough')\n"
   ]
  },
  {
   "cell_type": "code",
   "execution_count": 121,
   "id": "4ccef192",
   "metadata": {
    "scrolled": true
   },
   "outputs": [],
   "source": [
    "pipeline = Pipeline([\n",
    "    ('column_transform', column_transformer)\n",
    "])\n",
    "\n",
    "X= pipeline.fit_transform(X)\n"
   ]
  },
  {
   "cell_type": "markdown",
   "id": "91e95c63",
   "metadata": {},
   "source": [
    "### Passage dans PowerTransform pour plus normalisé les données afin d'améliorer notre résultat"
   ]
  },
  {
   "cell_type": "code",
   "execution_count": 122,
   "id": "6cddcbbb",
   "metadata": {},
   "outputs": [],
   "source": [
    "pt = PowerTransformer()\n",
    "X= pt.fit_transform(X)\n"
   ]
  },
  {
   "cell_type": "code",
   "execution_count": 123,
   "id": "6529cfa0",
   "metadata": {},
   "outputs": [
    {
     "data": {
      "text/html": [
       "<div>\n",
       "<style scoped>\n",
       "    .dataframe tbody tr th:only-of-type {\n",
       "        vertical-align: middle;\n",
       "    }\n",
       "\n",
       "    .dataframe tbody tr th {\n",
       "        vertical-align: top;\n",
       "    }\n",
       "\n",
       "    .dataframe thead th {\n",
       "        text-align: right;\n",
       "    }\n",
       "</style>\n",
       "<table border=\"1\" class=\"dataframe\">\n",
       "  <thead>\n",
       "    <tr style=\"text-align: right;\">\n",
       "      <th></th>\n",
       "      <th>OSEBuildingID</th>\n",
       "      <th>DataYear</th>\n",
       "      <th>Latitude</th>\n",
       "      <th>Longitude</th>\n",
       "      <th>YearBuilt</th>\n",
       "      <th>NumberofBuildings</th>\n",
       "      <th>NumberofFloors</th>\n",
       "      <th>PropertyGFATotal</th>\n",
       "      <th>SourceEUI(kBtu/sf)</th>\n",
       "      <th>SteamUse(kBtu)</th>\n",
       "      <th>BuildingType</th>\n",
       "      <th>PrimaryPropertyType</th>\n",
       "      <th>CouncilDistrictCode</th>\n",
       "      <th>Neighborhood</th>\n",
       "      <th>LargestPropertyUseType</th>\n",
       "    </tr>\n",
       "  </thead>\n",
       "  <tbody>\n",
       "    <tr>\n",
       "      <th>0</th>\n",
       "      <td>-1.400009</td>\n",
       "      <td>0.0</td>\n",
       "      <td>0.034520</td>\n",
       "      <td>-0.028133</td>\n",
       "      <td>-1.034142</td>\n",
       "      <td>0.05244</td>\n",
       "      <td>2.086677</td>\n",
       "      <td>0.987444</td>\n",
       "      <td>0.429093</td>\n",
       "      <td>-0.186844</td>\n",
       "      <td>-0.231040</td>\n",
       "      <td>-1.169739</td>\n",
       "      <td>1.224761</td>\n",
       "      <td>-0.818371</td>\n",
       "      <td>-0.760356</td>\n",
       "    </tr>\n",
       "    <tr>\n",
       "      <th>1</th>\n",
       "      <td>-1.398639</td>\n",
       "      <td>0.0</td>\n",
       "      <td>-1.445564</td>\n",
       "      <td>2.720835</td>\n",
       "      <td>-0.033746</td>\n",
       "      <td>0.05244</td>\n",
       "      <td>-0.106355</td>\n",
       "      <td>0.465771</td>\n",
       "      <td>-0.832124</td>\n",
       "      <td>-0.186844</td>\n",
       "      <td>2.746108</td>\n",
       "      <td>-1.655990</td>\n",
       "      <td>-0.970059</td>\n",
       "      <td>1.777716</td>\n",
       "      <td>-1.674331</td>\n",
       "    </tr>\n",
       "    <tr>\n",
       "      <th>2</th>\n",
       "      <td>-1.398563</td>\n",
       "      <td>0.0</td>\n",
       "      <td>0.908314</td>\n",
       "      <td>0.595443</td>\n",
       "      <td>1.336749</td>\n",
       "      <td>0.05244</td>\n",
       "      <td>1.434264</td>\n",
       "      <td>1.061813</td>\n",
       "      <td>0.443196</td>\n",
       "      <td>-0.186844</td>\n",
       "      <td>-0.231040</td>\n",
       "      <td>-1.169739</td>\n",
       "      <td>0.091775</td>\n",
       "      <td>1.195875</td>\n",
       "      <td>-0.760356</td>\n",
       "    </tr>\n",
       "    <tr>\n",
       "      <th>3</th>\n",
       "      <td>-1.398411</td>\n",
       "      <td>0.0</td>\n",
       "      <td>0.056632</td>\n",
       "      <td>0.052646</td>\n",
       "      <td>-0.926985</td>\n",
       "      <td>0.05244</td>\n",
       "      <td>-0.106355</td>\n",
       "      <td>0.722249</td>\n",
       "      <td>-0.822164</td>\n",
       "      <td>-0.186844</td>\n",
       "      <td>-0.231040</td>\n",
       "      <td>0.015339</td>\n",
       "      <td>1.224761</td>\n",
       "      <td>-0.818371</td>\n",
       "      <td>1.793325</td>\n",
       "    </tr>\n",
       "    <tr>\n",
       "      <th>4</th>\n",
       "      <td>-1.398182</td>\n",
       "      <td>0.0</td>\n",
       "      <td>0.208887</td>\n",
       "      <td>1.104696</td>\n",
       "      <td>-0.216883</td>\n",
       "      <td>0.05244</td>\n",
       "      <td>-1.214694</td>\n",
       "      <td>1.412947</td>\n",
       "      <td>-2.274072</td>\n",
       "      <td>-0.186844</td>\n",
       "      <td>2.746108</td>\n",
       "      <td>-1.655990</td>\n",
       "      <td>-0.389172</td>\n",
       "      <td>-1.673004</td>\n",
       "      <td>-1.674331</td>\n",
       "    </tr>\n",
       "    <tr>\n",
       "      <th>...</th>\n",
       "      <td>...</td>\n",
       "      <td>...</td>\n",
       "      <td>...</td>\n",
       "      <td>...</td>\n",
       "      <td>...</td>\n",
       "      <td>...</td>\n",
       "      <td>...</td>\n",
       "      <td>...</td>\n",
       "      <td>...</td>\n",
       "      <td>...</td>\n",
       "      <td>...</td>\n",
       "      <td>...</td>\n",
       "      <td>...</td>\n",
       "      <td>...</td>\n",
       "      <td>...</td>\n",
       "    </tr>\n",
       "    <tr>\n",
       "      <th>1329</th>\n",
       "      <td>2.557330</td>\n",
       "      <td>0.0</td>\n",
       "      <td>-1.563315</td>\n",
       "      <td>-1.604818</td>\n",
       "      <td>0.655475</td>\n",
       "      <td>0.05244</td>\n",
       "      <td>-1.214694</td>\n",
       "      <td>-1.642583</td>\n",
       "      <td>0.203285</td>\n",
       "      <td>-0.186844</td>\n",
       "      <td>1.781773</td>\n",
       "      <td>0.015339</td>\n",
       "      <td>-1.748768</td>\n",
       "      <td>-1.224536</td>\n",
       "      <td>-0.337346</td>\n",
       "    </tr>\n",
       "    <tr>\n",
       "      <th>1330</th>\n",
       "      <td>2.557411</td>\n",
       "      <td>0.0</td>\n",
       "      <td>-0.958907</td>\n",
       "      <td>0.847306</td>\n",
       "      <td>0.936199</td>\n",
       "      <td>0.05244</td>\n",
       "      <td>-1.214694</td>\n",
       "      <td>-2.254310</td>\n",
       "      <td>0.574208</td>\n",
       "      <td>-0.186844</td>\n",
       "      <td>1.781773</td>\n",
       "      <td>-0.156717</td>\n",
       "      <td>-0.970059</td>\n",
       "      <td>-0.085144</td>\n",
       "      <td>0.271123</td>\n",
       "    </tr>\n",
       "    <tr>\n",
       "      <th>1331</th>\n",
       "      <td>2.557493</td>\n",
       "      <td>0.0</td>\n",
       "      <td>-0.329146</td>\n",
       "      <td>0.376963</td>\n",
       "      <td>1.448756</td>\n",
       "      <td>0.05244</td>\n",
       "      <td>-1.214694</td>\n",
       "      <td>-1.863664</td>\n",
       "      <td>0.055388</td>\n",
       "      <td>-0.186844</td>\n",
       "      <td>1.781773</td>\n",
       "      <td>0.015339</td>\n",
       "      <td>-0.970059</td>\n",
       "      <td>-0.818371</td>\n",
       "      <td>-0.337346</td>\n",
       "    </tr>\n",
       "    <tr>\n",
       "      <th>1332</th>\n",
       "      <td>2.557655</td>\n",
       "      <td>0.0</td>\n",
       "      <td>-1.852451</td>\n",
       "      <td>0.316243</td>\n",
       "      <td>0.900606</td>\n",
       "      <td>0.05244</td>\n",
       "      <td>-1.214694</td>\n",
       "      <td>-2.059384</td>\n",
       "      <td>-0.067266</td>\n",
       "      <td>-0.186844</td>\n",
       "      <td>1.781773</td>\n",
       "      <td>-0.328008</td>\n",
       "      <td>-1.748768</td>\n",
       "      <td>-0.085144</td>\n",
       "      <td>-0.337346</td>\n",
       "    </tr>\n",
       "    <tr>\n",
       "      <th>1333</th>\n",
       "      <td>2.557737</td>\n",
       "      <td>0.0</td>\n",
       "      <td>-1.593059</td>\n",
       "      <td>1.539229</td>\n",
       "      <td>-0.707817</td>\n",
       "      <td>0.05244</td>\n",
       "      <td>-1.214694</td>\n",
       "      <td>-1.642868</td>\n",
       "      <td>0.076382</td>\n",
       "      <td>-0.186844</td>\n",
       "      <td>1.781773</td>\n",
       "      <td>-0.328008</td>\n",
       "      <td>-0.970059</td>\n",
       "      <td>-0.085144</td>\n",
       "      <td>-0.337346</td>\n",
       "    </tr>\n",
       "  </tbody>\n",
       "</table>\n",
       "<p>1334 rows × 15 columns</p>\n",
       "</div>"
      ],
      "text/plain": [
       "      OSEBuildingID  DataYear  Latitude  Longitude  YearBuilt  \\\n",
       "0         -1.400009       0.0  0.034520  -0.028133  -1.034142   \n",
       "1         -1.398639       0.0 -1.445564   2.720835  -0.033746   \n",
       "2         -1.398563       0.0  0.908314   0.595443   1.336749   \n",
       "3         -1.398411       0.0  0.056632   0.052646  -0.926985   \n",
       "4         -1.398182       0.0  0.208887   1.104696  -0.216883   \n",
       "...             ...       ...       ...        ...        ...   \n",
       "1329       2.557330       0.0 -1.563315  -1.604818   0.655475   \n",
       "1330       2.557411       0.0 -0.958907   0.847306   0.936199   \n",
       "1331       2.557493       0.0 -0.329146   0.376963   1.448756   \n",
       "1332       2.557655       0.0 -1.852451   0.316243   0.900606   \n",
       "1333       2.557737       0.0 -1.593059   1.539229  -0.707817   \n",
       "\n",
       "      NumberofBuildings  NumberofFloors  PropertyGFATotal  SourceEUI(kBtu/sf)  \\\n",
       "0               0.05244        2.086677          0.987444            0.429093   \n",
       "1               0.05244       -0.106355          0.465771           -0.832124   \n",
       "2               0.05244        1.434264          1.061813            0.443196   \n",
       "3               0.05244       -0.106355          0.722249           -0.822164   \n",
       "4               0.05244       -1.214694          1.412947           -2.274072   \n",
       "...                 ...             ...               ...                 ...   \n",
       "1329            0.05244       -1.214694         -1.642583            0.203285   \n",
       "1330            0.05244       -1.214694         -2.254310            0.574208   \n",
       "1331            0.05244       -1.214694         -1.863664            0.055388   \n",
       "1332            0.05244       -1.214694         -2.059384           -0.067266   \n",
       "1333            0.05244       -1.214694         -1.642868            0.076382   \n",
       "\n",
       "      SteamUse(kBtu)  BuildingType  PrimaryPropertyType  CouncilDistrictCode  \\\n",
       "0          -0.186844     -0.231040            -1.169739             1.224761   \n",
       "1          -0.186844      2.746108            -1.655990            -0.970059   \n",
       "2          -0.186844     -0.231040            -1.169739             0.091775   \n",
       "3          -0.186844     -0.231040             0.015339             1.224761   \n",
       "4          -0.186844      2.746108            -1.655990            -0.389172   \n",
       "...              ...           ...                  ...                  ...   \n",
       "1329       -0.186844      1.781773             0.015339            -1.748768   \n",
       "1330       -0.186844      1.781773            -0.156717            -0.970059   \n",
       "1331       -0.186844      1.781773             0.015339            -0.970059   \n",
       "1332       -0.186844      1.781773            -0.328008            -1.748768   \n",
       "1333       -0.186844      1.781773            -0.328008            -0.970059   \n",
       "\n",
       "      Neighborhood  LargestPropertyUseType  \n",
       "0        -0.818371               -0.760356  \n",
       "1         1.777716               -1.674331  \n",
       "2         1.195875               -0.760356  \n",
       "3        -0.818371                1.793325  \n",
       "4        -1.673004               -1.674331  \n",
       "...            ...                     ...  \n",
       "1329     -1.224536               -0.337346  \n",
       "1330     -0.085144                0.271123  \n",
       "1331     -0.818371               -0.337346  \n",
       "1332     -0.085144               -0.337346  \n",
       "1333     -0.085144               -0.337346  \n",
       "\n",
       "[1334 rows x 15 columns]"
      ]
     },
     "execution_count": 123,
     "metadata": {},
     "output_type": "execute_result"
    }
   ],
   "source": [
    "\n",
    "X = pd.DataFrame(X, columns=numerical_columns + categorical_columns)\n",
    "X"
   ]
  },
  {
   "cell_type": "code",
   "execution_count": 124,
   "id": "e899c1bf",
   "metadata": {
    "scrolled": false
   },
   "outputs": [],
   "source": [
    "X_train, X_test, y_train, y_test = train_test_split(X, y,test_size = 0.25,random_state = 42)"
   ]
  },
  {
   "cell_type": "markdown",
   "id": "dc6de698",
   "metadata": {},
   "source": [
    "### Recherche des hyper parametres"
   ]
  },
  {
   "cell_type": "code",
   "execution_count": 125,
   "id": "a60279b5",
   "metadata": {},
   "outputs": [
    {
     "data": {
      "text/plain": [
       "{'LinearRegression': {'normalize': True},\n",
       " 'gboost': {'learning_rate': 0.2, 'n_estimators': 50},\n",
       " 'rfr': {'max_depth': 10, 'min_samples_split': 2, 'n_estimators': 100},\n",
       " 'KNeighborsRegressor': {'n_neighbors': 7},\n",
       " 'SVR': {'C': 10, 'epsilon': 0.01, 'kernel': 'linear'},\n",
       " 'ElasticNet': {'alpha': 0.1, 'l1_ratio': 0.9, 'normalize': False}}"
      ]
     },
     "execution_count": 125,
     "metadata": {},
     "output_type": "execute_result"
    }
   ],
   "source": [
    "models = [\n",
    "    ('LinearRegression', LinearRegression(), {'normalize': [True, False]}),\n",
    "    ('gboost', GradientBoostingRegressor(), {\n",
    "        'n_estimators': [50, 100, 200],\n",
    "        'learning_rate': [0.01, 0.1, 0.2]\n",
    "    }),\n",
    "    ('rfr', RandomForestRegressor(), {\n",
    "        'n_estimators': [50, 100, 200],\n",
    "        'max_depth': [None, 10, 20],\n",
    "        'min_samples_split': [2, 5, 10]\n",
    "    }),\n",
    "    ('KNeighborsRegressor', KNeighborsRegressor(), {'n_neighbors': [3, 5, 7]}),\n",
    "    ('SVR', SVR(), {\n",
    "        'kernel': ['linear', 'poly', 'rbf'],\n",
    "        'C': [0.1, 1, 10],\n",
    "        'epsilon': [0.01, 0.1, 0.2]\n",
    "    }),\n",
    "    ('ElasticNet', ElasticNet(), {\n",
    "        'alpha': [0.01, 0.1, 1.0],\n",
    "        'l1_ratio': [0.1, 0.5, 0.9],\n",
    "        'normalize': [True, False]\n",
    "    })\n",
    "]\n",
    "\n",
    "best_params = {}\n",
    "\n",
    "for model_name, model, param_grid in models:\n",
    "    grid_search = GridSearchCV(model, param_grid, cv=5, n_jobs=-1)\n",
    "    grid_search.fit(X_train, y_train)\n",
    "    best_params[model_name] = grid_search.best_params_\n",
    "best_params"
   ]
  },
  {
   "cell_type": "code",
   "execution_count": 126,
   "id": "71b61141",
   "metadata": {},
   "outputs": [],
   "source": [
    "models = [\n",
    "    ('Dummy Regressor', DummyRegressor(), {'strategy' : ['mean']}),  \n",
    "    ('Linear Regression', LinearRegression(), {'fit_intercept': [True, False], 'normalize': [True, False], 'copy_X': [True]}),\n",
    "    ('Elastic Net', ElasticNet(), {'alpha': [1,0.1,0.01,0.001], 'max_iter': [1000], 'random_state': [42], 'tol': [0.001]}),\n",
    "    ('K-Neighbors Regressor', KNeighborsRegressor(), {'n_neighbors': list(range(1,30))}),\n",
    "    ('SVR', SVR(), {'gamma' : ['scale'],'epsilon' : [0.001, 0.01, 0.1, 1],'C' : [0.001, 0.01, 0.1, 1, 10], 'tol':[0.001]}),\n",
    "    ('Random Forest Regressor', RandomForestRegressor(), {'n_estimators': [100, 500, 1000], 'max_features': ['auto'], 'n_jobs': [-1], \n",
    "              'random_state': [42], 'max_depth': [None]}),\n",
    "    ('Gradient Boosting Regressor', GradientBoostingRegressor(), \n",
    "     {'n_estimators':[100, 500, 1000], 'random_state': [42], 'max_depth': [None]})\n",
    "]\n"
   ]
  },
  {
   "cell_type": "code",
   "execution_count": 127,
   "id": "4f731f95",
   "metadata": {
    "scrolled": false
   },
   "outputs": [
    {
     "data": {
      "text/html": [
       "<div>\n",
       "<style scoped>\n",
       "    .dataframe tbody tr th:only-of-type {\n",
       "        vertical-align: middle;\n",
       "    }\n",
       "\n",
       "    .dataframe tbody tr th {\n",
       "        vertical-align: top;\n",
       "    }\n",
       "\n",
       "    .dataframe thead th {\n",
       "        text-align: right;\n",
       "    }\n",
       "</style>\n",
       "<table border=\"1\" class=\"dataframe\">\n",
       "  <thead>\n",
       "    <tr style=\"text-align: right;\">\n",
       "      <th></th>\n",
       "      <th>Model</th>\n",
       "      <th>CV Type</th>\n",
       "      <th>Train R2</th>\n",
       "      <th>Test R2</th>\n",
       "      <th>RMSE</th>\n",
       "      <th>Median absolute error</th>\n",
       "      <th>Elapsed Time</th>\n",
       "    </tr>\n",
       "  </thead>\n",
       "  <tbody>\n",
       "    <tr>\n",
       "      <th>0</th>\n",
       "      <td>Dummy Regressor</td>\n",
       "      <td>No CV</td>\n",
       "      <td>0.000000</td>\n",
       "      <td>-0.014283</td>\n",
       "      <td>3.129338e+06</td>\n",
       "      <td>1635811.25</td>\n",
       "      <td>0.003002</td>\n",
       "    </tr>\n",
       "    <tr>\n",
       "      <th>1</th>\n",
       "      <td>Dummy Regressor</td>\n",
       "      <td>GridSearchCV</td>\n",
       "      <td>0.000000</td>\n",
       "      <td>-0.014283</td>\n",
       "      <td>3.129338e+06</td>\n",
       "      <td>1635811.25</td>\n",
       "      <td>0.014034</td>\n",
       "    </tr>\n",
       "    <tr>\n",
       "      <th>2</th>\n",
       "      <td>Dummy Regressor</td>\n",
       "      <td>RandomizedSearchCV</td>\n",
       "      <td>0.000000</td>\n",
       "      <td>-0.014283</td>\n",
       "      <td>3.129338e+06</td>\n",
       "      <td>1635811.25</td>\n",
       "      <td>0.011912</td>\n",
       "    </tr>\n",
       "    <tr>\n",
       "      <th>3</th>\n",
       "      <td>Linear Regression</td>\n",
       "      <td>No CV</td>\n",
       "      <td>0.655330</td>\n",
       "      <td>0.691256</td>\n",
       "      <td>1.726523e+06</td>\n",
       "      <td>794541.76</td>\n",
       "      <td>0.004037</td>\n",
       "    </tr>\n",
       "    <tr>\n",
       "      <th>4</th>\n",
       "      <td>Linear Regression</td>\n",
       "      <td>GridSearchCV</td>\n",
       "      <td>0.655330</td>\n",
       "      <td>0.691256</td>\n",
       "      <td>1.726523e+06</td>\n",
       "      <td>794541.76</td>\n",
       "      <td>0.041015</td>\n",
       "    </tr>\n",
       "    <tr>\n",
       "      <th>5</th>\n",
       "      <td>Linear Regression</td>\n",
       "      <td>RandomizedSearchCV</td>\n",
       "      <td>0.655330</td>\n",
       "      <td>0.691256</td>\n",
       "      <td>1.726523e+06</td>\n",
       "      <td>794541.76</td>\n",
       "      <td>0.043266</td>\n",
       "    </tr>\n",
       "    <tr>\n",
       "      <th>6</th>\n",
       "      <td>Elastic Net</td>\n",
       "      <td>No CV</td>\n",
       "      <td>0.588917</td>\n",
       "      <td>0.594095</td>\n",
       "      <td>1.979635e+06</td>\n",
       "      <td>702093.70</td>\n",
       "      <td>0.005013</td>\n",
       "    </tr>\n",
       "    <tr>\n",
       "      <th>7</th>\n",
       "      <td>Elastic Net</td>\n",
       "      <td>GridSearchCV</td>\n",
       "      <td>0.655306</td>\n",
       "      <td>0.690484</td>\n",
       "      <td>1.728680e+06</td>\n",
       "      <td>795860.36</td>\n",
       "      <td>0.046558</td>\n",
       "    </tr>\n",
       "    <tr>\n",
       "      <th>8</th>\n",
       "      <td>Elastic Net</td>\n",
       "      <td>RandomizedSearchCV</td>\n",
       "      <td>0.655306</td>\n",
       "      <td>0.690484</td>\n",
       "      <td>1.728680e+06</td>\n",
       "      <td>795860.36</td>\n",
       "      <td>0.045013</td>\n",
       "    </tr>\n",
       "    <tr>\n",
       "      <th>9</th>\n",
       "      <td>K-Neighbors Regressor</td>\n",
       "      <td>No CV</td>\n",
       "      <td>0.721648</td>\n",
       "      <td>0.615490</td>\n",
       "      <td>1.926755e+06</td>\n",
       "      <td>640059.29</td>\n",
       "      <td>0.028566</td>\n",
       "    </tr>\n",
       "    <tr>\n",
       "      <th>10</th>\n",
       "      <td>K-Neighbors Regressor</td>\n",
       "      <td>GridSearchCV</td>\n",
       "      <td>0.698489</td>\n",
       "      <td>0.628550</td>\n",
       "      <td>1.893753e+06</td>\n",
       "      <td>634461.69</td>\n",
       "      <td>0.248256</td>\n",
       "    </tr>\n",
       "    <tr>\n",
       "      <th>11</th>\n",
       "      <td>K-Neighbors Regressor</td>\n",
       "      <td>RandomizedSearchCV</td>\n",
       "      <td>0.721648</td>\n",
       "      <td>0.615490</td>\n",
       "      <td>1.926755e+06</td>\n",
       "      <td>640059.29</td>\n",
       "      <td>0.078151</td>\n",
       "    </tr>\n",
       "    <tr>\n",
       "      <th>12</th>\n",
       "      <td>SVR</td>\n",
       "      <td>No CV</td>\n",
       "      <td>-0.107144</td>\n",
       "      <td>-0.154179</td>\n",
       "      <td>3.338178e+06</td>\n",
       "      <td>1171539.76</td>\n",
       "      <td>0.146861</td>\n",
       "    </tr>\n",
       "    <tr>\n",
       "      <th>13</th>\n",
       "      <td>SVR</td>\n",
       "      <td>GridSearchCV</td>\n",
       "      <td>-0.106990</td>\n",
       "      <td>-0.154036</td>\n",
       "      <td>3.337971e+06</td>\n",
       "      <td>1171335.65</td>\n",
       "      <td>0.668449</td>\n",
       "    </tr>\n",
       "    <tr>\n",
       "      <th>14</th>\n",
       "      <td>SVR</td>\n",
       "      <td>RandomizedSearchCV</td>\n",
       "      <td>-0.106990</td>\n",
       "      <td>-0.154036</td>\n",
       "      <td>3.337971e+06</td>\n",
       "      <td>1171335.65</td>\n",
       "      <td>0.301458</td>\n",
       "    </tr>\n",
       "    <tr>\n",
       "      <th>15</th>\n",
       "      <td>Random Forest Regressor</td>\n",
       "      <td>No CV</td>\n",
       "      <td>0.963600</td>\n",
       "      <td>0.846349</td>\n",
       "      <td>1.217980e+06</td>\n",
       "      <td>413912.11</td>\n",
       "      <td>0.405764</td>\n",
       "    </tr>\n",
       "    <tr>\n",
       "      <th>16</th>\n",
       "      <td>Random Forest Regressor</td>\n",
       "      <td>GridSearchCV</td>\n",
       "      <td>0.966849</td>\n",
       "      <td>0.848132</td>\n",
       "      <td>1.210892e+06</td>\n",
       "      <td>419827.76</td>\n",
       "      <td>5.045718</td>\n",
       "    </tr>\n",
       "    <tr>\n",
       "      <th>17</th>\n",
       "      <td>Random Forest Regressor</td>\n",
       "      <td>RandomizedSearchCV</td>\n",
       "      <td>0.966849</td>\n",
       "      <td>0.848132</td>\n",
       "      <td>1.210892e+06</td>\n",
       "      <td>419827.76</td>\n",
       "      <td>5.140794</td>\n",
       "    </tr>\n",
       "    <tr>\n",
       "      <th>18</th>\n",
       "      <td>Gradient Boosting Regressor</td>\n",
       "      <td>No CV</td>\n",
       "      <td>0.937986</td>\n",
       "      <td>0.834657</td>\n",
       "      <td>1.263471e+06</td>\n",
       "      <td>429154.35</td>\n",
       "      <td>0.156429</td>\n",
       "    </tr>\n",
       "    <tr>\n",
       "      <th>19</th>\n",
       "      <td>Gradient Boosting Regressor</td>\n",
       "      <td>GridSearchCV</td>\n",
       "      <td>1.000000</td>\n",
       "      <td>0.723348</td>\n",
       "      <td>1.634329e+06</td>\n",
       "      <td>593204.85</td>\n",
       "      <td>2.562217</td>\n",
       "    </tr>\n",
       "    <tr>\n",
       "      <th>20</th>\n",
       "      <td>Gradient Boosting Regressor</td>\n",
       "      <td>RandomizedSearchCV</td>\n",
       "      <td>1.000000</td>\n",
       "      <td>0.723348</td>\n",
       "      <td>1.634329e+06</td>\n",
       "      <td>593204.85</td>\n",
       "      <td>2.651870</td>\n",
       "    </tr>\n",
       "  </tbody>\n",
       "</table>\n",
       "</div>"
      ],
      "text/plain": [
       "                          Model             CV Type  Train R2   Test R2  \\\n",
       "0               Dummy Regressor               No CV  0.000000 -0.014283   \n",
       "1               Dummy Regressor        GridSearchCV  0.000000 -0.014283   \n",
       "2               Dummy Regressor  RandomizedSearchCV  0.000000 -0.014283   \n",
       "3             Linear Regression               No CV  0.655330  0.691256   \n",
       "4             Linear Regression        GridSearchCV  0.655330  0.691256   \n",
       "5             Linear Regression  RandomizedSearchCV  0.655330  0.691256   \n",
       "6                   Elastic Net               No CV  0.588917  0.594095   \n",
       "7                   Elastic Net        GridSearchCV  0.655306  0.690484   \n",
       "8                   Elastic Net  RandomizedSearchCV  0.655306  0.690484   \n",
       "9         K-Neighbors Regressor               No CV  0.721648  0.615490   \n",
       "10        K-Neighbors Regressor        GridSearchCV  0.698489  0.628550   \n",
       "11        K-Neighbors Regressor  RandomizedSearchCV  0.721648  0.615490   \n",
       "12                          SVR               No CV -0.107144 -0.154179   \n",
       "13                          SVR        GridSearchCV -0.106990 -0.154036   \n",
       "14                          SVR  RandomizedSearchCV -0.106990 -0.154036   \n",
       "15      Random Forest Regressor               No CV  0.963600  0.846349   \n",
       "16      Random Forest Regressor        GridSearchCV  0.966849  0.848132   \n",
       "17      Random Forest Regressor  RandomizedSearchCV  0.966849  0.848132   \n",
       "18  Gradient Boosting Regressor               No CV  0.937986  0.834657   \n",
       "19  Gradient Boosting Regressor        GridSearchCV  1.000000  0.723348   \n",
       "20  Gradient Boosting Regressor  RandomizedSearchCV  1.000000  0.723348   \n",
       "\n",
       "            RMSE  Median absolute error  Elapsed Time  \n",
       "0   3.129338e+06             1635811.25      0.003002  \n",
       "1   3.129338e+06             1635811.25      0.014034  \n",
       "2   3.129338e+06             1635811.25      0.011912  \n",
       "3   1.726523e+06              794541.76      0.004037  \n",
       "4   1.726523e+06              794541.76      0.041015  \n",
       "5   1.726523e+06              794541.76      0.043266  \n",
       "6   1.979635e+06              702093.70      0.005013  \n",
       "7   1.728680e+06              795860.36      0.046558  \n",
       "8   1.728680e+06              795860.36      0.045013  \n",
       "9   1.926755e+06              640059.29      0.028566  \n",
       "10  1.893753e+06              634461.69      0.248256  \n",
       "11  1.926755e+06              640059.29      0.078151  \n",
       "12  3.338178e+06             1171539.76      0.146861  \n",
       "13  3.337971e+06             1171335.65      0.668449  \n",
       "14  3.337971e+06             1171335.65      0.301458  \n",
       "15  1.217980e+06              413912.11      0.405764  \n",
       "16  1.210892e+06              419827.76      5.045718  \n",
       "17  1.210892e+06              419827.76      5.140794  \n",
       "18  1.263471e+06              429154.35      0.156429  \n",
       "19  1.634329e+06              593204.85      2.562217  \n",
       "20  1.634329e+06              593204.85      2.651870  "
      ]
     },
     "execution_count": 127,
     "metadata": {},
     "output_type": "execute_result"
    }
   ],
   "source": [
    "results = []\n",
    "\n",
    "for model_name, model, param_grid in models:\n",
    "   \n",
    "    start_time = time.time()\n",
    "    model.fit(X_train, y_train)\n",
    "    y_pred = model.predict(X_test)\n",
    "    train_r2 = r2_score(y_train, model.predict(X_train))\n",
    "    test_r2 = r2_score(y_test, y_pred)\n",
    "    rmse = np.sqrt(mean_squared_error(y_test, y_pred))\n",
    "    med_abs_error= round(median_absolute_error(y_test, y_pred),2)\n",
    "    elapsed_time = time.time() - start_time\n",
    "    results.append([model_name, 'No CV', train_r2, test_r2, rmse, med_abs_error, elapsed_time])\n",
    "\n",
    "   \n",
    "    grid_search = GridSearchCV(model, param_grid, cv=5, n_jobs=-1)\n",
    "    start_time = time.time()\n",
    "    grid_search.fit(X_train, y_train)\n",
    "    best_model = grid_search.best_estimator_\n",
    "    y_pred = best_model.predict(X_test)\n",
    "    train_r2 = r2_score(y_train, best_model.predict(X_train))\n",
    "    test_r2 = r2_score(y_test, y_pred)\n",
    "    rmse = np.sqrt(mean_squared_error(y_test, y_pred))\n",
    "    med_abs_error= round(median_absolute_error(y_test, y_pred),2)\n",
    "    elapsed_time = time.time() - start_time\n",
    "    results.append([model_name, 'GridSearchCV', train_r2, test_r2, rmse,med_abs_error, elapsed_time])\n",
    "\n",
    "  \n",
    "    randomized_search = RandomizedSearchCV(model, param_grid, n_iter=5, cv=5, n_jobs=-1)\n",
    "    start_time = time.time()\n",
    "    randomized_search.fit(X_train, y_train)\n",
    "    best_model = randomized_search.best_estimator_\n",
    "    y_pred = best_model.predict(X_test)\n",
    "    train_r2 = r2_score(y_train, best_model.predict(X_train))\n",
    "    test_r2 = r2_score(y_test, y_pred)\n",
    "    rmse = np.sqrt(mean_squared_error(y_test, y_pred))\n",
    "    med_abs_error= round(median_absolute_error(y_test, y_pred),2)\n",
    "    elapsed_time = time.time() - start_time\n",
    "    results.append([model_name, 'RandomizedSearchCV', train_r2, test_r2, rmse,med_abs_error, elapsed_time])\n",
    "\n",
    "results_df = pd.DataFrame(results, columns=['Model', 'CV Type', 'Train R2', 'Test R2', 'RMSE','Median absolute error',\n",
    "                                            'Elapsed Time'])\n",
    "\n",
    "results_df\n"
   ]
  },
  {
   "cell_type": "code",
   "execution_count": 128,
   "id": "b234a3d3",
   "metadata": {},
   "outputs": [
    {
     "data": {
      "text/plain": [
       "RandomForestRegressor(max_depth=10)"
      ]
     },
     "execution_count": 128,
     "metadata": {},
     "output_type": "execute_result"
    }
   ],
   "source": [
    "rfr = RandomForestRegressor(**best_params['rfr'])\n",
    "rfr.fit(X_train, y_train)"
   ]
  },
  {
   "cell_type": "code",
   "execution_count": 129,
   "id": "b958cfab",
   "metadata": {},
   "outputs": [
    {
     "name": "stdout",
     "output_type": "stream",
     "text": [
      "Score train :  0.957\n",
      "Score test  :  0.842\n"
     ]
    }
   ],
   "source": [
    "print('Score train : ',round(rfr.score(X_train, y_train),3))\n",
    "print('Score test  : ',round(rfr.score(X_test, y_test),3))"
   ]
  },
  {
   "cell_type": "code",
   "execution_count": 130,
   "id": "0a0d4a48",
   "metadata": {},
   "outputs": [
    {
     "data": {
      "text/plain": [
       "GradientBoostingRegressor(learning_rate=0.2, n_estimators=50)"
      ]
     },
     "execution_count": 130,
     "metadata": {},
     "output_type": "execute_result"
    }
   ],
   "source": [
    "gboost = GradientBoostingRegressor(**best_params['gboost'])\n",
    "gboost.fit(X_train, y_train)"
   ]
  },
  {
   "cell_type": "code",
   "execution_count": 131,
   "id": "c9197444",
   "metadata": {},
   "outputs": [
    {
     "name": "stdout",
     "output_type": "stream",
     "text": [
      "Score train :  0.935\n",
      "Score test  :  0.822\n"
     ]
    }
   ],
   "source": [
    "print('Score train : ',round(gboost.score(X_train, y_train),3))\n",
    "print('Score test  : ',round(gboost.score(X_test, y_test),3))"
   ]
  },
  {
   "cell_type": "markdown",
   "id": "07d16532",
   "metadata": {},
   "source": [
    "#### Courbe d'apprentissage du modèle RandomForest"
   ]
  },
  {
   "cell_type": "code",
   "execution_count": 132,
   "id": "c8449118",
   "metadata": {},
   "outputs": [
    {
     "data": {
      "image/png": "[encoded data removed]",
      "text/plain": [
       "<Figure size 720x432 with 1 Axes>"
      ]
     },
     "metadata": {},
     "output_type": "display_data"
    }
   ],
   "source": [
    "N,train_score,val_score = learning_curve(rfr,X_train,y_train,train_sizes = np.linspace(0.1,1.0,10))\n",
    "plt.figure(figsize=(10, 6))\n",
    "plt.plot(N,train_score.mean(axis=1),label='train')\n",
    "plt.plot(N,val_score.mean(axis=1), label='validation')\n",
    "plt.xlabel('train_sizes')\n",
    "plt.title(\"Courbe d'apprentissage\", size = 14)\n",
    "plt.legend()\n",
    "plt.show()"
   ]
  },
  {
   "cell_type": "markdown",
   "id": "dd78d0fe",
   "metadata": {},
   "source": [
    "#### Courbe de validation du modèle RandomForest"
   ]
  },
  {
   "cell_type": "code",
   "execution_count": 133,
   "id": "d8756e99",
   "metadata": {},
   "outputs": [],
   "source": [
    "param_range = [50, 100, 150, 200, 250]  \n",
    "train_scores, test_scores = validation_curve(\n",
    "    rfr,  \n",
    "    X_train, y_train,\n",
    "    param_name=\"n_estimators\",  \n",
    "    param_range=param_range,\n",
    "    cv=5,  \n",
    "    scoring=\"r2\",  \n",
    "    n_jobs=-1  \n",
    ")\n"
   ]
  },
  {
   "cell_type": "code",
   "execution_count": 134,
   "id": "906b29ef",
   "metadata": {},
   "outputs": [],
   "source": [
    "train_scores_mean = np.mean(train_scores, axis=1)\n",
    "train_scores_std = np.std(train_scores, axis=1)\n",
    "test_scores_mean = np.mean(test_scores, axis=1)\n",
    "test_scores_std = np.std(test_scores, axis=1)\n"
   ]
  },
  {
   "cell_type": "code",
   "execution_count": 135,
   "id": "8a067e87",
   "metadata": {
    "scrolled": false
   },
   "outputs": [
    {
     "data": {
      "image/png": "[encoded data removed]",
      "text/plain": [
       "<Figure size 720x432 with 1 Axes>"
      ]
     },
     "metadata": {},
     "output_type": "display_data"
    }
   ],
   "source": [
    "plt.figure(figsize=(10, 6))\n",
    "plt.title(\"Courbe de validation avec RandomForestRegressor\")\n",
    "plt.xlabel(\"Number of Estimators\")\n",
    "plt.ylabel(\"R-squared\")\n",
    "plt.ylim(0.0, 1.1)\n",
    "plt.grid()\n",
    "\n",
    "plt.fill_between(param_range, train_scores_mean - train_scores_std, train_scores_mean + train_scores_std, alpha=0.2, color=\"b\")\n",
    "plt.fill_between(param_range, test_scores_mean - test_scores_std, test_scores_mean + test_scores_std, alpha=0.2, color=\"r\")\n",
    "plt.plot(param_range, train_scores_mean, 'o-', color=\"b\", label=\"Training Score\")\n",
    "plt.plot(param_range, test_scores_mean, 'o-', color=\"r\", label=\"Cross-Validation Score\")\n",
    "\n",
    "plt.legend(loc=\"best\")\n",
    "plt.show()\n"
   ]
  },
  {
   "cell_type": "code",
   "execution_count": 136,
   "id": "691fdc8f",
   "metadata": {
    "scrolled": false
   },
   "outputs": [
    {
     "data": {
      "image/png": "[encoded data removed]",
      "text/plain": [
       "<Figure size 720x432 with 1 Axes>"
      ]
     },
     "metadata": {},
     "output_type": "display_data"
    }
   ],
   "source": [
    "y_pred = rfr.predict(X_test)\n",
    "plt.figure(figsize=(10, 6))\n",
    "plt.scatter(y_test, y_pred, alpha=0.5, color='b', label='Scatterplot')\n",
    "plt.plot([min(y_test), max(y_test)], [min(y_test), max(y_test)], color='red', linestyle='--',\n",
    "         linewidth=2, label='Prédiction Parfaite')\n",
    "plt.xlabel('Valeurs Réelles')\n",
    "plt.ylabel('Prédictions')\n",
    "plt.legend(loc='upper left')\n",
    "\n",
    "plt.show()\n"
   ]
  },
  {
   "cell_type": "code",
   "execution_count": 137,
   "id": "a85de6d2",
   "metadata": {},
   "outputs": [
    {
     "data": {
      "image/png": "[encoded data removed]",
      "text/plain": [
       "<Figure size 576x432 with 1 Axes>"
      ]
     },
     "metadata": {},
     "output_type": "display_data"
    }
   ],
   "source": [
    "plt.figure(figsize=(8, 6))\n",
    "y_pred = rfr.predict(X_test)\n",
    "histo_erreur = np.abs(y_test - y_pred)\n",
    "plt.hist(histo_erreur, bins= 50)\n",
    "plt.show()"
   ]
  },
  {
   "cell_type": "markdown",
   "id": "8ccbeec2",
   "metadata": {},
   "source": [
    "#### Courbe d'apprentissage du modèle GradientBoost"
   ]
  },
  {
   "cell_type": "code",
   "execution_count": 138,
   "id": "b71fc6dc",
   "metadata": {},
   "outputs": [
    {
     "data": {
      "image/png": "[encoded data removed]",
      "text/plain": [
       "<Figure size 720x432 with 1 Axes>"
      ]
     },
     "metadata": {},
     "output_type": "display_data"
    }
   ],
   "source": [
    "N,train_score,val_score = learning_curve(gboost,X_train,y_train,train_sizes = np.linspace(0.1,1.0,10))\n",
    "plt.figure(figsize=(10, 6))\n",
    "plt.plot(N,train_score.mean(axis=1),label='train')\n",
    "plt.plot(N,val_score.mean(axis=1), label='validation')\n",
    "plt.xlabel('train_sizes')\n",
    "plt.title(\"Courbe d'apprentissage\", size = 14)\n",
    "plt.legend()\n",
    "plt.show()"
   ]
  },
  {
   "cell_type": "markdown",
   "id": "b884a679",
   "metadata": {},
   "source": [
    "#### Courbe de validation du modèle GradientBoost"
   ]
  },
  {
   "cell_type": "code",
   "execution_count": 139,
   "id": "4b96a05c",
   "metadata": {},
   "outputs": [],
   "source": [
    "param_range = [50, 100, 150, 200, 250]  \n",
    "train_scores, test_scores = validation_curve(\n",
    "    gboost,  \n",
    "    X_train, y_train,\n",
    "    param_name=\"n_estimators\",  \n",
    "    param_range=param_range,\n",
    "    cv=5,  \n",
    "    scoring=\"r2\",  \n",
    "    n_jobs=-1  \n",
    ")\n"
   ]
  },
  {
   "cell_type": "code",
   "execution_count": 140,
   "id": "bca5d2ce",
   "metadata": {},
   "outputs": [],
   "source": [
    "train_scores_mean = np.mean(train_scores, axis=1)\n",
    "train_scores_std = np.std(train_scores, axis=1)\n",
    "test_scores_mean = np.mean(test_scores, axis=1)\n",
    "test_scores_std = np.std(test_scores, axis=1)\n"
   ]
  },
  {
   "cell_type": "code",
   "execution_count": 141,
   "id": "f222c712",
   "metadata": {
    "scrolled": false
   },
   "outputs": [
    {
     "data": {
      "image/png": "[encoded data removed]",
      "text/plain": [
       "<Figure size 720x432 with 1 Axes>"
      ]
     },
     "metadata": {},
     "output_type": "display_data"
    }
   ],
   "source": [
    "plt.figure(figsize=(10, 6))\n",
    "plt.title(\"VCourbe de validation avec RandomForestRegressor\")\n",
    "plt.xlabel(\"Number of Estimators\")\n",
    "plt.ylabel(\"R-squared\")\n",
    "plt.ylim(0.0, 1.1)\n",
    "plt.grid()\n",
    "\n",
    "plt.fill_between(param_range, train_scores_mean - train_scores_std, train_scores_mean + train_scores_std, alpha=0.2, color=\"b\")\n",
    "plt.fill_between(param_range, test_scores_mean - test_scores_std, test_scores_mean + test_scores_std, alpha=0.2, color=\"r\")\n",
    "plt.plot(param_range, train_scores_mean, 'o-', color=\"b\", label=\"Training Score\")\n",
    "plt.plot(param_range, test_scores_mean, 'o-', color=\"r\", label=\"Cross-Validation Score\")\n",
    "\n",
    "plt.legend(loc=\"best\")\n",
    "plt.show()\n"
   ]
  },
  {
   "cell_type": "code",
   "execution_count": 142,
   "id": "4a24963c",
   "metadata": {},
   "outputs": [
    {
     "data": {
      "image/png": "[encoded data removed]",
      "text/plain": [
       "<Figure size 720x432 with 1 Axes>"
      ]
     },
     "metadata": {},
     "output_type": "display_data"
    }
   ],
   "source": [
    "y_pred = gboost.predict(X_test)\n",
    "plt.figure(figsize=(10, 6))\n",
    "plt.scatter(y_test, y_pred, alpha=0.5, color='b', label='Scatterplot')\n",
    "plt.plot([min(y_test), max(y_test)], [min(y_test), max(y_test)], color='red', linestyle='--',\n",
    "         linewidth=2, label='Prédiction Parfaite')\n",
    "plt.xlabel('Valeurs Réelles')\n",
    "plt.ylabel('Prédictions')\n",
    "plt.legend(loc='upper left')\n",
    "\n",
    "plt.show()\n"
   ]
  },
  {
   "cell_type": "markdown",
   "id": "3de6b1ca",
   "metadata": {},
   "source": [
    "#### Features importance"
   ]
  },
  {
   "cell_type": "code",
   "execution_count": 143,
   "id": "407e488b",
   "metadata": {},
   "outputs": [],
   "source": [
    "feature_importance_rf = rfr.feature_importances_"
   ]
  },
  {
   "cell_type": "code",
   "execution_count": 144,
   "id": "fa4962de",
   "metadata": {},
   "outputs": [
    {
     "data": {
      "image/png": "[encoded data removed]",
      "text/plain": [
       "<Figure size 864x432 with 1 Axes>"
      ]
     },
     "metadata": {},
     "output_type": "display_data"
    }
   ],
   "source": [
    "importance_df = pd.DataFrame({'Feature': X_train.columns, 'RandomForest': feature_importance_rf})\n",
    "\n",
    "importance_df.sort_values(by='RandomForest', ascending=False, inplace=True)\n",
    "\n",
    "bar_width = 0.35\n",
    "index = np.arange(len(importance_df))\n",
    "\n",
    "plt.figure(figsize=(12, 6))\n",
    "plt.bar(index, importance_df['RandomForest'], bar_width, label='RandomForest', alpha=0.7)\n",
    "plt.xticks(index + bar_width / 2, importance_df['Feature'], rotation=90)\n",
    "plt.xlabel('Feature')\n",
    "plt.ylabel('Importance')\n",
    "plt.legend()\n",
    "plt.title('Feature Importance Comparison')\n",
    "plt.tight_layout()\n",
    "plt.show()"
   ]
  },
  {
   "cell_type": "code",
   "execution_count": 145,
   "id": "58baee7e",
   "metadata": {},
   "outputs": [
    {
     "data": {
      "text/plain": [
       "PropertyGFATotal          47.637218\n",
       "SourceEUI(kBtu/sf)        37.543973\n",
       "OSEBuildingID              2.704614\n",
       "NumberofFloors             2.173011\n",
       "YearBuilt                  2.137972\n",
       "Latitude                   1.750812\n",
       "PrimaryPropertyType        1.435053\n",
       "Longitude                  1.303182\n",
       "LargestPropertyUseType     0.985519\n",
       "NumberofBuildings          0.911492\n",
       "Neighborhood               0.776226\n",
       "CouncilDistrictCode        0.511167\n",
       "BuildingType               0.093377\n",
       "SteamUse(kBtu)             0.036384\n",
       "DataYear                   0.000000\n",
       "dtype: float64"
      ]
     },
     "execution_count": 145,
     "metadata": {},
     "output_type": "execute_result"
    }
   ],
   "source": [
    "pd.Series(rfr.feature_importances_*100, index=X_train.columns).nlargest(20)"
   ]
  },
  {
   "cell_type": "code",
   "execution_count": 146,
   "id": "2182886a",
   "metadata": {},
   "outputs": [
    {
     "data": {
      "image/png": "[encoded data removed]",
      "text/plain": [
       "<Figure size 576x432 with 1 Axes>"
      ]
     },
     "metadata": {},
     "output_type": "display_data"
    }
   ],
   "source": [
    "plt.figure(figsize=(8, 6))\n",
    "y_pred = rfr.predict(X_test)\n",
    "histo_erreur = np.abs(y_test - y_pred)\n",
    "plt.hist(histo_erreur, bins= 50)\n",
    "plt.show()"
   ]
  },
  {
   "cell_type": "code",
   "execution_count": 147,
   "id": "0adc0b87",
   "metadata": {},
   "outputs": [
    {
     "data": {
      "image/png": "[encoded data removed]",
      "text/plain": [
       "<Figure size 576x432 with 1 Axes>"
      ]
     },
     "metadata": {},
     "output_type": "display_data"
    }
   ],
   "source": [
    "plt.figure(figsize=(8, 6))\n",
    "y_pred = gboost.predict(X_test)\n",
    "histo_erreur = np.abs(y_test - y_pred)\n",
    "plt.hist(histo_erreur, bins= 50)\n",
    "plt.show()"
   ]
  }
 ],
 "metadata": {
  "kernelspec": {
   "display_name": "Python 3 (ipykernel)",
   "language": "python",
   "name": "python3"
  },
  "language_info": {
   "codemirror_mode": {
    "name": "ipython",
    "version": 3
   },
   "file_extension": ".py",
   "mimetype": "text/x-python",
   "name": "python",
   "nbconvert_exporter": "python",
   "pygments_lexer": "ipython3",
   "version": "3.9.12"
  },
  "toc": {
   "base_numbering": 1,
   "nav_menu": {},
   "number_sections": true,
   "sideBar": true,
   "skip_h1_title": false,
   "title_cell": "Table of Contents",
   "title_sidebar": "Contents",
   "toc_cell": false,
   "toc_position": {
    "height": "calc(100% - 180px)",
    "left": "10px",
    "top": "150px",
    "width": "384px"
   },
   "toc_section_display": true,
   "toc_window_display": true
  }
 },
 "nbformat": 4,
 "nbformat_minor": 5
}
